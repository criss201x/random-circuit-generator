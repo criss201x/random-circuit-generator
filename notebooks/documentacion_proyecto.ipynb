{
 "cells": [
  {
   "cell_type": "markdown",
   "id": "fbae3d4a-8f2e-41d9-aa92-b09dd42d1942",
   "metadata": {},
   "source": [
    "# **Generador Aleatorio de Diagramas de Circuitos Resistivos** \n",
    "#### By: Cristian Alape, Alvaro Zarabanda, Youssef Ortiz "
   ]
  },
  {
   "cell_type": "markdown",
   "id": "8887ac77-0425-4a87-9b65-b14a93b025f5",
   "metadata": {},
   "source": [
    "## *Primera actividad*"
   ]
  },
  {
   "cell_type": "markdown",
   "id": "c7c87802-a4a3-4dd5-a4e8-aed2990c3e18",
   "metadata": {},
   "source": [
    "Conociendo los conceptos de las leyes de Kirchhoff y el concepto de malla. A través de un código que lo genere, obtener el diagrama de un circuito aleatorio de una malla, que solo tiene cuatro elementos:"
   ]
  },
  {
   "cell_type": "markdown",
   "id": "f31a46d8-1290-4e5e-8dd8-a2d6fcb90714",
   "metadata": {},
   "source": [
    "$X = \\left[ 2,3,4,5 \\right]$ "
   ]
  },
  {
   "cell_type": "markdown",
   "id": "cd4f0446-5b22-4324-ad13-a4c0c5f9ba24",
   "metadata": {},
   "source": [
    "$P = \\left[ \\frac{1}{4},\\frac{1}{4},\\frac{1}{4},\\frac{1}{4} \\right]$"
   ]
  },
  {
   "cell_type": "markdown",
   "id": "bef038b6-b9b2-4b3f-8594-393e50c1523a",
   "metadata": {},
   "source": [
    "$H = va(x, p, 2, 1)$"
   ]
  },
  {
   "cell_type": "markdown",
   "id": "91ef9195-4b5b-401f-b51f-2ade10850d1e",
   "metadata": {},
   "source": [
    "$V = va(x, p, 2, 1)$"
   ]
  },
  {
   "cell_type": "markdown",
   "id": "d61cd83f-922f-4d1b-92af-4e7620c2af57",
   "metadata": {},
   "source": [
    "Determinar matemáticamente el valor de la probabilidad de que el circuito generado cumpla con las leyes de Kirchhoff, si se considera que los parámetros de los elementos son distintos. Luego, validen dicho resultado por medio de una simulación.\n",
    "\n",
    "Para determinar estas probabilidades inicialmente, según la naturaleza de las leyes de Kirchhoff se evalúan dos criterios de invalidez para diagramas de circuitos resistivos de una malla "
   ]
  },
  {
   "cell_type": "markdown",
   "id": "a45fa7b2-b2ca-4b0b-bb05-44df27a054b0",
   "metadata": {},
   "source": [
    "### **Criterio 1**: cuando hay más de una fuente de corriente en el circuito de una malla "
   ]
  },
  {
   "cell_type": "markdown",
   "id": "ad380cb3-a60c-4d72-9fbb-49077ffb025c",
   "metadata": {},
   "source": [
    "cuando se tiene una fuente de corriente en un circuito de una sola malla (es decir, conectada en serie), la fuente de corriente debe tener el mismo valor y dirección de corriente para que el circuito sea físicamente consistente, todos los componentes están conectados en serie. Esto significa que la misma corriente fluye a través de cada componente del circuito.\n",
    "\n",
    "Si se intentara imponer una segunda fuente de corriente, por ejemplo, una de 2 amperios, y otra fuente en serie de 3 amperios en la misma dirección, esto es físicamente imposible. La corriente en un circuito en serie debe ser la misma en todos los puntos."
   ]
  },
  {
   "cell_type": "markdown",
   "id": "f9cc0772-a9b4-4290-87ec-f36f59acb4b4",
   "metadata": {},
   "source": [
    "### **Criterio 2**: cuando hay solo voltajes (4) y cortos (2) "
   ]
  },
  {
   "cell_type": "markdown",
   "id": "dd43f29c-2ca7-41f1-9bcb-b622bcea03cc",
   "metadata": {},
   "source": [
    "En un circuito de una malla no todos sus elementos pueden ser cortocircuitos porque esto eliminaría la función del circuito, además, La Ley de Voltajes de Kirchhoff (LVK) establece que la suma algebraica de todas las diferencias de potencial alrededor de cualquier lazo cerrado debe ser igual a cero. Si se tiene una fuente de voltaje (V) en la malla y todos los demás elementos son cortocircuitos (con una caída de voltaje idealmente cero), la ecuación de la LVK sería:"
   ]
  },
  {
   "cell_type": "markdown",
   "id": "c612e4d8-76b0-4fef-8709-403d73e7e1da",
   "metadata": {},
   "source": [
    "$V - 0 - 0 - ... - 0 = 0 $"
   ]
  },
  {
   "cell_type": "markdown",
   "id": "2dfa0e15-a5c4-4bb3-bf93-023870a65442",
   "metadata": {},
   "source": [
    "$V = 0$"
   ]
  },
  {
   "cell_type": "markdown",
   "id": "198cce3c-56a7-4f0d-bf25-7030c5f9f50c",
   "metadata": {},
   "source": [
    "Esto implica que la fuente de voltaje debe ser cero, lo cual contradice la existencia de una fuente de voltaje activa. "
   ]
  },
  {
   "cell_type": "markdown",
   "id": "68163de3-37d3-45b2-ad73-f67331552d6b",
   "metadata": {},
   "source": [
    "### Procedimiento para generar los circuitos aleatorios  "
   ]
  },
  {
   "cell_type": "markdown",
   "id": "e3b771ea-540d-497e-a3b9-f8f9626a6fa2",
   "metadata": {},
   "source": [
    "Inicialmente se define la función va(x,p,m,n) la cual recibe los siguientes parámetros:\n",
    "- **x**: el conjunto de datos de la matriz según los números asignados a los diferentes elementos del circuito resistivo \n",
    "- **p**:  distribuciones de probabilidad sobre el conjunto de valores el x. cada elemento de p representa la probabilidad de que cada elemento de x sea seleccionado en el circuito.\n",
    "- **m**: filas de la matriz de entrada\n",
    "- **n**:  columnas de la matriz de entrada  "
   ]
  },
  {
   "cell_type": "markdown",
   "id": "8331b9c6-210c-4935-a2d7-b04debb79ec0",
   "metadata": {},
   "source": [
    "El objetivo de esta función es realizar un muestreo aleatorio con los elementos de x. Esto significa que cada vez que se selecciona un elemento para la matriz, se hace de forma independiente según las probabilidades definidas en p.  \n",
    "\n",
    "La probabilidad de seleccionar un valor específico de x es siempre la misma, independientemente de las selecciones anteriores. Por lo tanto, esta función implementa un proceso para generar realizaciones de matrices aleatorias basadas en una distribución de probabilidad discreta dada. \n",
    "\n",
    "Una vez definida la función va, que genera las matrices de forma aleatoria, se definen 100000 experimentos aleatorios en la simulación donde se generan las matrices del circuito generado en cada iteración. "
   ]
  },
  {
   "cell_type": "markdown",
   "id": "0c56fbed-cfa6-487d-a4d3-f4fe365e4c13",
   "metadata": {},
   "source": [
    "### Experimento aleatorio"
   ]
  },
  {
   "cell_type": "markdown",
   "id": "ad450ec9-393b-4769-9df5-f4f5cd8c8e04",
   "metadata": {},
   "source": [
    "Este consiste en realizar cuatro extracciones independientes de la lista de elementos del circuito $(x = [2, 3, 4, 5])$, donde cada número corresponde a un elemento y tiene una probabilidad de $(p = 0.25)$ de ser seleccionado. Estas cuatro extracciones se obtienen combinando los elementos de dos matrices $(H)$ y $(V)$, cada una de dimensión $(1 \\times 2)$, generadas por la función va. "
   ]
  },
  {
   "cell_type": "markdown",
   "id": "2b4e3d08-6a77-4b0a-b73c-e56960e6bed1",
   "metadata": {},
   "source": [
    "### Espacio muestral"
   ]
  },
  {
   "cell_type": "markdown",
   "id": "66b1129e-8d08-41c0-bf42-59e3c0abe843",
   "metadata": {},
   "source": [
    "El espacio muestral $(\\Omega)$ de este experimento consiste en todas las posibles combinaciones de elementos del circuito definidos como: $({2, 3, 4, 5})$. El tamaño del espacio muestral es $(|\\Omega| = 4^4 = 256)$, ya que cada una de las cuatro posiciones puede tomar uno de los cuatro valores posibles. Se asume que cada una de estas 256 secuencias es equiprobable, con una probabilidad de $((0.25)^4 = \\frac{1}{256})$. "
   ]
  },
  {
   "cell_type": "markdown",
   "id": "095fb7fe-ba72-4050-8396-64d9c63d9097",
   "metadata": {},
   "source": [
    "### Probabilidades en criterio 1  "
   ]
  },
  {
   "cell_type": "markdown",
   "id": "78e9476b-8412-4896-8626-5bc57c44fef6",
   "metadata": {},
   "source": [
    "- SI aparecen dos fuentes de corriente hay $(\\binom{4}{2} = 6)$ formas de elegir las dos posiciones donde aparece. Las otras dos posiciones pueden tomar cualquiera de los otros 3 elementos $(({2, 3, 4}))$. Por lo tanto, hay $(6 \\times 3^2 = 54)$ secuencias donde la fuente de corriente aparece exactamente dos veces.\n",
    "- Si aparecen tres fuentes de corriente hay $(\\binom{4}{3} = 4)$ formas de elegir las tres posiciones donde aparece. La otra posición puede tomar cualquiera de los otros 3 valores. Por lo tanto, hay $(4 \\times 3^1 = 12)$ secuencias donde la fuente de corriente aparece exactamente tres veces.\n",
    "- Si aparecen cuatro fuentes de corriente hay $(\\binom{4}{4} = 1)$ forma de que aparezca en las cuatro posiciones (la secuencia es $[5, 5, 5, 5]$)"
   ]
  },
  {
   "cell_type": "markdown",
   "id": "04978333-4419-402e-8b0d-5cb92f7aa1b6",
   "metadata": {},
   "source": [
    "El número total de secuencias que cumplen la Condición 1 es $(54 + 12 + 1 = 67)$. La probabilidad teórica de la Condición 1 es, por lo tanto, $(\\frac{67}{256})$. "
   ]
  },
  {
   "cell_type": "markdown",
   "id": "17ba4baf-3523-4a6c-9c72-7a65cf56b3d9",
   "metadata": {},
   "source": [
    "### Probabilidades criterio 2  "
   ]
  },
  {
   "cell_type": "markdown",
   "id": "6483a6c8-ffe6-44c7-9f30-f1e140251e95",
   "metadata": {},
   "source": [
    "Cuando todos los elementos son cortocircuitos o fuentes de voltaje, si consideramos que estos elementos hay $(2^4 = 16)$ secuencias de este tipo de elementos. Por lo tanto, hay $(16 - 1 = 15)$ secuencias que cumplen la Condición 2, por lo tanto, $(\\frac{15}{256})$. "
   ]
  },
  {
   "cell_type": "markdown",
   "id": "358bcb84-bf5a-419b-8e5e-9d3f80f052ea",
   "metadata": {},
   "source": [
    "### Probabilidad Teórica Total "
   ]
  },
  {
   "cell_type": "markdown",
   "id": "490efebf-f870-4f63-a3e4-ad356757c408",
   "metadata": {},
   "source": [
    "Se define teorico_total = teorico_1 + teorico_2. Esto es demustra porque las dos condiciones son mutuamente excluyentes. Si la Condición 1 se cumple (la fuente de corriente aparece al menos dos veces), entonces la Condición 2 no puede cumplirse (ya que la Condición 2 requiere que todos los elementos sean cortocircuitos o fuentes de voltaje). \n",
    "\n",
    "Por lo tanto, la probabilidad teórica de que se cumpla la Condición 1 o la Condición 2 es: $[P(\\text{Condición 1 o Condición 2}) = P(\\text{Condición 1}) + P(\\text{Condición 2}) = \\frac{67}{256} + \\frac{15}{256} = \\frac{82}{256} = \\frac{41}{128}]$ "
   ]
  },
  {
   "cell_type": "markdown",
   "id": "f575fadd-52e1-41ca-8239-a7eaa6baf15b",
   "metadata": {},
   "source": [
    "### Resultados Experimentales "
   ]
  },
  {
   "cell_type": "markdown",
   "id": "30f4ddf4-313e-40f3-b01d-06fc8ba9662f",
   "metadata": {},
   "source": [
    "La simulación corre el experimento aleatorio 100,000 veces. Las variables almacenan las frecuencias relativas con las que se cumplen la Condición 1 y la Condición 2, respectivamente. Según la Ley de los Grandes Números, a medida que el número de experimentos aumenta, estas frecuencias relativas deberían aproximarse a las probabilidades teóricas correspondientes. \n",
    "- fr_1 debería ser aproximadamente igual a teorico_1 $((\\frac{67}{256} \\approx 0.2617))$.\n",
    "- fr_2 debería ser aproximadamente igual a teorico_2 $((\\frac{15}{256} \\approx 0.0586))$.\n",
    "- fr_total debería ser aproximadamente igual a teorico_total $((\\frac{82}{256} \\approx 0.3203))$. "
   ]
  },
  {
   "cell_type": "code",
   "execution_count": null,
   "id": "1e8f31be-60ff-4545-a732-614f550a517c",
   "metadata": {},
   "outputs": [],
   "source": []
  },
  {
   "cell_type": "code",
   "execution_count": null,
   "id": "f564f031-e018-4cb0-97e7-d2b681522a11",
   "metadata": {},
   "outputs": [],
   "source": []
  },
  {
   "cell_type": "code",
   "execution_count": null,
   "id": "01cfe0be-2e6a-417e-a96b-b6632fcf96ac",
   "metadata": {},
   "outputs": [],
   "source": []
  },
  {
   "cell_type": "code",
   "execution_count": 11,
   "id": "bbbb8b77-320c-4a58-ac35-2cb682918367",
   "metadata": {
    "jupyter": {
     "source_hidden": true
    }
   },
   "outputs": [
    {
     "data": {
      "image/svg+xml": [
       "<?xml version=\"1.0\" encoding=\"UTF-8\" standalone=\"no\"?>\n",
       "<!DOCTYPE svg PUBLIC \"-//W3C//DTD SVG 1.1//EN\"\n",
       " \"http://www.w3.org/Graphics/SVG/1.1/DTD/svg11.dtd\">\n",
       "<!-- Generated by graphviz version 2.43.0 (0)\n",
       " -->\n",
       "<!-- Title: LoopValidation Pages: 1 -->\n",
       "<svg width=\"720pt\" height=\"383pt\"\n",
       " viewBox=\"0.00 0.00 720.00 382.61\" xmlns=\"http://www.w3.org/2000/svg\" xmlns:xlink=\"http://www.w3.org/1999/xlink\">\n",
       "<g id=\"graph0\" class=\"graph\" transform=\"scale(0.63 0.63) rotate(0) translate(4 607.69)\">\n",
       "<title>LoopValidation</title>\n",
       "<polygon fill=\"#f8f9fa\" stroke=\"transparent\" points=\"-4,4 -4,-607.69 1147.1,-607.69 1147.1,4 -4,4\"/>\n",
       "<g id=\"clust1\" class=\"cluster\">\n",
       "<title>cluster_x</title>\n",
       "<path fill=\"#fff3bf\" stroke=\"#ffd43b\" d=\"M214.1,-203.22C214.1,-203.22 624.1,-203.22 624.1,-203.22 630.1,-203.22 636.1,-209.22 636.1,-215.22 636.1,-215.22 636.1,-396.69 636.1,-396.69 636.1,-402.69 630.1,-408.69 624.1,-408.69 624.1,-408.69 214.1,-408.69 214.1,-408.69 208.1,-408.69 202.1,-402.69 202.1,-396.69 202.1,-396.69 202.1,-215.22 202.1,-215.22 202.1,-209.22 208.1,-203.22 214.1,-203.22\"/>\n",
       "<text text-anchor=\"middle\" x=\"419.1\" y=\"-393.49\" font-family=\"Helvetica,sans-Serif\" font-size=\"14.00\">más de una fuente de corriente</text>\n",
       "</g>\n",
       "<g id=\"clust2\" class=\"cluster\">\n",
       "<title>cluster_y</title>\n",
       "<path fill=\"#ffdeeb\" stroke=\"#f06595\" d=\"M743.1,-96.74C743.1,-96.74 1123.1,-96.74 1123.1,-96.74 1129.1,-96.74 1135.1,-102.74 1135.1,-108.74 1135.1,-108.74 1135.1,-528.69 1135.1,-528.69 1135.1,-534.69 1129.1,-540.69 1123.1,-540.69 1123.1,-540.69 743.1,-540.69 743.1,-540.69 737.1,-540.69 731.1,-534.69 731.1,-528.69 731.1,-528.69 731.1,-108.74 731.1,-108.74 731.1,-102.74 737.1,-96.74 743.1,-96.74\"/>\n",
       "<text text-anchor=\"middle\" x=\"933.1\" y=\"-525.49\" font-family=\"Helvetica,sans-Serif\" font-size=\"14.00\">cuando hay solo fuente_voltaje y cortos</text>\n",
       "</g>\n",
       "<!-- Start -->\n",
       "<g id=\"node1\" class=\"node\">\n",
       "<title>Start</title>\n",
       "<ellipse fill=\"none\" stroke=\"#2b8a3e\" cx=\"110.1\" cy=\"-229.22\" rx=\"84.29\" ry=\"37.45\"/>\n",
       "<text text-anchor=\"middle\" x=\"110.1\" y=\"-240.52\" font-family=\"Times,serif\" font-size=\"14.00\">INICIO</text>\n",
       "<text text-anchor=\"middle\" x=\"110.1\" y=\"-225.52\" font-family=\"Times,serif\" font-size=\"14.00\">Inicializar:</text>\n",
       "<text text-anchor=\"middle\" x=\"110.1\" y=\"-210.52\" font-family=\"Times,serif\" font-size=\"14.00\">x=0, y=0, i=0</text>\n",
       "</g>\n",
       "<!-- Loop -->\n",
       "<g id=\"node2\" class=\"node\">\n",
       "<title>Loop</title>\n",
       "<polygon fill=\"#e9ecef\" stroke=\"#495057\" stroke-width=\"1.5\" points=\"694.6,-140.74 613.6,-140.74 613.6,-104.74 694.6,-104.74 694.6,-140.74\"/>\n",
       "<text text-anchor=\"middle\" x=\"654.1\" y=\"-125.94\" font-family=\"Helvetica,sans-Serif\" font-size=\"11.00\">Bucle While</text>\n",
       "<text text-anchor=\"middle\" x=\"654.1\" y=\"-113.94\" font-family=\"Helvetica,sans-Serif\" font-size=\"11.00\">i &lt; 100000</text>\n",
       "</g>\n",
       "<!-- Start&#45;&gt;Loop -->\n",
       "<g id=\"edge1\" class=\"edge\">\n",
       "<title>Start&#45;&gt;Loop</title>\n",
       "<path fill=\"none\" stroke=\"black\" d=\"M168.09,-201.84C177.96,-198.03 188.22,-194.48 198.1,-191.74 341.93,-151.86 518.17,-134 603.29,-127.24\"/>\n",
       "<polygon fill=\"black\" stroke=\"black\" points=\"603.76,-130.71 613.46,-126.45 603.22,-123.73 603.76,-130.71\"/>\n",
       "</g>\n",
       "<!-- GenArray -->\n",
       "<g id=\"node3\" class=\"node\">\n",
       "<title>GenArray</title>\n",
       "<polygon fill=\"#d0ebff\" stroke=\"#1c7ed6\" stroke-width=\"1.5\" points=\"321.6,-44.87 156.6,-44.87 156.6,-8.87 321.6,-8.87 321.6,-44.87\"/>\n",
       "<text text-anchor=\"middle\" x=\"239.1\" y=\"-30.07\" font-family=\"Helvetica,sans-Serif\" font-size=\"11.00\">Generar array aleatorio</text>\n",
       "<text text-anchor=\"middle\" x=\"239.1\" y=\"-18.07\" font-family=\"Helvetica,sans-Serif\" font-size=\"11.00\">(de elementos del circuito)</text>\n",
       "</g>\n",
       "<!-- Loop&#45;&gt;GenArray -->\n",
       "<g id=\"edge2\" class=\"edge\">\n",
       "<title>Loop&#45;&gt;GenArray</title>\n",
       "<path fill=\"none\" stroke=\"black\" d=\"M613.55,-112.57C546.88,-97.49 412.7,-67.14 324.39,-47.16\"/>\n",
       "<polygon fill=\"black\" stroke=\"black\" points=\"324.92,-43.69 314.39,-44.9 323.37,-50.52 324.92,-43.69\"/>\n",
       "<text text-anchor=\"middle\" x=\"509.6\" y=\"-75.54\" font-family=\"Times,serif\" font-size=\"14.00\">i++</text>\n",
       "</g>\n",
       "<!-- End -->\n",
       "<g id=\"node10\" class=\"node\">\n",
       "<title>End</title>\n",
       "<ellipse fill=\"none\" stroke=\"#c92a2a\" cx=\"654.1\" cy=\"-26.87\" rx=\"73.58\" ry=\"26.74\"/>\n",
       "<text text-anchor=\"middle\" x=\"654.1\" y=\"-30.67\" font-family=\"Times,serif\" font-size=\"14.00\">FIN</text>\n",
       "<text text-anchor=\"middle\" x=\"654.1\" y=\"-15.67\" font-family=\"Times,serif\" font-size=\"14.00\">Mostrar x, y</text>\n",
       "</g>\n",
       "<!-- Loop&#45;&gt;End -->\n",
       "<g id=\"edge14\" class=\"edge\">\n",
       "<title>Loop&#45;&gt;End</title>\n",
       "<path fill=\"none\" stroke=\"black\" d=\"M654.1,-104.52C654.1,-93.22 654.1,-78.01 654.1,-64.12\"/>\n",
       "<polygon fill=\"black\" stroke=\"black\" points=\"657.6,-63.84 654.1,-53.84 650.6,-63.84 657.6,-63.84\"/>\n",
       "<text text-anchor=\"middle\" x=\"700.1\" y=\"-75.54\" font-family=\"Times,serif\" font-size=\"14.00\">i &gt;= 100000</text>\n",
       "</g>\n",
       "<!-- Check5 -->\n",
       "<g id=\"node4\" class=\"node\">\n",
       "<title>Check5</title>\n",
       "<polygon fill=\"none\" stroke=\"#ffc300\" points=\"419.1,-377.69 210.1,-347.69 419.1,-317.69 628.1,-347.69 419.1,-377.69\"/>\n",
       "<text text-anchor=\"middle\" x=\"419.1\" y=\"-350.69\" font-family=\"Helvetica,sans-Serif\" font-size=\"10.00\">Contar elementos == fuente_corriente </text>\n",
       "<text text-anchor=\"middle\" x=\"419.1\" y=\"-339.69\" font-family=\"Helvetica,sans-Serif\" font-size=\"10.00\">&gt;= 2 elementos?</text>\n",
       "</g>\n",
       "<!-- GenArray&#45;&gt;Check5 -->\n",
       "<g id=\"edge3\" class=\"edge\">\n",
       "<title>GenArray&#45;&gt;Check5</title>\n",
       "<path fill=\"none\" stroke=\"black\" d=\"M200.96,-44.88C120.3,-83.12 -54.54,-179.39 17.1,-266.69 49.21,-305.82 169.77,-326.17 270.57,-336.52\"/>\n",
       "<polygon fill=\"black\" stroke=\"black\" points=\"270.27,-340.01 280.57,-337.52 270.97,-333.04 270.27,-340.01\"/>\n",
       "</g>\n",
       "<!-- IncX -->\n",
       "<g id=\"node5\" class=\"node\">\n",
       "<title>IncX</title>\n",
       "<polygon fill=\"#b2f2bb\" stroke=\"#40c057\" stroke-width=\"1.5\" points=\"537.1,-247.22 481.1,-247.22 481.1,-211.22 537.1,-211.22 537.1,-247.22\"/>\n",
       "<text text-anchor=\"middle\" x=\"509.1\" y=\"-226.42\" font-family=\"Helvetica,sans-Serif\" font-size=\"11.00\">x += 1</text>\n",
       "</g>\n",
       "<!-- Check5&#45;&gt;IncX -->\n",
       "<g id=\"edge4\" class=\"edge\">\n",
       "<title>Check5&#45;&gt;IncX</title>\n",
       "<path fill=\"none\" stroke=\"black\" d=\"M439.3,-320.55C454.37,-301.04 474.86,-274.53 489.73,-255.28\"/>\n",
       "<polygon fill=\"black\" stroke=\"black\" points=\"492.59,-257.31 495.93,-247.26 487.05,-253.03 492.59,-257.31\"/>\n",
       "<text text-anchor=\"middle\" x=\"473.6\" y=\"-288.49\" font-family=\"Times,serif\" font-size=\"14.00\">Sí</text>\n",
       "</g>\n",
       "<!-- CheckAll24 -->\n",
       "<g id=\"node6\" class=\"node\">\n",
       "<title>CheckAll24</title>\n",
       "<polygon fill=\"none\" stroke=\"#ffc300\" points=\"894.1,-509.69 739.1,-479.69 894.1,-449.69 1049.1,-479.69 894.1,-509.69\"/>\n",
       "<text text-anchor=\"middle\" x=\"894.1\" y=\"-482.69\" font-family=\"Helvetica,sans-Serif\" font-size=\"10.00\">¿Todos elementos</text>\n",
       "<text text-anchor=\"middle\" x=\"894.1\" y=\"-471.69\" font-family=\"Helvetica,sans-Serif\" font-size=\"10.00\">son fuente_voltaje o cortos?</text>\n",
       "</g>\n",
       "<!-- Check5&#45;&gt;CheckAll24 -->\n",
       "<g id=\"edge5\" class=\"edge\">\n",
       "<title>Check5&#45;&gt;CheckAll24</title>\n",
       "<path fill=\"none\" stroke=\"black\" d=\"M466.87,-371.03C508.41,-389.65 570.63,-415.64 627.1,-431.69 680.9,-446.99 742.28,-458.21 792.61,-465.84\"/>\n",
       "<polygon fill=\"black\" stroke=\"black\" points=\"792.12,-469.31 802.53,-467.32 793.15,-462.39 792.12,-469.31\"/>\n",
       "<text text-anchor=\"middle\" x=\"637.6\" y=\"-420.49\" font-family=\"Times,serif\" font-size=\"14.00\">No</text>\n",
       "</g>\n",
       "<!-- IncX&#45;&gt;Loop -->\n",
       "<g id=\"edge12\" class=\"edge\">\n",
       "<title>IncX&#45;&gt;Loop</title>\n",
       "<path fill=\"none\" stroke=\"black\" stroke-dasharray=\"5,2\" d=\"M532.72,-211.2C557.05,-193.67 595.13,-166.23 622.14,-146.77\"/>\n",
       "<polygon fill=\"black\" stroke=\"black\" points=\"624.42,-149.44 630.49,-140.75 620.33,-143.76 624.42,-149.44\"/>\n",
       "</g>\n",
       "<!-- CheckAll24&#45;&gt;Loop -->\n",
       "<g id=\"edge7\" class=\"edge\">\n",
       "<title>CheckAll24&#45;&gt;Loop</title>\n",
       "<path fill=\"none\" stroke=\"black\" stroke-dasharray=\"5,2\" d=\"M826.01,-462.76C793.43,-452.14 755.97,-435.13 730.1,-408.69 659.77,-336.82 652.62,-207.5 653.1,-151.19\"/>\n",
       "<polygon fill=\"black\" stroke=\"black\" points=\"656.61,-151 653.28,-140.94 649.61,-150.88 656.61,-151\"/>\n",
       "<text text-anchor=\"middle\" x=\"680.6\" y=\"-288.49\" font-family=\"Times,serif\" font-size=\"14.00\">No</text>\n",
       "</g>\n",
       "<!-- CheckAny4 -->\n",
       "<g id=\"node7\" class=\"node\">\n",
       "<title>CheckAny4</title>\n",
       "<polygon fill=\"none\" stroke=\"#ffc300\" points=\"903.1,-365.69 739.1,-347.69 903.1,-329.69 1067.1,-347.69 903.1,-365.69\"/>\n",
       "<text text-anchor=\"middle\" x=\"903.1\" y=\"-345.19\" font-family=\"Helvetica,sans-Serif\" font-size=\"10.00\">¿hay almenos una fuente de voltaje?</text>\n",
       "</g>\n",
       "<!-- CheckAll24&#45;&gt;CheckAny4 -->\n",
       "<g id=\"edge6\" class=\"edge\">\n",
       "<title>CheckAll24&#45;&gt;CheckAny4</title>\n",
       "<path fill=\"none\" stroke=\"black\" d=\"M896.1,-449.84C897.62,-427.83 899.71,-397.71 901.2,-376.07\"/>\n",
       "<polygon fill=\"black\" stroke=\"black\" points=\"904.71,-376.12 901.91,-365.91 897.72,-375.64 904.71,-376.12\"/>\n",
       "<text text-anchor=\"middle\" x=\"905.6\" y=\"-420.49\" font-family=\"Times,serif\" font-size=\"14.00\">Sí</text>\n",
       "</g>\n",
       "<!-- CheckAny4&#45;&gt;Loop -->\n",
       "<g id=\"edge9\" class=\"edge\">\n",
       "<title>CheckAny4&#45;&gt;Loop</title>\n",
       "<path fill=\"none\" stroke=\"black\" stroke-dasharray=\"5,2\" d=\"M845.64,-335.87C802.88,-325.06 745.8,-304.44 709.1,-266.69 673.32,-229.9 686.74,-206.56 668.1,-158.74 667.03,-156 665.9,-153.14 664.77,-150.28\"/>\n",
       "<polygon fill=\"black\" stroke=\"black\" points=\"667.95,-148.8 660.99,-140.81 661.45,-151.39 667.95,-148.8\"/>\n",
       "<text text-anchor=\"middle\" x=\"719.6\" y=\"-225.52\" font-family=\"Times,serif\" font-size=\"14.00\">No</text>\n",
       "</g>\n",
       "<!-- CheckAll2 -->\n",
       "<g id=\"node8\" class=\"node\">\n",
       "<title>CheckAll2</title>\n",
       "<polygon fill=\"none\" stroke=\"#ffc300\" points=\"933.1,-247.22 739.16,-229.22 933.1,-211.22 1127.04,-229.22 933.1,-247.22\"/>\n",
       "<text text-anchor=\"middle\" x=\"933.1\" y=\"-226.72\" font-family=\"Helvetica,sans-Serif\" font-size=\"10.00\">¿todos los elementos NO son cortocircuitos?</text>\n",
       "</g>\n",
       "<!-- CheckAny4&#45;&gt;CheckAll2 -->\n",
       "<g id=\"edge8\" class=\"edge\">\n",
       "<title>CheckAny4&#45;&gt;CheckAll2</title>\n",
       "<path fill=\"none\" stroke=\"black\" d=\"M907.4,-330.01C912.32,-310.89 920.45,-279.31 926.25,-256.8\"/>\n",
       "<polygon fill=\"black\" stroke=\"black\" points=\"929.7,-257.43 928.81,-246.87 922.92,-255.69 929.7,-257.43\"/>\n",
       "<text text-anchor=\"middle\" x=\"925.6\" y=\"-288.49\" font-family=\"Times,serif\" font-size=\"14.00\">Sí</text>\n",
       "</g>\n",
       "<!-- CheckAll2&#45;&gt;Loop -->\n",
       "<g id=\"edge11\" class=\"edge\">\n",
       "<title>CheckAll2&#45;&gt;Loop</title>\n",
       "<path fill=\"none\" stroke=\"black\" stroke-dasharray=\"5,2\" d=\"M896.62,-214.56C847.44,-196.14 759.64,-163.26 704.26,-142.52\"/>\n",
       "<polygon fill=\"black\" stroke=\"black\" points=\"705.25,-139.16 694.65,-138.93 702.79,-145.71 705.25,-139.16\"/>\n",
       "<text text-anchor=\"middle\" x=\"795.6\" y=\"-162.54\" font-family=\"Times,serif\" font-size=\"14.00\">No</text>\n",
       "</g>\n",
       "<!-- IncY -->\n",
       "<g id=\"node9\" class=\"node\">\n",
       "<title>IncY</title>\n",
       "<polygon fill=\"#ffc9c9\" stroke=\"#f03e3e\" stroke-width=\"1.5\" points=\"859.1,-140.74 803.1,-140.74 803.1,-104.74 859.1,-104.74 859.1,-140.74\"/>\n",
       "<text text-anchor=\"middle\" x=\"831.1\" y=\"-119.94\" font-family=\"Helvetica,sans-Serif\" font-size=\"11.00\">y += 1</text>\n",
       "</g>\n",
       "<!-- CheckAll2&#45;&gt;IncY -->\n",
       "<g id=\"edge10\" class=\"edge\">\n",
       "<title>CheckAll2&#45;&gt;IncY</title>\n",
       "<path fill=\"none\" stroke=\"black\" d=\"M917.61,-212.35C900.9,-195.24 874.11,-167.8 854.77,-147.98\"/>\n",
       "<polygon fill=\"black\" stroke=\"black\" points=\"857.24,-145.51 847.75,-140.8 852.24,-150.4 857.24,-145.51\"/>\n",
       "<text text-anchor=\"middle\" x=\"885.6\" y=\"-162.54\" font-family=\"Times,serif\" font-size=\"14.00\">Sí</text>\n",
       "</g>\n",
       "<!-- IncY&#45;&gt;Loop -->\n",
       "<g id=\"edge13\" class=\"edge\">\n",
       "<title>IncY&#45;&gt;Loop</title>\n",
       "<path fill=\"none\" stroke=\"black\" stroke-dasharray=\"5,2\" d=\"M802.9,-122.74C770.27,-122.74 737.64,-122.74 705.02,-122.74\"/>\n",
       "<polygon fill=\"black\" stroke=\"black\" points=\"704.89,-119.24 694.89,-122.74 704.89,-126.24 704.89,-119.24\"/>\n",
       "</g>\n",
       "<!-- NoteX -->\n",
       "<g id=\"node11\" class=\"node\">\n",
       "<title>NoteX</title>\n",
       "<polygon fill=\"none\" stroke=\"#1098ad\" points=\"594.6,-497.69 237.6,-497.69 237.6,-461.69 600.6,-461.69 600.6,-491.69 594.6,-497.69\"/>\n",
       "<polyline fill=\"none\" stroke=\"#1098ad\" points=\"594.6,-497.69 594.6,-491.69 \"/>\n",
       "<polyline fill=\"none\" stroke=\"#1098ad\" points=\"600.6,-491.69 594.6,-491.69 \"/>\n",
       "<text text-anchor=\"middle\" x=\"419.1\" y=\"-475.99\" font-family=\"Times,serif\" font-size=\"14.00\">x: condición criterio 1 para circuito de una malla</text>\n",
       "</g>\n",
       "<!-- NoteX&#45;&gt;Check5 -->\n",
       "<!-- NoteY -->\n",
       "<g id=\"node12\" class=\"node\">\n",
       "<title>NoteY</title>\n",
       "<polygon fill=\"none\" stroke=\"#9c36b5\" points=\"1069.6,-603.69 712.6,-603.69 712.6,-567.69 1075.6,-567.69 1075.6,-597.69 1069.6,-603.69\"/>\n",
       "<polyline fill=\"none\" stroke=\"#9c36b5\" points=\"1069.6,-603.69 1069.6,-597.69 \"/>\n",
       "<polyline fill=\"none\" stroke=\"#9c36b5\" points=\"1075.6,-597.69 1069.6,-597.69 \"/>\n",
       "<text text-anchor=\"middle\" x=\"894.1\" y=\"-581.99\" font-family=\"Times,serif\" font-size=\"14.00\">y: condición criterio 2 para circuito de una malla</text>\n",
       "</g>\n",
       "<!-- NoteY&#45;&gt;CheckAll24 -->\n",
       "</g>\n",
       "</svg>\n"
      ],
      "text/plain": [
       "<graphviz.graphs.Digraph at 0x783f6ae21850>"
      ]
     },
     "execution_count": 11,
     "metadata": {},
     "output_type": "execute_result"
    }
   ],
   "source": [
    "from graphviz import Digraph\n",
    "\n",
    "dot = Digraph('LoopValidation', filename='loop_validation.gv')\n",
    "dot.attr(rankdir='TB', size='10,8', bgcolor='#f8f9fa', fontname='Helvetica')\n",
    "\n",
    "# ===== ESTILOS =====\n",
    "node_style = {\n",
    "    'style': 'filled',\n",
    "    'fontname': 'Helvetica',\n",
    "    'fontsize': '11',\n",
    "    'shape': 'box',\n",
    "    'penwidth': '1.5'\n",
    "}\n",
    "\n",
    "cond_style = {\n",
    "    'shape': 'diamond',\n",
    "    'fillcolor': '#ffec99',\n",
    "    'color': '#ffc300',\n",
    "    'fontname': 'Helvetica',\n",
    "    'fontsize': '10'\n",
    "}\n",
    "\n",
    "# ===== NODOS PRINCIPALES =====\n",
    "dot.node('Start', 'INICIO\\nInicializar:\\nx=0, y=0, i=0', \n",
    "         shape='ellipse', fillcolor='#40c057', color='#2b8a3e')\n",
    "\n",
    "dot.node('Loop', 'Bucle While\\ni < 100000', \n",
    "         fillcolor='#e9ecef', color='#495057', **node_style)\n",
    "\n",
    "dot.node('GenArray', 'Generar array aleatorio\\n(de elementos del circuito)', \n",
    "         fillcolor='#d0ebff', color='#1c7ed6', **node_style)\n",
    "\n",
    "# ===== CONDICIÓN X =====\n",
    "with dot.subgraph(name='cluster_x') as x_cluster:\n",
    "    x_cluster.attr(label='más de una fuente de corriente', style='rounded,filled',\n",
    "                  fillcolor='#fff3bf', color='#ffd43b')\n",
    "    \n",
    "    x_cluster.node('Check5', 'Contar elementos == fuente_corriente \\n>= 2 elementos?', **cond_style)\n",
    "    x_cluster.node('IncX', 'x += 1', \n",
    "                  fillcolor='#b2f2bb', color='#40c057', **node_style)\n",
    "\n",
    "# ===== CONDICIÓN Y =====\n",
    "with dot.subgraph(name='cluster_y') as y_cluster:\n",
    "    y_cluster.attr(label='cuando hay solo fuente_voltaje y cortos', style='rounded,filled',\n",
    "                  fillcolor='#ffdeeb', color='#f06595')\n",
    "    \n",
    "    y_cluster.node('CheckAll24', '¿Todos elementos\\nson fuente_voltaje o cortos?', **cond_style)\n",
    "    y_cluster.node('CheckAny4', '¿hay almenos una fuente de voltaje?', **cond_style)\n",
    "    y_cluster.node('CheckAll2', '¿todos los elementos NO son cortocircuitos?', **cond_style)\n",
    "    y_cluster.node('IncY', 'y += 1', \n",
    "                  fillcolor='#ffc9c9', color='#f03e3e', **node_style)\n",
    "\n",
    "dot.node('End', 'FIN\\nMostrar x, y', \n",
    "         shape='ellipse', fillcolor='#fa5252', color='#c92a2a')\n",
    "\n",
    "# ===== CONEXIONES PRINCIPALES =====\n",
    "dot.edge('Start', 'Loop')\n",
    "dot.edge('Loop', 'GenArray', label='i++')\n",
    "dot.edge('GenArray', 'Check5')\n",
    "\n",
    "# Flujo Condición X\n",
    "dot.edge('Check5', 'IncX', label='Sí')\n",
    "dot.edge('Check5', 'CheckAll24', label='No')\n",
    "\n",
    "# Flujo Condición Y\n",
    "dot.edge('CheckAll24', 'CheckAny4', label='Sí')\n",
    "dot.edge('CheckAll24', 'Loop', label='No', style='dashed')\n",
    "dot.edge('CheckAny4', 'CheckAll2', label='Sí')\n",
    "dot.edge('CheckAny4', 'Loop', label='No', style='dashed')\n",
    "dot.edge('CheckAll2', 'IncY', label='Sí')\n",
    "dot.edge('CheckAll2', 'Loop', label='No', style='dashed')\n",
    "\n",
    "# Conexiones finales\n",
    "dot.edge('IncX', 'Loop', style='dashed')\n",
    "dot.edge('IncY', 'Loop', style='dashed')\n",
    "dot.edge('Loop', 'End', label='i >= 100000')\n",
    "\n",
    "# ===== NOTAS =====\n",
    "dot.node('NoteX', 'x: condición criterio 1 para circuito de una malla', \n",
    "         shape='note', fillcolor='#e3fafc', color='#1098ad')\n",
    "dot.node('NoteY', 'y: condición criterio 2 para circuito de una malla', \n",
    "         shape='note', fillcolor='#f3d9fa', color='#9c36b5')\n",
    "\n",
    "dot.edge('NoteX', 'Check5', style='invis')\n",
    "dot.edge('NoteY', 'CheckAll24', style='invis')\n",
    "\n",
    "dot"
   ]
  }
 ],
 "metadata": {
  "kernelspec": {
   "display_name": "Python 3 (ipykernel)",
   "language": "python",
   "name": "python3"
  },
  "language_info": {
   "codemirror_mode": {
    "name": "ipython",
    "version": 3
   },
   "file_extension": ".py",
   "mimetype": "text/x-python",
   "name": "python",
   "nbconvert_exporter": "python",
   "pygments_lexer": "ipython3",
   "version": "3.12.4"
  }
 },
 "nbformat": 4,
 "nbformat_minor": 5
}
