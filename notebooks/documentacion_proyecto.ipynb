{
 "cells": [
  {
   "cell_type": "markdown",
   "id": "fbae3d4a-8f2e-41d9-aa92-b09dd42d1942",
   "metadata": {},
   "source": [
    "# **Generador Aleatorio de Diagramas de Circuitos Resistivos** \n",
    "#### By: Cristian Alape, Alvaro Zarabanda, Youssef Ortiz "
   ]
  },
  {
   "cell_type": "markdown",
   "id": "8887ac77-0425-4a87-9b65-b14a93b025f5",
   "metadata": {},
   "source": [
    "## *Primera actividad*"
   ]
  },
  {
   "cell_type": "markdown",
   "id": "c7c87802-a4a3-4dd5-a4e8-aed2990c3e18",
   "metadata": {},
   "source": [
    "Conociendo los conceptos de las leyes de Kirchhoff y el concepto de malla. A través de un código que lo genere, obtener el diagrama de un circuito aleatorio de una malla, que solo tiene cuatro elementos:"
   ]
  },
  {
   "cell_type": "markdown",
   "id": "f31a46d8-1290-4e5e-8dd8-a2d6fcb90714",
   "metadata": {},
   "source": [
    "$X = \\left[ 2,3,4,5 \\right]$ "
   ]
  },
  {
   "cell_type": "markdown",
   "id": "cd4f0446-5b22-4324-ad13-a4c0c5f9ba24",
   "metadata": {},
   "source": [
    "$P = \\left[ \\frac{1}{4},\\frac{1}{4},\\frac{1}{4},\\frac{1}{4} \\right]$"
   ]
  },
  {
   "cell_type": "markdown",
   "id": "bef038b6-b9b2-4b3f-8594-393e50c1523a",
   "metadata": {},
   "source": [
    "$H = va(x, p, 2, 1)$"
   ]
  },
  {
   "cell_type": "markdown",
   "id": "91ef9195-4b5b-401f-b51f-2ade10850d1e",
   "metadata": {},
   "source": [
    "$V = va(x, p, 2, 1)$"
   ]
  },
  {
   "cell_type": "markdown",
   "id": "d61cd83f-922f-4d1b-92af-4e7620c2af57",
   "metadata": {},
   "source": [
    "Determinar matemáticamente el valor de la probabilidad de que el circuito generado cumpla con las leyes de Kirchhoff, si se considera que los parámetros de los elementos son distintos. Luego, validen dicho resultado por medio de una simulación.\n",
    "\n",
    "Para determinar estas probabilidades inicialmente, según la naturaleza de las leyes de Kirchhoff se evalúan dos criterios de invalidez para diagramas de circuitos resistivos de una malla "
   ]
  },
  {
   "cell_type": "markdown",
   "id": "a45fa7b2-b2ca-4b0b-bb05-44df27a054b0",
   "metadata": {},
   "source": [
    "### **Criterio 1**: cuando hay más de una fuente de corriente en el circuito de una malla "
   ]
  },
  {
   "cell_type": "markdown",
   "id": "ad380cb3-a60c-4d72-9fbb-49077ffb025c",
   "metadata": {},
   "source": [
    "cuando se tiene una fuente de corriente en un circuito de una sola malla (es decir, conectada en serie), la fuente de corriente debe tener el mismo valor y dirección de corriente para que el circuito sea físicamente consistente, todos los componentes están conectados en serie. Esto significa que la misma corriente fluye a través de cada componente del circuito.\n",
    "\n",
    "Si se intentara imponer una segunda fuente de corriente, por ejemplo, una de 2 amperios, y otra fuente en serie de 3 amperios en la misma dirección, esto es físicamente imposible. La corriente en un circuito en serie debe ser la misma en todos los puntos."
   ]
  },
  {
   "cell_type": "markdown",
   "id": "f9cc0772-a9b4-4290-87ec-f36f59acb4b4",
   "metadata": {},
   "source": [
    "### **Criterio 2**: cuando hay solo voltajes (4) y cortos (2) "
   ]
  },
  {
   "cell_type": "markdown",
   "id": "dd43f29c-2ca7-41f1-9bcb-b622bcea03cc",
   "metadata": {},
   "source": [
    "En un circuito de una malla no todos sus elementos pueden ser cortocircuitos porque esto eliminaría la función del circuito, además, La Ley de Voltajes de Kirchhoff (LVK) establece que la suma algebraica de todas las diferencias de potencial alrededor de cualquier lazo cerrado debe ser igual a cero. Si se tiene una fuente de voltaje (V) en la malla y todos los demás elementos son cortocircuitos (con una caída de voltaje idealmente cero), la ecuación de la LVK sería:"
   ]
  },
  {
   "cell_type": "markdown",
   "id": "c612e4d8-76b0-4fef-8709-403d73e7e1da",
   "metadata": {},
   "source": [
    "$V - 0 - 0 - ... - 0 = 0 $"
   ]
  },
  {
   "cell_type": "markdown",
   "id": "2dfa0e15-a5c4-4bb3-bf93-023870a65442",
   "metadata": {},
   "source": [
    "$V = 0$"
   ]
  },
  {
   "cell_type": "markdown",
   "id": "198cce3c-56a7-4f0d-bf25-7030c5f9f50c",
   "metadata": {},
   "source": [
    "Esto implica que la fuente de voltaje debe ser cero, lo cual contradice la existencia de una fuente de voltaje activa. "
   ]
  },
  {
   "cell_type": "markdown",
   "id": "68163de3-37d3-45b2-ad73-f67331552d6b",
   "metadata": {},
   "source": [
    "### Procedimiento para generar los circuitos aleatorios  "
   ]
  },
  {
   "cell_type": "markdown",
   "id": "e3b771ea-540d-497e-a3b9-f8f9626a6fa2",
   "metadata": {},
   "source": [
    "Inicialmente se define la función va(x,p,m,n) la cual recibe los siguientes parámetros:\n",
    "- **x**: el conjunto de datos de la matriz según los números asignados a los diferentes elementos del circuito resistivo \n",
    "- **p**:  distribuciones de probabilidad sobre el conjunto de valores el x. cada elemento de p representa la probabilidad de que cada elemento de x sea seleccionado en el circuito.\n",
    "- **m**: filas de la matriz de entrada\n",
    "- **n**:  columnas de la matriz de entrada  "
   ]
  },
  {
   "cell_type": "markdown",
   "id": "8331b9c6-210c-4935-a2d7-b04debb79ec0",
   "metadata": {},
   "source": [
    "El objetivo de esta función es realizar un muestreo aleatorio con los elementos de x. Esto significa que cada vez que se selecciona un elemento para la matriz, se hace de forma independiente según las probabilidades definidas en p.  \n",
    "\n",
    "La probabilidad de seleccionar un valor específico de x es siempre la misma, independientemente de las selecciones anteriores. Por lo tanto, esta función implementa un proceso para generar realizaciones de matrices aleatorias basadas en una distribución de probabilidad discreta dada. \n",
    "\n",
    "Una vez definida la función va, que genera las matrices de forma aleatoria, se definen 100000 experimentos aleatorios en la simulación donde se generan las matrices del circuito generado en cada iteración. "
   ]
  },
  {
   "cell_type": "markdown",
   "id": "0c56fbed-cfa6-487d-a4d3-f4fe365e4c13",
   "metadata": {},
   "source": [
    "### Experimento aleatorio"
   ]
  },
  {
   "cell_type": "markdown",
   "id": "ad450ec9-393b-4769-9df5-f4f5cd8c8e04",
   "metadata": {},
   "source": [
    "Este consiste en realizar cuatro extracciones independientes de la lista de elementos del circuito $(x = [2, 3, 4, 5])$, donde cada número corresponde a un elemento y tiene una probabilidad de $(p = 0.25)$ de ser seleccionado. Estas cuatro extracciones se obtienen combinando los elementos de dos matrices $(H)$ y $(V)$, cada una de dimensión $(1 \\times 2)$, generadas por la función va. "
   ]
  },
  {
   "cell_type": "markdown",
   "id": "2b4e3d08-6a77-4b0a-b73c-e56960e6bed1",
   "metadata": {},
   "source": [
    "### Espacio muestral"
   ]
  },
  {
   "cell_type": "markdown",
   "id": "66b1129e-8d08-41c0-bf42-59e3c0abe843",
   "metadata": {},
   "source": [
    "El espacio muestral $(\\Omega)$ de este experimento consiste en todas las posibles combinaciones de elementos del circuito definidos como: $({2, 3, 4, 5})$. El tamaño del espacio muestral es $(|\\Omega| = 4^4 = 256)$, ya que cada una de las cuatro posiciones puede tomar uno de los cuatro valores posibles. Se asume que cada una de estas 256 secuencias es equiprobable, con una probabilidad de $((0.25)^4 = \\frac{1}{256})$. "
   ]
  },
  {
   "cell_type": "markdown",
   "id": "095fb7fe-ba72-4050-8396-64d9c63d9097",
   "metadata": {},
   "source": [
    "### Probabilidades en criterio 1  "
   ]
  },
  {
   "cell_type": "markdown",
   "id": "78e9476b-8412-4896-8626-5bc57c44fef6",
   "metadata": {},
   "source": [
    "- SI aparecen dos fuentes de corriente hay $(\\binom{4}{2} = 6)$ formas de elegir las dos posiciones donde aparece. Las otras dos posiciones pueden tomar cualquiera de los otros 3 elementos $(({2, 3, 4}))$. Por lo tanto, hay $(6 \\times 3^2 = 54)$ secuencias donde la fuente de corriente aparece exactamente dos veces.\n",
    "- Si aparecen tres fuentes de corriente hay $(\\binom{4}{3} = 4)$ formas de elegir las tres posiciones donde aparece. La otra posición puede tomar cualquiera de los otros 3 valores. Por lo tanto, hay $(4 \\times 3^1 = 12)$ secuencias donde la fuente de corriente aparece exactamente tres veces.\n",
    "- Si aparecen cuatro fuentes de corriente hay $(\\binom{4}{4} = 1)$ forma de que aparezca en las cuatro posiciones (la secuencia es $[5, 5, 5, 5]$)"
   ]
  },
  {
   "cell_type": "markdown",
   "id": "04978333-4419-402e-8b0d-5cb92f7aa1b6",
   "metadata": {},
   "source": [
    "El número total de secuencias que cumplen la Condición 1 es $(54 + 12 + 1 = 67)$. La probabilidad teórica de la Condición 1 es, por lo tanto, $(\\frac{67}{256})$. "
   ]
  },
  {
   "cell_type": "markdown",
   "id": "17ba4baf-3523-4a6c-9c72-7a65cf56b3d9",
   "metadata": {},
   "source": [
    "### Probabilidades criterio 2  "
   ]
  },
  {
   "cell_type": "markdown",
   "id": "6483a6c8-ffe6-44c7-9f30-f1e140251e95",
   "metadata": {},
   "source": [
    "Cuando todos los elementos son cortocircuitos o fuentes de voltaje, si consideramos que estos elementos hay $(2^4 = 16)$ secuencias de este tipo de elementos. Por lo tanto, hay $(16 - 1 = 15)$ secuencias que cumplen la Condición 2, por lo tanto, $(\\frac{15}{256})$. "
   ]
  },
  {
   "cell_type": "markdown",
   "id": "358bcb84-bf5a-419b-8e5e-9d3f80f052ea",
   "metadata": {},
   "source": [
    "### Probabilidad Teórica Total "
   ]
  },
  {
   "cell_type": "markdown",
   "id": "490efebf-f870-4f63-a3e4-ad356757c408",
   "metadata": {},
   "source": [
    "Se define teorico_total = teorico_1 + teorico_2. Esto es demustra porque las dos condiciones son mutuamente excluyentes. Si la Condición 1 se cumple (la fuente de corriente aparece al menos dos veces), entonces la Condición 2 no puede cumplirse (ya que la Condición 2 requiere que todos los elementos sean cortocircuitos o fuentes de voltaje). \n",
    "\n",
    "Por lo tanto, la probabilidad teórica de que se cumpla la Condición 1 o la Condición 2 es: $[P(\\text{Condición 1 o Condición 2}) = P(\\text{Condición 1}) + P(\\text{Condición 2}) = \\frac{67}{256} + \\frac{15}{256} = \\frac{82}{256} = \\frac{41}{128}]$ "
   ]
  },
  {
   "cell_type": "markdown",
   "id": "f575fadd-52e1-41ca-8239-a7eaa6baf15b",
   "metadata": {},
   "source": [
    "### Resultados Experimentales "
   ]
  },
  {
   "cell_type": "markdown",
   "id": "30f4ddf4-313e-40f3-b01d-06fc8ba9662f",
   "metadata": {},
   "source": [
    "La simulación corre el experimento aleatorio 100,000 veces. Las variables almacenan las frecuencias relativas con las que se cumplen la Condición 1 y la Condición 2, respectivamente. Según la Ley de los Grandes Números, a medida que el número de experimentos aumenta, estas frecuencias relativas deberían aproximarse a las probabilidades teóricas correspondientes. \n",
    "- fr_1 debería ser aproximadamente igual a teorico_1 $((\\frac{67}{256} \\approx 0.2617))$.\n",
    "- fr_2 debería ser aproximadamente igual a teorico_2 $((\\frac{15}{256} \\approx 0.0586))$.\n",
    "- fr_total debería ser aproximadamente igual a teorico_total $((\\frac{82}{256} \\approx 0.3203))$. "
   ]
  },
  {
   "cell_type": "markdown",
   "id": "f13df4e8-9bee-4974-a53f-f45ffa92cf52",
   "metadata": {},
   "source": [
    "### Diagramas de flujo previo al codigo"
   ]
  },
  {
   "cell_type": "markdown",
   "id": "384a984b-6421-4480-9eb5-26ccbb0bdb87",
   "metadata": {},
   "source": [
    "#### Función generadora de elementos aleatorios "
   ]
  },
  {
   "cell_type": "code",
   "execution_count": 4,
   "id": "7155fadc-07d0-4720-8c80-b976bb612686",
   "metadata": {},
   "outputs": [
    {
     "data": {
      "image/svg+xml": [
       "<?xml version=\"1.0\" encoding=\"UTF-8\" standalone=\"no\"?>\n",
       "<!DOCTYPE svg PUBLIC \"-//W3C//DTD SVG 1.1//EN\"\n",
       " \"http://www.w3.org/Graphics/SVG/1.1/DTD/svg11.dtd\">\n",
       "<!-- Generated by graphviz version 2.43.0 (0)\n",
       " -->\n",
       "<!-- Title: ElementFlow Pages: 1 -->\n",
       "<svg width=\"576pt\" height=\"428pt\"\n",
       " viewBox=\"0.00 0.00 576.00 428.27\" xmlns=\"http://www.w3.org/2000/svg\" xmlns:xlink=\"http://www.w3.org/1999/xlink\">\n",
       "<g id=\"graph0\" class=\"graph\" transform=\"scale(0.55 0.55) rotate(0) translate(4 770)\">\n",
       "<title>ElementFlow</title>\n",
       "<polygon fill=\"#fff9f9\" stroke=\"transparent\" points=\"-4,4 -4,-770 1037,-770 1037,4 -4,4\"/>\n",
       "<text text-anchor=\"middle\" x=\"516.5\" y=\"-750.8\" font-family=\"Arial\" font-size=\"14.00\">Función Auxiliar: dibujo_elemento(va)</text>\n",
       "<text text-anchor=\"middle\" x=\"516.5\" y=\"-735.8\" font-family=\"Arial\" font-size=\"14.00\">Generación de Elementos Aleatorios</text>\n",
       "<g id=\"clust1\" class=\"cluster\">\n",
       "<title>cluster_legend</title>\n",
       "<path fill=\"#e7f5ff\" stroke=\"#1864ab\" d=\"M169,-629C169,-629 1013,-629 1013,-629 1019,-629 1025,-635 1025,-641 1025,-641 1025,-692 1025,-692 1025,-698 1019,-704 1013,-704 1013,-704 169,-704 169,-704 163,-704 157,-698 157,-692 157,-692 157,-641 157,-641 157,-635 163,-629 169,-629\"/>\n",
       "<text text-anchor=\"middle\" x=\"591\" y=\"-688.8\" font-family=\"Arial\" font-size=\"14.00\">Tipos de Elementos</text>\n",
       "</g>\n",
       "<!-- FStart -->\n",
       "<g id=\"node1\" class=\"node\">\n",
       "<title>FStart</title>\n",
       "<polygon fill=\"none\" stroke=\"#0a5c36\" points=\"146,-674 50,-674 50,-670 46,-670 46,-666 50,-666 50,-644 46,-644 46,-640 50,-640 50,-636 146,-636 146,-674\"/>\n",
       "<polyline fill=\"none\" stroke=\"#0a5c36\" points=\"50,-670 54,-670 54,-666 50,-666 \"/>\n",
       "<polyline fill=\"none\" stroke=\"#0a5c36\" points=\"50,-644 54,-644 54,-640 50,-640 \"/>\n",
       "<text text-anchor=\"middle\" x=\"98\" y=\"-658.8\" font-family=\"Times,serif\" font-size=\"14.00\">INICIO</text>\n",
       "<text text-anchor=\"middle\" x=\"98\" y=\"-643.8\" font-family=\"Times,serif\" font-size=\"14.00\">(Recibe va)</text>\n",
       "</g>\n",
       "<!-- Case1 -->\n",
       "<g id=\"node2\" class=\"node\">\n",
       "<title>Case1</title>\n",
       "<polygon fill=\"#f8d7da\" stroke=\"#842029\" points=\"98,-599 20,-567 98,-535 176,-567 98,-599\"/>\n",
       "<text text-anchor=\"middle\" x=\"98\" y=\"-570.2\" font-family=\"Arial\" font-size=\"11.00\">va == 1</text>\n",
       "<text text-anchor=\"middle\" x=\"98\" y=\"-558.2\" font-family=\"Arial\" font-size=\"11.00\">No elemento</text>\n",
       "</g>\n",
       "<!-- FStart&#45;&gt;Case1 -->\n",
       "<g id=\"edge1\" class=\"edge\">\n",
       "<title>FStart&#45;&gt;Case1</title>\n",
       "<path fill=\"none\" stroke=\"black\" d=\"M98,-635.76C98,-627.94 98,-618.46 98,-609.1\"/>\n",
       "<polygon fill=\"black\" stroke=\"black\" points=\"101.5,-609.08 98,-599.08 94.5,-609.08 101.5,-609.08\"/>\n",
       "</g>\n",
       "<!-- Case2 -->\n",
       "<g id=\"node3\" class=\"node\">\n",
       "<title>Case2</title>\n",
       "<polygon fill=\"#d1e7dd\" stroke=\"#0a5c36\" points=\"98,-484 45,-452 98,-420 151,-452 98,-484\"/>\n",
       "<text text-anchor=\"middle\" x=\"98\" y=\"-455.2\" font-family=\"Arial\" font-size=\"11.00\">va == 2</text>\n",
       "<text text-anchor=\"middle\" x=\"98\" y=\"-443.2\" font-family=\"Arial\" font-size=\"11.00\">Línea</text>\n",
       "</g>\n",
       "<!-- Case1&#45;&gt;Case2 -->\n",
       "<g id=\"edge2\" class=\"edge\">\n",
       "<title>Case1&#45;&gt;Case2</title>\n",
       "<path fill=\"none\" stroke=\"black\" d=\"M98,-534.82C98,-522.35 98,-507.8 98,-494.45\"/>\n",
       "<polygon fill=\"black\" stroke=\"black\" points=\"101.5,-494.08 98,-484.08 94.5,-494.08 101.5,-494.08\"/>\n",
       "<text text-anchor=\"middle\" x=\"112.5\" y=\"-505.8\" font-family=\"Times,serif\" font-size=\"14.00\">else</text>\n",
       "</g>\n",
       "<!-- Case3 -->\n",
       "<g id=\"node4\" class=\"node\">\n",
       "<title>Case3</title>\n",
       "<polygon fill=\"#d1e7dd\" stroke=\"#0a5c36\" points=\"98,-369 42,-337 98,-305 154,-337 98,-369\"/>\n",
       "<text text-anchor=\"middle\" x=\"98\" y=\"-340.2\" font-family=\"Arial\" font-size=\"11.00\">va == 3</text>\n",
       "<text text-anchor=\"middle\" x=\"98\" y=\"-328.2\" font-family=\"Arial\" font-size=\"11.00\">Resistor</text>\n",
       "</g>\n",
       "<!-- Case2&#45;&gt;Case3 -->\n",
       "<g id=\"edge3\" class=\"edge\">\n",
       "<title>Case2&#45;&gt;Case3</title>\n",
       "<path fill=\"none\" stroke=\"black\" d=\"M98,-419.82C98,-407.35 98,-392.8 98,-379.45\"/>\n",
       "<polygon fill=\"black\" stroke=\"black\" points=\"101.5,-379.08 98,-369.08 94.5,-379.08 101.5,-379.08\"/>\n",
       "<text text-anchor=\"middle\" x=\"112.5\" y=\"-390.8\" font-family=\"Times,serif\" font-size=\"14.00\">else</text>\n",
       "</g>\n",
       "<!-- Case4 -->\n",
       "<g id=\"node5\" class=\"node\">\n",
       "<title>Case4</title>\n",
       "<polygon fill=\"#d1e7dd\" stroke=\"#0a5c36\" points=\"98,-254 12,-222 98,-190 184,-222 98,-254\"/>\n",
       "<text text-anchor=\"middle\" x=\"98\" y=\"-225.2\" font-family=\"Arial\" font-size=\"11.00\">va == 4</text>\n",
       "<text text-anchor=\"middle\" x=\"98\" y=\"-213.2\" font-family=\"Arial\" font-size=\"11.00\">Fuente Voltaje</text>\n",
       "</g>\n",
       "<!-- Case3&#45;&gt;Case4 -->\n",
       "<g id=\"edge4\" class=\"edge\">\n",
       "<title>Case3&#45;&gt;Case4</title>\n",
       "<path fill=\"none\" stroke=\"black\" d=\"M98,-304.82C98,-292.35 98,-277.8 98,-264.45\"/>\n",
       "<polygon fill=\"black\" stroke=\"black\" points=\"101.5,-264.08 98,-254.08 94.5,-264.08 101.5,-264.08\"/>\n",
       "<text text-anchor=\"middle\" x=\"112.5\" y=\"-275.8\" font-family=\"Times,serif\" font-size=\"14.00\">else</text>\n",
       "</g>\n",
       "<!-- Case5 -->\n",
       "<g id=\"node6\" class=\"node\">\n",
       "<title>Case5</title>\n",
       "<polygon fill=\"#d1e7dd\" stroke=\"#0a5c36\" points=\"98,-139 0,-107 98,-75 196,-107 98,-139\"/>\n",
       "<text text-anchor=\"middle\" x=\"98\" y=\"-110.2\" font-family=\"Arial\" font-size=\"11.00\">va == 5</text>\n",
       "<text text-anchor=\"middle\" x=\"98\" y=\"-98.2\" font-family=\"Arial\" font-size=\"11.00\">Fuente Corriente</text>\n",
       "</g>\n",
       "<!-- Case4&#45;&gt;Case5 -->\n",
       "<g id=\"edge5\" class=\"edge\">\n",
       "<title>Case4&#45;&gt;Case5</title>\n",
       "<path fill=\"none\" stroke=\"black\" d=\"M98,-189.82C98,-177.35 98,-162.8 98,-149.45\"/>\n",
       "<polygon fill=\"black\" stroke=\"black\" points=\"101.5,-149.08 98,-139.08 94.5,-149.08 101.5,-149.08\"/>\n",
       "<text text-anchor=\"middle\" x=\"112.5\" y=\"-160.8\" font-family=\"Times,serif\" font-size=\"14.00\">else</text>\n",
       "</g>\n",
       "<!-- FEnd -->\n",
       "<g id=\"node7\" class=\"node\">\n",
       "<title>FEnd</title>\n",
       "<polygon fill=\"none\" stroke=\"#0a5c36\" points=\"161.5,-38 34.5,-38 34.5,-34 30.5,-34 30.5,-30 34.5,-30 34.5,-8 30.5,-8 30.5,-4 34.5,-4 34.5,0 161.5,0 161.5,-38\"/>\n",
       "<polyline fill=\"none\" stroke=\"#0a5c36\" points=\"34.5,-34 38.5,-34 38.5,-30 34.5,-30 \"/>\n",
       "<polyline fill=\"none\" stroke=\"#0a5c36\" points=\"34.5,-8 38.5,-8 38.5,-4 34.5,-4 \"/>\n",
       "<text text-anchor=\"middle\" x=\"98\" y=\"-22.8\" font-family=\"Times,serif\" font-size=\"14.00\">RETORNA</text>\n",
       "<text text-anchor=\"middle\" x=\"98\" y=\"-7.8\" font-family=\"Times,serif\" font-size=\"14.00\">Elemento/None</text>\n",
       "</g>\n",
       "<!-- Case5&#45;&gt;FEnd -->\n",
       "<g id=\"edge6\" class=\"edge\">\n",
       "<title>Case5&#45;&gt;FEnd</title>\n",
       "<path fill=\"none\" stroke=\"black\" d=\"M98,-74.95C98,-66.29 98,-56.93 98,-48.43\"/>\n",
       "<polygon fill=\"black\" stroke=\"black\" points=\"101.5,-48.24 98,-38.24 94.5,-48.24 101.5,-48.24\"/>\n",
       "</g>\n",
       "<!-- L1 -->\n",
       "<g id=\"node8\" class=\"node\">\n",
       "<title>L1</title>\n",
       "<text text-anchor=\"middle\" x=\"915\" y=\"-651.3\" font-family=\"Times,serif\" font-size=\"14.00\">Línea: Componente básico</text>\n",
       "</g>\n",
       "<!-- L2 -->\n",
       "<g id=\"node9\" class=\"node\">\n",
       "<title>L2</title>\n",
       "<text text-anchor=\"middle\" x=\"694\" y=\"-651.3\" font-family=\"Times,serif\" font-size=\"14.00\">Resistor: Elemento pasivo</text>\n",
       "</g>\n",
       "<!-- L3 -->\n",
       "<g id=\"node10\" class=\"node\">\n",
       "<title>L3</title>\n",
       "<text text-anchor=\"middle\" x=\"480\" y=\"-651.3\" font-family=\"Times,serif\" font-size=\"14.00\">FuenteV: Genera voltaje</text>\n",
       "</g>\n",
       "<!-- L4 -->\n",
       "<g id=\"node11\" class=\"node\">\n",
       "<title>L4</title>\n",
       "<text text-anchor=\"middle\" x=\"266\" y=\"-651.3\" font-family=\"Times,serif\" font-size=\"14.00\">FuenteI: Genera corriente</text>\n",
       "</g>\n",
       "</g>\n",
       "</svg>\n"
      ],
      "text/plain": [
       "<graphviz.graphs.Digraph at 0x7e211d245010>"
      ]
     },
     "execution_count": 4,
     "metadata": {},
     "output_type": "execute_result"
    }
   ],
   "source": [
    "from graphviz import Digraph\n",
    "\n",
    "# Configuración del diagrama de función\n",
    "func_dot = Digraph('ElementFlow', filename='element_func.gv')\n",
    "func_dot.attr(rankdir='TB',\n",
    "              size='8,10',\n",
    "              bgcolor='#fff9f9',\n",
    "              fontname='Arial',\n",
    "              label='Función Auxiliar: dibujo_elemento(va)\\nGeneración de Elementos Aleatorios\\n\\n',\n",
    "              labelloc='t')\n",
    "\n",
    "# Estilo para casos\n",
    "case_style = {\n",
    "    'shape': 'diamond',\n",
    "    'style': 'filled',\n",
    "    'fontname': 'Arial',\n",
    "    'fontsize': '11'\n",
    "}\n",
    "\n",
    "# Nodos\n",
    "func_dot.node('FStart', 'INICIO\\n(Recibe va)', shape='component', fillcolor='#d1e7dd', color='#0a5c36')\n",
    "func_dot.node('Case1', 'va == 1\\nNo elemento', fillcolor='#f8d7da', color='#842029', **case_style)\n",
    "func_dot.node('Case2', 'va == 2\\nLínea', fillcolor='#d1e7dd', color='#0a5c36', **case_style)\n",
    "func_dot.node('Case3', 'va == 3\\nResistor', fillcolor='#d1e7dd', color='#0a5c36', **case_style)\n",
    "func_dot.node('Case4', 'va == 4\\nFuente Voltaje', fillcolor='#d1e7dd', color='#0a5c36', **case_style)\n",
    "func_dot.node('Case5', 'va == 5\\nFuente Corriente', fillcolor='#d1e7dd', color='#0a5c36', **case_style)\n",
    "func_dot.node('FEnd', 'RETORNA\\nElemento/None', shape='component', fillcolor='#d1e7dd', color='#0a5c36')\n",
    "\n",
    "# Conexiones en forma de árbol\n",
    "func_dot.edge('FStart', 'Case1')\n",
    "func_dot.edge('Case1', 'Case2', label='else')\n",
    "func_dot.edge('Case2', 'Case3', label='else')\n",
    "func_dot.edge('Case3', 'Case4', label='else')\n",
    "func_dot.edge('Case4', 'Case5', label='else')\n",
    "func_dot.edge('Case5', 'FEnd')\n",
    "\n",
    "# Leyenda de elementos\n",
    "with func_dot.subgraph(name='cluster_legend') as legend:\n",
    "    legend.attr(label='Tipos de Elementos',\n",
    "                style='rounded,filled',\n",
    "                fillcolor='#e7f5ff',\n",
    "                color='#1864ab')\n",
    "    legend.node('L1', 'Línea: Componente básico', shape='plaintext')\n",
    "    legend.node('L2', 'Resistor: Elemento pasivo', shape='plaintext')\n",
    "    legend.node('L3', 'FuenteV: Genera voltaje', shape='plaintext')\n",
    "    legend.node('L4', 'FuenteI: Genera corriente', shape='plaintext')\n",
    "\n",
    "func_dot"
   ]
  },
  {
   "cell_type": "markdown",
   "id": "8f47fd5e-9c2a-44b0-be5b-ae6c16bd2759",
   "metadata": {},
   "source": [
    "#### Función constructora del circuito con elementos aleatorios  "
   ]
  },
  {
   "cell_type": "code",
   "execution_count": 3,
   "id": "492d00cd-1eac-46a3-8e4a-c3a9e9f4814b",
   "metadata": {
    "scrolled": true
   },
   "outputs": [
    {
     "data": {
      "image/svg+xml": [
       "<?xml version=\"1.0\" encoding=\"UTF-8\" standalone=\"no\"?>\n",
       "<!DOCTYPE svg PUBLIC \"-//W3C//DTD SVG 1.1//EN\"\n",
       " \"http://www.w3.org/Graphics/SVG/1.1/DTD/svg11.dtd\">\n",
       "<!-- Generated by graphviz version 2.43.0 (0)\n",
       " -->\n",
       "<!-- Title: MainFlow Pages: 1 -->\n",
       "<svg width=\"1152pt\" height=\"182pt\"\n",
       " viewBox=\"0.00 0.00 1152.00 182.09\" xmlns=\"http://www.w3.org/2000/svg\" xmlns:xlink=\"http://www.w3.org/1999/xlink\">\n",
       "<g id=\"graph0\" class=\"graph\" transform=\"scale(0.86 0.86) rotate(0) translate(4 207.4)\">\n",
       "<title>MainFlow</title>\n",
       "<polygon fill=\"#f8f9fa\" stroke=\"transparent\" points=\"-4,4 -4,-207.4 1333.39,-207.4 1333.39,4 -4,4\"/>\n",
       "<text text-anchor=\"middle\" x=\"664.7\" y=\"-188.2\" font-family=\"Arial\" font-size=\"14.00\">Función Principal: dibujar_circuito(v, h)</text>\n",
       "<!-- Start -->\n",
       "<g id=\"node1\" class=\"node\">\n",
       "<title>Start</title>\n",
       "<ellipse fill=\"none\" stroke=\"#1e7e34\" cx=\"94.5\" cy=\"-46.9\" rx=\"42.8\" ry=\"42.8\"/>\n",
       "<ellipse fill=\"none\" stroke=\"#1e7e34\" cx=\"94.5\" cy=\"-46.9\" rx=\"46.79\" ry=\"46.79\"/>\n",
       "<text text-anchor=\"middle\" x=\"94.5\" y=\"-43.2\" font-family=\"Times,serif\" font-size=\"14.00\">INICIO</text>\n",
       "</g>\n",
       "<!-- Step1 -->\n",
       "<g id=\"node2\" class=\"node\">\n",
       "<title>Step1</title>\n",
       "<ellipse fill=\"#e2f0fd\" stroke=\"#0d6efd\" stroke-width=\"2\" cx=\"336.72\" cy=\"-46.9\" rx=\"111.95\" ry=\"24.08\"/>\n",
       "<text text-anchor=\"middle\" x=\"336.72\" y=\"-50.3\" font-family=\"Arial\" font-size=\"12.00\">1. Línea Vertical ↑</text>\n",
       "<text text-anchor=\"middle\" x=\"336.72\" y=\"-37.3\" font-family=\"Arial\" font-size=\"12.00\">Llama: dibujo_elemento(v)</text>\n",
       "</g>\n",
       "<!-- Start&#45;&gt;Step1 -->\n",
       "<g id=\"edge1\" class=\"edge\">\n",
       "<title>Start&#45;&gt;Step1</title>\n",
       "<path fill=\"none\" stroke=\"black\" d=\"M141.53,-46.9C162.61,-46.9 188.69,-46.9 214.81,-46.9\"/>\n",
       "<polygon fill=\"black\" stroke=\"black\" points=\"214.82,-50.4 224.82,-46.9 214.82,-43.4 214.82,-50.4\"/>\n",
       "</g>\n",
       "<!-- Step2 -->\n",
       "<g id=\"node3\" class=\"node\">\n",
       "<title>Step2</title>\n",
       "<ellipse fill=\"#e2f0fd\" stroke=\"#0d6efd\" stroke-width=\"2\" cx=\"596.88\" cy=\"-46.9\" rx=\"112.36\" ry=\"24.08\"/>\n",
       "<text text-anchor=\"middle\" x=\"596.88\" y=\"-50.3\" font-family=\"Arial\" font-size=\"12.00\">2. Línea Horizontal →</text>\n",
       "<text text-anchor=\"middle\" x=\"596.88\" y=\"-37.3\" font-family=\"Arial\" font-size=\"12.00\">Llama: dibujo_elemento(h)</text>\n",
       "</g>\n",
       "<!-- Step1&#45;&gt;Step2 -->\n",
       "<g id=\"edge2\" class=\"edge\">\n",
       "<title>Step1&#45;&gt;Step2</title>\n",
       "<path fill=\"none\" stroke=\"black\" d=\"M448.7,-46.9C457.06,-46.9 465.51,-46.9 473.93,-46.9\"/>\n",
       "<polygon fill=\"black\" stroke=\"black\" points=\"474.17,-50.4 484.17,-46.9 474.17,-43.4 474.17,-50.4\"/>\n",
       "</g>\n",
       "<!-- Step3 -->\n",
       "<g id=\"node4\" class=\"node\">\n",
       "<title>Step3</title>\n",
       "<ellipse fill=\"#e2f0fd\" stroke=\"#0d6efd\" stroke-width=\"2\" cx=\"857.03\" cy=\"-46.9\" rx=\"111.95\" ry=\"24.08\"/>\n",
       "<text text-anchor=\"middle\" x=\"857.03\" y=\"-50.3\" font-family=\"Arial\" font-size=\"12.00\">3. Línea Vertical ↓</text>\n",
       "<text text-anchor=\"middle\" x=\"857.03\" y=\"-37.3\" font-family=\"Arial\" font-size=\"12.00\">Llama: dibujo_elemento(v)</text>\n",
       "</g>\n",
       "<!-- Step2&#45;&gt;Step3 -->\n",
       "<g id=\"edge3\" class=\"edge\">\n",
       "<title>Step2&#45;&gt;Step3</title>\n",
       "<path fill=\"none\" stroke=\"black\" d=\"M709.6,-46.9C717.94,-46.9 726.37,-46.9 734.75,-46.9\"/>\n",
       "<polygon fill=\"black\" stroke=\"black\" points=\"734.95,-50.4 744.95,-46.9 734.95,-43.4 734.95,-50.4\"/>\n",
       "</g>\n",
       "<!-- Step4 -->\n",
       "<g id=\"node5\" class=\"node\">\n",
       "<title>Step4</title>\n",
       "<ellipse fill=\"#e2f0fd\" stroke=\"#0d6efd\" stroke-width=\"2\" cx=\"1116.47\" cy=\"-46.9\" rx=\"111.95\" ry=\"24.08\"/>\n",
       "<text text-anchor=\"middle\" x=\"1116.47\" y=\"-50.3\" font-family=\"Arial\" font-size=\"12.00\">4. Línea Horizontal ←</text>\n",
       "<text text-anchor=\"middle\" x=\"1116.47\" y=\"-37.3\" font-family=\"Arial\" font-size=\"12.00\">Llama: dibujo_elemento(v)</text>\n",
       "</g>\n",
       "<!-- Step3&#45;&gt;Step4 -->\n",
       "<g id=\"edge4\" class=\"edge\">\n",
       "<title>Step3&#45;&gt;Step4</title>\n",
       "<path fill=\"none\" stroke=\"black\" d=\"M969.08,-46.9C977.4,-46.9 985.82,-46.9 994.2,-46.9\"/>\n",
       "<polygon fill=\"black\" stroke=\"black\" points=\"994.39,-50.4 1004.39,-46.9 994.39,-43.4 994.39,-50.4\"/>\n",
       "</g>\n",
       "<!-- End -->\n",
       "<g id=\"node6\" class=\"node\">\n",
       "<title>End</title>\n",
       "<ellipse fill=\"none\" stroke=\"#bd2130\" cx=\"1296.79\" cy=\"-46.9\" rx=\"28.68\" ry=\"28.68\"/>\n",
       "<ellipse fill=\"none\" stroke=\"#bd2130\" cx=\"1296.79\" cy=\"-46.9\" rx=\"32.7\" ry=\"32.7\"/>\n",
       "<text text-anchor=\"middle\" x=\"1296.79\" y=\"-43.2\" font-family=\"Times,serif\" font-size=\"14.00\">FIN</text>\n",
       "</g>\n",
       "<!-- Step4&#45;&gt;End -->\n",
       "<g id=\"edge5\" class=\"edge\">\n",
       "<title>Step4&#45;&gt;End</title>\n",
       "<path fill=\"none\" stroke=\"black\" d=\"M1228.38,-46.9C1237.34,-46.9 1245.99,-46.9 1253.94,-46.9\"/>\n",
       "<polygon fill=\"black\" stroke=\"black\" points=\"1253.94,-50.4 1263.94,-46.9 1253.94,-43.4 1253.94,-50.4\"/>\n",
       "</g>\n",
       "<!-- FuncNote -->\n",
       "<g id=\"node7\" class=\"node\">\n",
       "<title>FuncNote</title>\n",
       "<polygon fill=\"none\" stroke=\"#ffc107\" points=\"183,-164.4 0,-164.4 0,-111.4 189,-111.4 189,-158.4 183,-164.4\"/>\n",
       "<polyline fill=\"none\" stroke=\"#ffc107\" points=\"183,-164.4 183,-158.4 \"/>\n",
       "<polyline fill=\"none\" stroke=\"#ffc107\" points=\"189,-158.4 183,-158.4 \"/>\n",
       "<text text-anchor=\"middle\" x=\"94.5\" y=\"-149.2\" font-family=\"Times,serif\" font-size=\"14.00\">Parámetros:</text>\n",
       "<text text-anchor=\"middle\" x=\"94.5\" y=\"-134.2\" font-family=\"Times,serif\" font-size=\"14.00\">v = elemento vertical</text>\n",
       "<text text-anchor=\"middle\" x=\"94.5\" y=\"-119.2\" font-family=\"Times,serif\" font-size=\"14.00\">h = elemento horizontal</text>\n",
       "</g>\n",
       "</g>\n",
       "</svg>\n"
      ],
      "text/plain": [
       "<graphviz.graphs.Digraph at 0x7e211d245910>"
      ]
     },
     "execution_count": 3,
     "metadata": {},
     "output_type": "execute_result"
    }
   ],
   "source": [
    "from graphviz import Digraph\n",
    "\n",
    "# Configuración del diagrama principal\n",
    "main_dot = Digraph('MainFlow', filename='main_circuit.gv')\n",
    "main_dot.attr(rankdir='LR',\n",
    "              size='16',\n",
    "              bgcolor='#f8f9fa',\n",
    "              fontname='Arial',\n",
    "              label='Función Principal: dibujar_circuito(v, h)\\n\\n',\n",
    "              labelloc='t')\n",
    "\n",
    "# Estilo para nodos principales\n",
    "main_style = {\n",
    "    'style': 'filled,rounded',\n",
    "    'fontname': 'Arial',\n",
    "    'fontsize': '12',\n",
    "    'penwidth': '2',\n",
    "    'fillcolor': '#e2f0fd',\n",
    "    'color': '#0d6efd'\n",
    "}\n",
    "\n",
    "# Nodos\n",
    "main_dot.node('Start', 'INICIO', shape='doublecircle', fillcolor='#28a745', color='#1e7e34')\n",
    "main_dot.node('Step1', '1. Línea Vertical ↑\\nLlama: dibujo_elemento(v)', **main_style)\n",
    "main_dot.node('Step2', '2. Línea Horizontal →\\nLlama: dibujo_elemento(h)', **main_style)\n",
    "main_dot.node('Step3', '3. Línea Vertical ↓\\nLlama: dibujo_elemento(v)', **main_style)\n",
    "main_dot.node('Step4', '4. Línea Horizontal ←\\nLlama: dibujo_elemento(v)', **main_style)\n",
    "main_dot.node('End', 'FIN', shape='doublecircle', fillcolor='#dc3545', color='#bd2130')\n",
    "\n",
    "# Conexiones\n",
    "main_dot.edges([\n",
    "    ('Start', 'Step1'),\n",
    "    ('Step1', 'Step2'),\n",
    "    ('Step2', 'Step3'),\n",
    "    ('Step3', 'Step4'),\n",
    "    ('Step4', 'End')\n",
    "])\n",
    "\n",
    "# Nota de función\n",
    "main_dot.node('FuncNote', 'Parámetros:\\nv = elemento vertical\\nh = elemento horizontal', \n",
    "              shape='note', fillcolor='#fff3bf', color='#ffc107')\n",
    "\n",
    "main_dot"
   ]
  },
  {
   "cell_type": "markdown",
   "id": "d42ccd1e-f173-402d-a84f-b77f64b72a81",
   "metadata": {},
   "source": [
    "#### Función simulación "
   ]
  },
  {
   "cell_type": "code",
   "execution_count": 6,
   "id": "bbbb8b77-320c-4a58-ac35-2cb682918367",
   "metadata": {
    "jupyter": {
     "source_hidden": true
    }
   },
   "outputs": [
    {
     "data": {
      "image/svg+xml": [
       "<?xml version=\"1.0\" encoding=\"UTF-8\" standalone=\"no\"?>\n",
       "<!DOCTYPE svg PUBLIC \"-//W3C//DTD SVG 1.1//EN\"\n",
       " \"http://www.w3.org/Graphics/SVG/1.1/DTD/svg11.dtd\">\n",
       "<!-- Generated by graphviz version 2.43.0 (0)\n",
       " -->\n",
       "<!-- Title: LoopValidation Pages: 1 -->\n",
       "<svg width=\"720pt\" height=\"383pt\"\n",
       " viewBox=\"0.00 0.00 720.00 382.61\" xmlns=\"http://www.w3.org/2000/svg\" xmlns:xlink=\"http://www.w3.org/1999/xlink\">\n",
       "<g id=\"graph0\" class=\"graph\" transform=\"scale(0.63 0.63) rotate(0) translate(4 607.69)\">\n",
       "<title>LoopValidation</title>\n",
       "<polygon fill=\"#f8f9fa\" stroke=\"transparent\" points=\"-4,4 -4,-607.69 1147.1,-607.69 1147.1,4 -4,4\"/>\n",
       "<g id=\"clust1\" class=\"cluster\">\n",
       "<title>cluster_x</title>\n",
       "<path fill=\"#fff3bf\" stroke=\"#ffd43b\" d=\"M214.1,-203.22C214.1,-203.22 624.1,-203.22 624.1,-203.22 630.1,-203.22 636.1,-209.22 636.1,-215.22 636.1,-215.22 636.1,-396.69 636.1,-396.69 636.1,-402.69 630.1,-408.69 624.1,-408.69 624.1,-408.69 214.1,-408.69 214.1,-408.69 208.1,-408.69 202.1,-402.69 202.1,-396.69 202.1,-396.69 202.1,-215.22 202.1,-215.22 202.1,-209.22 208.1,-203.22 214.1,-203.22\"/>\n",
       "<text text-anchor=\"middle\" x=\"419.1\" y=\"-393.49\" font-family=\"Helvetica,sans-Serif\" font-size=\"14.00\">más de una fuente de corriente</text>\n",
       "</g>\n",
       "<g id=\"clust2\" class=\"cluster\">\n",
       "<title>cluster_y</title>\n",
       "<path fill=\"#ffdeeb\" stroke=\"#f06595\" d=\"M743.1,-96.74C743.1,-96.74 1123.1,-96.74 1123.1,-96.74 1129.1,-96.74 1135.1,-102.74 1135.1,-108.74 1135.1,-108.74 1135.1,-528.69 1135.1,-528.69 1135.1,-534.69 1129.1,-540.69 1123.1,-540.69 1123.1,-540.69 743.1,-540.69 743.1,-540.69 737.1,-540.69 731.1,-534.69 731.1,-528.69 731.1,-528.69 731.1,-108.74 731.1,-108.74 731.1,-102.74 737.1,-96.74 743.1,-96.74\"/>\n",
       "<text text-anchor=\"middle\" x=\"933.1\" y=\"-525.49\" font-family=\"Helvetica,sans-Serif\" font-size=\"14.00\">cuando hay solo fuente_voltaje y cortos</text>\n",
       "</g>\n",
       "<!-- Start -->\n",
       "<g id=\"node1\" class=\"node\">\n",
       "<title>Start</title>\n",
       "<ellipse fill=\"none\" stroke=\"#2b8a3e\" cx=\"110.1\" cy=\"-229.22\" rx=\"84.29\" ry=\"37.45\"/>\n",
       "<text text-anchor=\"middle\" x=\"110.1\" y=\"-240.52\" font-family=\"Times,serif\" font-size=\"14.00\">INICIO</text>\n",
       "<text text-anchor=\"middle\" x=\"110.1\" y=\"-225.52\" font-family=\"Times,serif\" font-size=\"14.00\">Inicializar:</text>\n",
       "<text text-anchor=\"middle\" x=\"110.1\" y=\"-210.52\" font-family=\"Times,serif\" font-size=\"14.00\">x=0, y=0, i=0</text>\n",
       "</g>\n",
       "<!-- Loop -->\n",
       "<g id=\"node2\" class=\"node\">\n",
       "<title>Loop</title>\n",
       "<polygon fill=\"#e9ecef\" stroke=\"#495057\" stroke-width=\"1.5\" points=\"694.6,-140.74 613.6,-140.74 613.6,-104.74 694.6,-104.74 694.6,-140.74\"/>\n",
       "<text text-anchor=\"middle\" x=\"654.1\" y=\"-125.94\" font-family=\"Helvetica,sans-Serif\" font-size=\"11.00\">Bucle While</text>\n",
       "<text text-anchor=\"middle\" x=\"654.1\" y=\"-113.94\" font-family=\"Helvetica,sans-Serif\" font-size=\"11.00\">i &lt; 100000</text>\n",
       "</g>\n",
       "<!-- Start&#45;&gt;Loop -->\n",
       "<g id=\"edge1\" class=\"edge\">\n",
       "<title>Start&#45;&gt;Loop</title>\n",
       "<path fill=\"none\" stroke=\"black\" d=\"M168.09,-201.84C177.96,-198.03 188.22,-194.48 198.1,-191.74 341.93,-151.86 518.17,-134 603.29,-127.24\"/>\n",
       "<polygon fill=\"black\" stroke=\"black\" points=\"603.76,-130.71 613.46,-126.45 603.22,-123.73 603.76,-130.71\"/>\n",
       "</g>\n",
       "<!-- GenArray -->\n",
       "<g id=\"node3\" class=\"node\">\n",
       "<title>GenArray</title>\n",
       "<polygon fill=\"#d0ebff\" stroke=\"#1c7ed6\" stroke-width=\"1.5\" points=\"321.6,-44.87 156.6,-44.87 156.6,-8.87 321.6,-8.87 321.6,-44.87\"/>\n",
       "<text text-anchor=\"middle\" x=\"239.1\" y=\"-30.07\" font-family=\"Helvetica,sans-Serif\" font-size=\"11.00\">Generar array aleatorio</text>\n",
       "<text text-anchor=\"middle\" x=\"239.1\" y=\"-18.07\" font-family=\"Helvetica,sans-Serif\" font-size=\"11.00\">(de elementos del circuito)</text>\n",
       "</g>\n",
       "<!-- Loop&#45;&gt;GenArray -->\n",
       "<g id=\"edge2\" class=\"edge\">\n",
       "<title>Loop&#45;&gt;GenArray</title>\n",
       "<path fill=\"none\" stroke=\"black\" d=\"M613.55,-112.57C546.88,-97.49 412.7,-67.14 324.39,-47.16\"/>\n",
       "<polygon fill=\"black\" stroke=\"black\" points=\"324.92,-43.69 314.39,-44.9 323.37,-50.52 324.92,-43.69\"/>\n",
       "<text text-anchor=\"middle\" x=\"509.6\" y=\"-75.54\" font-family=\"Times,serif\" font-size=\"14.00\">i++</text>\n",
       "</g>\n",
       "<!-- End -->\n",
       "<g id=\"node10\" class=\"node\">\n",
       "<title>End</title>\n",
       "<ellipse fill=\"none\" stroke=\"#c92a2a\" cx=\"654.1\" cy=\"-26.87\" rx=\"73.58\" ry=\"26.74\"/>\n",
       "<text text-anchor=\"middle\" x=\"654.1\" y=\"-30.67\" font-family=\"Times,serif\" font-size=\"14.00\">FIN</text>\n",
       "<text text-anchor=\"middle\" x=\"654.1\" y=\"-15.67\" font-family=\"Times,serif\" font-size=\"14.00\">Mostrar x, y</text>\n",
       "</g>\n",
       "<!-- Loop&#45;&gt;End -->\n",
       "<g id=\"edge14\" class=\"edge\">\n",
       "<title>Loop&#45;&gt;End</title>\n",
       "<path fill=\"none\" stroke=\"black\" d=\"M654.1,-104.52C654.1,-93.22 654.1,-78.01 654.1,-64.12\"/>\n",
       "<polygon fill=\"black\" stroke=\"black\" points=\"657.6,-63.84 654.1,-53.84 650.6,-63.84 657.6,-63.84\"/>\n",
       "<text text-anchor=\"middle\" x=\"700.1\" y=\"-75.54\" font-family=\"Times,serif\" font-size=\"14.00\">i &gt;= 100000</text>\n",
       "</g>\n",
       "<!-- Check5 -->\n",
       "<g id=\"node4\" class=\"node\">\n",
       "<title>Check5</title>\n",
       "<polygon fill=\"none\" stroke=\"#ffc300\" points=\"419.1,-377.69 210.1,-347.69 419.1,-317.69 628.1,-347.69 419.1,-377.69\"/>\n",
       "<text text-anchor=\"middle\" x=\"419.1\" y=\"-350.69\" font-family=\"Helvetica,sans-Serif\" font-size=\"10.00\">Contar elementos == fuente_corriente </text>\n",
       "<text text-anchor=\"middle\" x=\"419.1\" y=\"-339.69\" font-family=\"Helvetica,sans-Serif\" font-size=\"10.00\">&gt;= 2 elementos?</text>\n",
       "</g>\n",
       "<!-- GenArray&#45;&gt;Check5 -->\n",
       "<g id=\"edge3\" class=\"edge\">\n",
       "<title>GenArray&#45;&gt;Check5</title>\n",
       "<path fill=\"none\" stroke=\"black\" d=\"M200.96,-44.88C120.3,-83.12 -54.54,-179.39 17.1,-266.69 49.21,-305.82 169.77,-326.17 270.57,-336.52\"/>\n",
       "<polygon fill=\"black\" stroke=\"black\" points=\"270.27,-340.01 280.57,-337.52 270.97,-333.04 270.27,-340.01\"/>\n",
       "</g>\n",
       "<!-- IncX -->\n",
       "<g id=\"node5\" class=\"node\">\n",
       "<title>IncX</title>\n",
       "<polygon fill=\"#b2f2bb\" stroke=\"#40c057\" stroke-width=\"1.5\" points=\"537.1,-247.22 481.1,-247.22 481.1,-211.22 537.1,-211.22 537.1,-247.22\"/>\n",
       "<text text-anchor=\"middle\" x=\"509.1\" y=\"-226.42\" font-family=\"Helvetica,sans-Serif\" font-size=\"11.00\">x += 1</text>\n",
       "</g>\n",
       "<!-- Check5&#45;&gt;IncX -->\n",
       "<g id=\"edge4\" class=\"edge\">\n",
       "<title>Check5&#45;&gt;IncX</title>\n",
       "<path fill=\"none\" stroke=\"black\" d=\"M439.3,-320.55C454.37,-301.04 474.86,-274.53 489.73,-255.28\"/>\n",
       "<polygon fill=\"black\" stroke=\"black\" points=\"492.59,-257.31 495.93,-247.26 487.05,-253.03 492.59,-257.31\"/>\n",
       "<text text-anchor=\"middle\" x=\"473.6\" y=\"-288.49\" font-family=\"Times,serif\" font-size=\"14.00\">Sí</text>\n",
       "</g>\n",
       "<!-- CheckAll24 -->\n",
       "<g id=\"node6\" class=\"node\">\n",
       "<title>CheckAll24</title>\n",
       "<polygon fill=\"none\" stroke=\"#ffc300\" points=\"894.1,-509.69 739.1,-479.69 894.1,-449.69 1049.1,-479.69 894.1,-509.69\"/>\n",
       "<text text-anchor=\"middle\" x=\"894.1\" y=\"-482.69\" font-family=\"Helvetica,sans-Serif\" font-size=\"10.00\">¿Todos elementos</text>\n",
       "<text text-anchor=\"middle\" x=\"894.1\" y=\"-471.69\" font-family=\"Helvetica,sans-Serif\" font-size=\"10.00\">son fuente_voltaje o cortos?</text>\n",
       "</g>\n",
       "<!-- Check5&#45;&gt;CheckAll24 -->\n",
       "<g id=\"edge5\" class=\"edge\">\n",
       "<title>Check5&#45;&gt;CheckAll24</title>\n",
       "<path fill=\"none\" stroke=\"black\" d=\"M466.87,-371.03C508.41,-389.65 570.63,-415.64 627.1,-431.69 680.9,-446.99 742.28,-458.21 792.61,-465.84\"/>\n",
       "<polygon fill=\"black\" stroke=\"black\" points=\"792.12,-469.31 802.53,-467.32 793.15,-462.39 792.12,-469.31\"/>\n",
       "<text text-anchor=\"middle\" x=\"637.6\" y=\"-420.49\" font-family=\"Times,serif\" font-size=\"14.00\">No</text>\n",
       "</g>\n",
       "<!-- IncX&#45;&gt;Loop -->\n",
       "<g id=\"edge12\" class=\"edge\">\n",
       "<title>IncX&#45;&gt;Loop</title>\n",
       "<path fill=\"none\" stroke=\"black\" stroke-dasharray=\"5,2\" d=\"M532.72,-211.2C557.05,-193.67 595.13,-166.23 622.14,-146.77\"/>\n",
       "<polygon fill=\"black\" stroke=\"black\" points=\"624.42,-149.44 630.49,-140.75 620.33,-143.76 624.42,-149.44\"/>\n",
       "</g>\n",
       "<!-- CheckAll24&#45;&gt;Loop -->\n",
       "<g id=\"edge7\" class=\"edge\">\n",
       "<title>CheckAll24&#45;&gt;Loop</title>\n",
       "<path fill=\"none\" stroke=\"black\" stroke-dasharray=\"5,2\" d=\"M826.01,-462.76C793.43,-452.14 755.97,-435.13 730.1,-408.69 659.77,-336.82 652.62,-207.5 653.1,-151.19\"/>\n",
       "<polygon fill=\"black\" stroke=\"black\" points=\"656.61,-151 653.28,-140.94 649.61,-150.88 656.61,-151\"/>\n",
       "<text text-anchor=\"middle\" x=\"680.6\" y=\"-288.49\" font-family=\"Times,serif\" font-size=\"14.00\">No</text>\n",
       "</g>\n",
       "<!-- CheckAny4 -->\n",
       "<g id=\"node7\" class=\"node\">\n",
       "<title>CheckAny4</title>\n",
       "<polygon fill=\"none\" stroke=\"#ffc300\" points=\"903.1,-365.69 739.1,-347.69 903.1,-329.69 1067.1,-347.69 903.1,-365.69\"/>\n",
       "<text text-anchor=\"middle\" x=\"903.1\" y=\"-345.19\" font-family=\"Helvetica,sans-Serif\" font-size=\"10.00\">¿hay almenos una fuente de voltaje?</text>\n",
       "</g>\n",
       "<!-- CheckAll24&#45;&gt;CheckAny4 -->\n",
       "<g id=\"edge6\" class=\"edge\">\n",
       "<title>CheckAll24&#45;&gt;CheckAny4</title>\n",
       "<path fill=\"none\" stroke=\"black\" d=\"M896.1,-449.84C897.62,-427.83 899.71,-397.71 901.2,-376.07\"/>\n",
       "<polygon fill=\"black\" stroke=\"black\" points=\"904.71,-376.12 901.91,-365.91 897.72,-375.64 904.71,-376.12\"/>\n",
       "<text text-anchor=\"middle\" x=\"905.6\" y=\"-420.49\" font-family=\"Times,serif\" font-size=\"14.00\">Sí</text>\n",
       "</g>\n",
       "<!-- CheckAny4&#45;&gt;Loop -->\n",
       "<g id=\"edge9\" class=\"edge\">\n",
       "<title>CheckAny4&#45;&gt;Loop</title>\n",
       "<path fill=\"none\" stroke=\"black\" stroke-dasharray=\"5,2\" d=\"M845.64,-335.87C802.88,-325.06 745.8,-304.44 709.1,-266.69 673.32,-229.9 686.74,-206.56 668.1,-158.74 667.03,-156 665.9,-153.14 664.77,-150.28\"/>\n",
       "<polygon fill=\"black\" stroke=\"black\" points=\"667.95,-148.8 660.99,-140.81 661.45,-151.39 667.95,-148.8\"/>\n",
       "<text text-anchor=\"middle\" x=\"719.6\" y=\"-225.52\" font-family=\"Times,serif\" font-size=\"14.00\">No</text>\n",
       "</g>\n",
       "<!-- CheckAll2 -->\n",
       "<g id=\"node8\" class=\"node\">\n",
       "<title>CheckAll2</title>\n",
       "<polygon fill=\"none\" stroke=\"#ffc300\" points=\"933.1,-247.22 739.16,-229.22 933.1,-211.22 1127.04,-229.22 933.1,-247.22\"/>\n",
       "<text text-anchor=\"middle\" x=\"933.1\" y=\"-226.72\" font-family=\"Helvetica,sans-Serif\" font-size=\"10.00\">¿todos los elementos NO son cortocircuitos?</text>\n",
       "</g>\n",
       "<!-- CheckAny4&#45;&gt;CheckAll2 -->\n",
       "<g id=\"edge8\" class=\"edge\">\n",
       "<title>CheckAny4&#45;&gt;CheckAll2</title>\n",
       "<path fill=\"none\" stroke=\"black\" d=\"M907.4,-330.01C912.32,-310.89 920.45,-279.31 926.25,-256.8\"/>\n",
       "<polygon fill=\"black\" stroke=\"black\" points=\"929.7,-257.43 928.81,-246.87 922.92,-255.69 929.7,-257.43\"/>\n",
       "<text text-anchor=\"middle\" x=\"925.6\" y=\"-288.49\" font-family=\"Times,serif\" font-size=\"14.00\">Sí</text>\n",
       "</g>\n",
       "<!-- CheckAll2&#45;&gt;Loop -->\n",
       "<g id=\"edge11\" class=\"edge\">\n",
       "<title>CheckAll2&#45;&gt;Loop</title>\n",
       "<path fill=\"none\" stroke=\"black\" stroke-dasharray=\"5,2\" d=\"M896.62,-214.56C847.44,-196.14 759.64,-163.26 704.26,-142.52\"/>\n",
       "<polygon fill=\"black\" stroke=\"black\" points=\"705.25,-139.16 694.65,-138.93 702.79,-145.71 705.25,-139.16\"/>\n",
       "<text text-anchor=\"middle\" x=\"795.6\" y=\"-162.54\" font-family=\"Times,serif\" font-size=\"14.00\">No</text>\n",
       "</g>\n",
       "<!-- IncY -->\n",
       "<g id=\"node9\" class=\"node\">\n",
       "<title>IncY</title>\n",
       "<polygon fill=\"#ffc9c9\" stroke=\"#f03e3e\" stroke-width=\"1.5\" points=\"859.1,-140.74 803.1,-140.74 803.1,-104.74 859.1,-104.74 859.1,-140.74\"/>\n",
       "<text text-anchor=\"middle\" x=\"831.1\" y=\"-119.94\" font-family=\"Helvetica,sans-Serif\" font-size=\"11.00\">y += 1</text>\n",
       "</g>\n",
       "<!-- CheckAll2&#45;&gt;IncY -->\n",
       "<g id=\"edge10\" class=\"edge\">\n",
       "<title>CheckAll2&#45;&gt;IncY</title>\n",
       "<path fill=\"none\" stroke=\"black\" d=\"M917.61,-212.35C900.9,-195.24 874.11,-167.8 854.77,-147.98\"/>\n",
       "<polygon fill=\"black\" stroke=\"black\" points=\"857.24,-145.51 847.75,-140.8 852.24,-150.4 857.24,-145.51\"/>\n",
       "<text text-anchor=\"middle\" x=\"885.6\" y=\"-162.54\" font-family=\"Times,serif\" font-size=\"14.00\">Sí</text>\n",
       "</g>\n",
       "<!-- IncY&#45;&gt;Loop -->\n",
       "<g id=\"edge13\" class=\"edge\">\n",
       "<title>IncY&#45;&gt;Loop</title>\n",
       "<path fill=\"none\" stroke=\"black\" stroke-dasharray=\"5,2\" d=\"M802.9,-122.74C770.27,-122.74 737.64,-122.74 705.02,-122.74\"/>\n",
       "<polygon fill=\"black\" stroke=\"black\" points=\"704.89,-119.24 694.89,-122.74 704.89,-126.24 704.89,-119.24\"/>\n",
       "</g>\n",
       "<!-- NoteX -->\n",
       "<g id=\"node11\" class=\"node\">\n",
       "<title>NoteX</title>\n",
       "<polygon fill=\"none\" stroke=\"#1098ad\" points=\"594.6,-497.69 237.6,-497.69 237.6,-461.69 600.6,-461.69 600.6,-491.69 594.6,-497.69\"/>\n",
       "<polyline fill=\"none\" stroke=\"#1098ad\" points=\"594.6,-497.69 594.6,-491.69 \"/>\n",
       "<polyline fill=\"none\" stroke=\"#1098ad\" points=\"600.6,-491.69 594.6,-491.69 \"/>\n",
       "<text text-anchor=\"middle\" x=\"419.1\" y=\"-475.99\" font-family=\"Times,serif\" font-size=\"14.00\">x: condición criterio 1 para circuito de una malla</text>\n",
       "</g>\n",
       "<!-- NoteX&#45;&gt;Check5 -->\n",
       "<!-- NoteY -->\n",
       "<g id=\"node12\" class=\"node\">\n",
       "<title>NoteY</title>\n",
       "<polygon fill=\"none\" stroke=\"#9c36b5\" points=\"1069.6,-603.69 712.6,-603.69 712.6,-567.69 1075.6,-567.69 1075.6,-597.69 1069.6,-603.69\"/>\n",
       "<polyline fill=\"none\" stroke=\"#9c36b5\" points=\"1069.6,-603.69 1069.6,-597.69 \"/>\n",
       "<polyline fill=\"none\" stroke=\"#9c36b5\" points=\"1075.6,-597.69 1069.6,-597.69 \"/>\n",
       "<text text-anchor=\"middle\" x=\"894.1\" y=\"-581.99\" font-family=\"Times,serif\" font-size=\"14.00\">y: condición criterio 2 para circuito de una malla</text>\n",
       "</g>\n",
       "<!-- NoteY&#45;&gt;CheckAll24 -->\n",
       "</g>\n",
       "</svg>\n"
      ],
      "text/plain": [
       "<graphviz.graphs.Digraph at 0x7e211d637530>"
      ]
     },
     "execution_count": 6,
     "metadata": {},
     "output_type": "execute_result"
    }
   ],
   "source": [
    "from graphviz import Digraph\n",
    "\n",
    "dot = Digraph('LoopValidation', filename='loop_validation.gv')\n",
    "dot.attr(rankdir='TB', size='10,8', bgcolor='#f8f9fa', fontname='Helvetica')\n",
    "\n",
    "# ===== ESTILOS =====\n",
    "node_style = {\n",
    "    'style': 'filled',\n",
    "    'fontname': 'Helvetica',\n",
    "    'fontsize': '11',\n",
    "    'shape': 'box',\n",
    "    'penwidth': '1.5'\n",
    "}\n",
    "\n",
    "cond_style = {\n",
    "    'shape': 'diamond',\n",
    "    'fillcolor': '#ffec99',\n",
    "    'color': '#ffc300',\n",
    "    'fontname': 'Helvetica',\n",
    "    'fontsize': '10'\n",
    "}\n",
    "\n",
    "# ===== NODOS PRINCIPALES =====\n",
    "dot.node('Start', 'INICIO\\nInicializar:\\nx=0, y=0, i=0', \n",
    "         shape='ellipse', fillcolor='#40c057', color='#2b8a3e')\n",
    "\n",
    "dot.node('Loop', 'Bucle While\\ni < 100000', \n",
    "         fillcolor='#e9ecef', color='#495057', **node_style)\n",
    "\n",
    "dot.node('GenArray', 'Generar array aleatorio\\n(de elementos del circuito)', \n",
    "         fillcolor='#d0ebff', color='#1c7ed6', **node_style)\n",
    "\n",
    "# ===== CONDICIÓN X =====\n",
    "with dot.subgraph(name='cluster_x') as x_cluster:\n",
    "    x_cluster.attr(label='más de una fuente de corriente', style='rounded,filled',\n",
    "                  fillcolor='#fff3bf', color='#ffd43b')\n",
    "    \n",
    "    x_cluster.node('Check5', 'Contar elementos == fuente_corriente \\n>= 2 elementos?', **cond_style)\n",
    "    x_cluster.node('IncX', 'x += 1', \n",
    "                  fillcolor='#b2f2bb', color='#40c057', **node_style)\n",
    "\n",
    "# ===== CONDICIÓN Y =====\n",
    "with dot.subgraph(name='cluster_y') as y_cluster:\n",
    "    y_cluster.attr(label='cuando hay solo fuente_voltaje y cortos', style='rounded,filled',\n",
    "                  fillcolor='#ffdeeb', color='#f06595')\n",
    "    \n",
    "    y_cluster.node('CheckAll24', '¿Todos elementos\\nson fuente_voltaje o cortos?', **cond_style)\n",
    "    y_cluster.node('CheckAny4', '¿hay almenos una fuente de voltaje?', **cond_style)\n",
    "    y_cluster.node('CheckAll2', '¿todos los elementos NO son cortocircuitos?', **cond_style)\n",
    "    y_cluster.node('IncY', 'y += 1', \n",
    "                  fillcolor='#ffc9c9', color='#f03e3e', **node_style)\n",
    "\n",
    "dot.node('End', 'FIN\\nMostrar x, y', \n",
    "         shape='ellipse', fillcolor='#fa5252', color='#c92a2a')\n",
    "\n",
    "# ===== CONEXIONES PRINCIPALES =====\n",
    "dot.edge('Start', 'Loop')\n",
    "dot.edge('Loop', 'GenArray', label='i++')\n",
    "dot.edge('GenArray', 'Check5')\n",
    "\n",
    "# Flujo Condición X\n",
    "dot.edge('Check5', 'IncX', label='Sí')\n",
    "dot.edge('Check5', 'CheckAll24', label='No')\n",
    "\n",
    "# Flujo Condición Y\n",
    "dot.edge('CheckAll24', 'CheckAny4', label='Sí')\n",
    "dot.edge('CheckAll24', 'Loop', label='No', style='dashed')\n",
    "dot.edge('CheckAny4', 'CheckAll2', label='Sí')\n",
    "dot.edge('CheckAny4', 'Loop', label='No', style='dashed')\n",
    "dot.edge('CheckAll2', 'IncY', label='Sí')\n",
    "dot.edge('CheckAll2', 'Loop', label='No', style='dashed')\n",
    "\n",
    "# Conexiones finales\n",
    "dot.edge('IncX', 'Loop', style='dashed')\n",
    "dot.edge('IncY', 'Loop', style='dashed')\n",
    "dot.edge('Loop', 'End', label='i >= 100000')\n",
    "\n",
    "# ===== NOTAS =====\n",
    "dot.node('NoteX', 'x: condición criterio 1 para circuito de una malla', \n",
    "         shape='note', fillcolor='#e3fafc', color='#1098ad')\n",
    "dot.node('NoteY', 'y: condición criterio 2 para circuito de una malla', \n",
    "         shape='note', fillcolor='#f3d9fa', color='#9c36b5')\n",
    "\n",
    "dot.edge('NoteX', 'Check5', style='invis')\n",
    "dot.edge('NoteY', 'CheckAll24', style='invis')\n",
    "\n",
    "dot"
   ]
  },
  {
   "cell_type": "markdown",
   "id": "0afbaa5a",
   "metadata": {},
   "source": [
    "## *Segunda actividad*"
   ]
  },
  {
   "cell_type": "markdown",
   "id": "7620fd18",
   "metadata": {},
   "source": [
    "Conociendo los conceptos de las leyes de Kirchhoff y el concepto de malla. A través de un código que lo genere, obtener el diagrama de un circuito aleatorio de dos mallas, que solo tiene cuatro elementos:"
   ]
  },
  {
   "cell_type": "markdown",
   "id": "ba226978",
   "metadata": {},
   "source": [
    "$X = \\left[ 2,3,4,5 \\right]$ "
   ]
  },
  {
   "cell_type": "markdown",
   "id": "d9152d7d",
   "metadata": {},
   "source": [
    "$P = \\left[ \\frac{1}{4},\\frac{1}{4},\\frac{1}{4},\\frac{1}{4} \\right]$"
   ]
  },
  {
   "cell_type": "markdown",
   "id": "97609f6e",
   "metadata": {},
   "source": [
    "$H = va(x, p, 2, 1)$"
   ]
  },
  {
   "cell_type": "markdown",
   "id": "6b5bb686",
   "metadata": {},
   "source": [
    "$V = va(x, p, 2, 1)$"
   ]
  },
  {
   "cell_type": "markdown",
   "id": "14dd016b",
   "metadata": {},
   "source": [
    "Determinar matemáticamente el valor de la probabilidad de que el circuito generado cumpla con las leyes de Kirchhoff, si se considera que los parámetros de los elementos son distintos. Luego, validen dicho resultado por medio de una simulación.\n",
    "\n",
    "Para determinar estas probabilidades inicialmente, según la naturaleza de las leyes de Kirchhoff se evalúan dos criterios de invalidez para diagramas de circuitos resistivos de dos mallas "
   ]
  },
  {
   "cell_type": "markdown",
   "id": "d1df9380",
   "metadata": {},
   "source": [
    "### **Criterio 1**: cuando hay solo voltajes (4) y cortos (2) en cada malla y la exterior"
   ]
  },
  {
   "cell_type": "markdown",
   "id": "7da8f474",
   "metadata": {},
   "source": [
    "En un circuito de una malla no todos sus elementos pueden ser cortocircuitos porque esto eliminaría la función del circuito, además, La Ley de Voltajes de Kirchhoff (LVK) establece que la suma algebraica de todas las diferencias de potencial alrededor de cualquier lazo cerrado debe ser igual a cero. Si se tiene una fuente de voltaje (V) en la malla y todos los demás elementos son cortocircuitos (con una caída de voltaje idealmente cero), la ecuación de la LVK sería:"
   ]
  },
  {
   "cell_type": "markdown",
   "id": "9f61377f",
   "metadata": {},
   "source": [
    "$V - 0 - 0 - ... - 0 = 0 $"
   ]
  },
  {
   "cell_type": "markdown",
   "id": "ff2585f2",
   "metadata": {},
   "source": [
    "$V = 0$"
   ]
  },
  {
   "cell_type": "markdown",
   "id": "21c0a2ac",
   "metadata": {},
   "source": [
    "Esto implica que la fuente de voltaje debe ser cero, lo cual contradice la existencia de una fuente de voltaje activa. Al aplicarse esto a cualquier lazo cerrado, el criterio aplica tanto para cada malla por separado como para los 6 elementos que rodean las mallas sin el elemento del medio"
   ]
  },
  {
   "cell_type": "markdown",
   "id": "c650c829",
   "metadata": {},
   "source": [
    "### **Criterio 2.1**: cuando hay más de una fuente de corriente en una malla"
   ]
  },
  {
   "cell_type": "markdown",
   "id": "d097ed89",
   "metadata": {},
   "source": [
    "Cuando se tiene una fuente de corriente en un circuito de una sola malla (es decir, conectada en serie), la fuente de corriente debe tener el mismo valor y dirección de corriente para que el circuito sea físicamente consistente, todos los componentes están conectados en serie. Esto significa que la misma corriente fluye a través de cada componente del circuito.\n",
    "\n",
    "Si se intentara imponer una segunda fuente de corriente, por ejemplo, una de 2 amperios, y otra fuente en serie de 3 amperios en la misma dirección, esto es físicamente imposible. La corriente en un circuito en serie debe ser la misma en todos los puntos."
   ]
  },
  {
   "cell_type": "markdown",
   "id": "69855683",
   "metadata": {},
   "source": [
    "### **Criterio 2.2**: cuando hay una fuente de corriente en el medio y al menos una en cada malla"
   ]
  },
  {
   "cell_type": "markdown",
   "id": "16b639ba",
   "metadata": {},
   "source": [
    "Una fuente de corriente impone un flujo fijo de corriente y cuando se tiene una fuente en el nodo compartido de dos mallas, esta afecta a ambas por lo que, tener una fuente adicional en estas lleva a que el circuito sea imposible a menos que las fuentes sean perfectamente compatibles, algo que no se presenta en un modelo aleatorio."
   ]
  },
  {
   "cell_type": "markdown",
   "id": "fa6808df",
   "metadata": {},
   "source": [
    "### Experimento aleatorio"
   ]
  },
  {
   "cell_type": "markdown",
   "id": "5189824e",
   "metadata": {},
   "source": [
    "Este consiste en realizar cuatro extracciones independientes de la lista de elementos del circuito $(x = [2, 3, 4, 5])$, donde cada número corresponde a un elemento y tiene una probabilidad de $(p = 0.25)$ de ser seleccionado. Estas cuatro extracciones se obtienen combinando los elementos de dos matrices $(H)$ y $(V)$, cada una de dimensión $(1 \\times 2)$, generadas por la función va. "
   ]
  },
  {
   "cell_type": "markdown",
   "id": "4a653826",
   "metadata": {},
   "source": [
    "### Espacio muestral"
   ]
  },
  {
   "cell_type": "markdown",
   "id": "365ea7d6",
   "metadata": {},
   "source": [
    "El espacio muestral $(\\Omega)$ de este experimento consiste en todas las posibles combinaciones de elementos del circuito definidos como: $({2, 3, 4, 5})$. El tamaño del espacio muestral es $(|\\Omega| = 4^7 = 16384)$, ya que cada una de las siete posiciones puede tomar uno de los cuatro valores posibles. Se asume que cada una de estas 16384 secuencias es equiprobable, con una probabilidad de $((0.25)^7 = \\frac{1}{16384})$. "
   ]
  },
  {
   "cell_type": "markdown",
   "id": "75472f40",
   "metadata": {},
   "source": [
    "### Probabilidad de la intersección criterio 2"
   ]
  },
  {
   "cell_type": "markdown",
   "id": "e41832ec",
   "metadata": {},
   "source": [
    "- $(\\binom{3}{1} \\times 3 + 1 = 10)$ formas de elegir la posicion en la que aparece. Las , por lo que hay $(10 \\times 4 = 400)$ combinaciones donde la fuente de corriente aparece más de una vez en una malla y en el medio."
   ]
  },
  {
   "cell_type": "markdown",
   "id": "b6f9e874",
   "metadata": {},
   "source": [
    "El número total de secuencias que cumplen ambas condiciones al tiempo es $(\\binom{3}{1} \\times 3^2)^2 \\times 1 = 729$. La probabilidad teórica es, por lo tanto, $(\\frac{729}{16384})$. "
   ]
  },
  {
   "cell_type": "markdown",
   "id": "6a4e82e4",
   "metadata": {},
   "source": [
    "El número total de secuencias que cumplen la Condición 1 es $2560 + 2560 + 729 - 400 = 5449$. La probabilidad teórica de la Condición 1 es, por lo tanto, $(\\frac{5449}{16384})$."
   ]
  },
  {
   "cell_type": "markdown",
   "id": "5efd7ac0",
   "metadata": {},
   "source": [
    "### Probabilidades criterio 1"
   ]
  },
  {
   "cell_type": "markdown",
   "id": "9b1e3d4d",
   "metadata": {},
   "source": [
    "- Cuando todos los elementos son cortocircuitos o fuentes de voltaje, si consideramos que estos elementos hay $(2^4 = 16)$ secuencias de este tipo de elementos en cada malla y $4^3 = 64$ para las otras 3 posiciones cada una con 4 posibles elementos. Por lo tanto, hay $(16 \\times 64 = 1024)$ secuencias que cumplen la condición 2, por lo tanto, $(\\frac{1024}{16384})$.\n",
    "- El mismo análisis aplica para la otra malla.\n",
    "- Para la malla exterior (6 posiciones rodeando el circuito sin el elemento del medio) se tienen $2^6 = 64$ combinaciones de cortos y fuentes de voltaje en la malla exterior, y $4$ formas de elegir elementos para el medio."
   ]
  },
  {
   "cell_type": "markdown",
   "id": "2ec99ff8",
   "metadata": {},
   "source": [
    "### Probabilidad de la intersección criterio 1"
   ]
  },
  {
   "cell_type": "markdown",
   "id": "00f17ed3",
   "metadata": {},
   "source": [
    "- Para la intersección entre las dos mallas, se tienen $(2^4 \\times 2^3 = 128)$ formas de elegir cortos y fuentes de voltaje en una malla, y se multiplican con la cantidad de combinaciones con respecto a la otra malla (3 posiciones restantes).\n",
    "- Para la intersección de una malla (4 posiciones) con la exterior (6 posiciones), se tienen $2^6$ combinaciones correspondientes a la exterior y 2 opciones para la posición del medio $(2^1), esto da como resultado $2^6 \\times 2 = 128$\n",
    "- La intersección de los 3 casos (cada malla y la exterior) tiene $2^3 \\times 2^3 \\times 2^1 = 128$ combinaciones."
   ]
  },
  {
   "cell_type": "markdown",
   "id": "53104687",
   "metadata": {},
   "source": [
    "El número total de secuencias que cumplen la Condición 2 es $1024 + 1024 + 256 - 128 - 128 - 128 + 128 = 2048$. La probabilidad teórica de la Condición 1 es, por lo tanto, $(\\frac{2048}{16384})$."
   ]
  },
  {
   "cell_type": "markdown",
   "id": "3cfaaceb",
   "metadata": {},
   "source": [
    "A este cálculo hay que restarle los casos en los que solamente hay cortos y se cumple la LVK:"
   ]
  },
  {
   "cell_type": "markdown",
   "id": "7d272c23",
   "metadata": {},
   "source": [
    "- Cuando el circuito tiene solo cortos, el elemento en la posición del medio puede ser cualquiera entre cortos, resistencias o fuentes de corriente $(3)$.\n",
    "- Cuando el circuito tiene cortos en una malla y 3 posiciones en la otra, hay $(\\binom{7}{1} \\times 2^3 = 56)$"
   ]
  },
  {
   "cell_type": "markdown",
   "id": "78665500",
   "metadata": {},
   "source": [
    "El número total de secuencias que cumplen la Condición 2 termina siendo $1024 + 1024 + 256 - 128 - 128 - 128 + 128 - 115 = 1933$. La probabilidad teórica de la Condición 1 es, por lo tanto, $(\\frac{1933}{16384})$."
   ]
  },
  {
   "cell_type": "markdown",
   "id": "3031d388",
   "metadata": {},
   "source": [
    "### Probabilidades en criterio 2.1"
   ]
  },
  {
   "cell_type": "markdown",
   "id": "3621ffce",
   "metadata": {},
   "source": [
    "Para las probabilidades del criterio de corrientes cada malla cuenta con 3 posiciones (sin el nodo compartido)"
   ]
  },
  {
   "cell_type": "markdown",
   "id": "b493f419",
   "metadata": {},
   "source": [
    "- SI aparecen dos fuentes de corriente hay $(\\binom{3}{2} = 3)$ formas de elegir las dos posiciones donde aparece. La otra posición pueden tomar cualquiera de los otros 3 elementos $(({2, 3, 4}))$. Por lo tanto, hay $(3 \\times 3^1 = 9)$ secuencias donde la fuente de corriente aparece exactamente dos veces.\n",
    "- Si aparecen tres fuentes de corriente hay solo 1 forma de elegir las tres posiciones donde aparece. Por lo tanto, hay 1 secuencia donde la fuente de corriente aparece exactamente tres veces.\n",
    "- El número de combinaciones de las 4 posiciones restantes es $4^4$, ya que pueden ser cualquiera de los 4 elementos"
   ]
  },
  {
   "cell_type": "markdown",
   "id": "4ff39c52",
   "metadata": {},
   "source": [
    "El número total de secuencias que cumplen la Condición 1.1 es $((9 + 1) * 4^4= 2560)$. La probabilidad teórica de la Condición 1 es, por lo tanto, $(\\frac{2560}{16384})$. "
   ]
  },
  {
   "cell_type": "markdown",
   "id": "dd39b257",
   "metadata": {},
   "source": [
    "### Probabilidades en criterio 2.2"
   ]
  },
  {
   "cell_type": "markdown",
   "id": "539075a6",
   "metadata": {},
   "source": [
    "- Si aparece una fuente de corriente en una malla, hay $(\\binom{3}{1} = 3)$ formas de elegir la posicion en la que aparece. Las otras dos posiciones pueden tener cualquiera de los 3 elementos restantes, por lo que hay $(3 \\times 3^2 = 27)$ combinaciones donde la fuente de corriente aparece una vez en la malla.\n",
    "- El mismo análisis aplica para la otra malla.\n",
    "- Sólo hay 1 forma de elegir la posición del medio para la fuente de corriente."
   ]
  },
  {
   "cell_type": "markdown",
   "id": "b3707533",
   "metadata": {},
   "source": [
    "El número total de secuencias que cumplen la Condición 1.2 es $(\\binom{3}{1} \\times 3^2)^2 \\times 1 = 729$. La probabilidad teórica de la Condición 1 es, por lo tanto, $(\\frac{729}{16384})$. "
   ]
  },
  {
   "cell_type": "markdown",
   "id": "9df0d8df",
   "metadata": {},
   "source": [
    "### Probabilidad Teórica Total "
   ]
  },
  {
   "cell_type": "markdown",
   "id": "77d27010",
   "metadata": {},
   "source": [
    "Se define teorico_total = teorico_1 + teorico_2 - intersección. Esto porque las dos condiciones no son mutuamente excluyentes. Si la Condición 1 se cumple (la fuente de corriente aparece al menos dos veces en una malla), aún la condición 2 puede cumplirse también. \n",
    "\n",
    "Por lo tanto, la probabilidad teórica de que se cumpla la Condición 1 o la Condición 2 es: $[P(\\text{Condición 1 o Condición 2}) = P(\\text{Condición 1}) + P(\\text{Condición 2}) - P(\\text{Intersección}) = \\frac{5449}{16384} + \\frac{1933}{16384} - \\frac{300}{16384} = \\frac{7082}{16384} = \\frac{3541}{8192}] \\approx 0.43225097656$ "
   ]
  },
  {
   "cell_type": "markdown",
   "id": "9a7929fd",
   "metadata": {},
   "source": [
    "### Resultados Experimentales "
   ]
  },
  {
   "cell_type": "markdown",
   "id": "2fb6a2d8",
   "metadata": {},
   "source": [
    "La simulación corre el experimento aleatorio 300,000 veces. Las variables almacenan las frecuencias relativas con las que se cumplen la Condición 1 y la Condición 2, respectivamente. Según la Ley de los Grandes Números, a medida que el número de experimentos aumenta, estas frecuencias relativas deberían aproximarse a las probabilidades teóricas correspondientes. \n",
    "- fr_1 debería ser aproximadamente igual a teorico_voltaje $((\\frac{1933}{16384} \\approx 0.11798))$.\n",
    "- fr_2 debería ser aproximadamente igual a teorico_corriente $((\\frac{5449}{16384} \\approx 0.33258))$.\n",
    "- fr_inv debería ser aproximadamente igual a teorico_total $((\\frac{3541}{8192} \\approx 0.43225097656))$. "
   ]
  },
  {
   "cell_type": "markdown",
   "id": "0b5424a0-ddfd-4248-a87c-ef89e3a0bf90",
   "metadata": {},
   "source": [
    "### Diagramas de flujo previo al codigo"
   ]
  },
  {
   "cell_type": "markdown",
   "id": "5bbac83b-7ec1-4541-baea-a677c63b85a1",
   "metadata": {},
   "source": [
    "#### Función constructora del circuito con elementos aleatorios"
   ]
  },
  {
   "cell_type": "code",
   "execution_count": 5,
   "id": "6a9eb657-c642-425e-8286-1089c471251a",
   "metadata": {
    "jupyter": {
     "source_hidden": true
    }
   },
   "outputs": [
    {
     "data": {
      "image/svg+xml": [
       "<?xml version=\"1.0\" encoding=\"UTF-8\" standalone=\"no\"?>\n",
       "<!DOCTYPE svg PUBLIC \"-//W3C//DTD SVG 1.1//EN\"\n",
       " \"http://www.w3.org/Graphics/SVG/1.1/DTD/svg11.dtd\">\n",
       "<!-- Generated by graphviz version 2.43.0 (0)\n",
       " -->\n",
       "<!-- Title: TwoMeshCircuit Pages: 1 -->\n",
       "<svg width=\"864pt\" height=\"553pt\"\n",
       " viewBox=\"0.00 0.00 864.00 553.22\" xmlns=\"http://www.w3.org/2000/svg\" xmlns:xlink=\"http://www.w3.org/1999/xlink\">\n",
       "<g id=\"graph0\" class=\"graph\" transform=\"scale(0.71 0.71) rotate(0) translate(4 777.52)\">\n",
       "<title>TwoMeshCircuit</title>\n",
       "<polygon fill=\"#f5f5f5\" stroke=\"transparent\" points=\"-4,4 -4,-777.52 1216.56,-777.52 1216.56,4 -4,4\"/>\n",
       "<g id=\"clust1\" class=\"cluster\">\n",
       "<title>cluster_legend</title>\n",
       "<path fill=\"#eeeeee\" stroke=\"#9e9e9e\" d=\"M293.06,-658.52C293.06,-658.52 899.06,-658.52 899.06,-658.52 905.06,-658.52 911.06,-664.52 911.06,-670.52 911.06,-670.52 911.06,-753.52 911.06,-753.52 911.06,-759.52 905.06,-765.52 899.06,-765.52 899.06,-765.52 293.06,-765.52 293.06,-765.52 287.06,-765.52 281.06,-759.52 281.06,-753.52 281.06,-753.52 281.06,-670.52 281.06,-670.52 281.06,-664.52 287.06,-658.52 293.06,-658.52\"/>\n",
       "<text text-anchor=\"middle\" x=\"596.06\" y=\"-750.32\" font-family=\"Arial\" font-size=\"14.00\">Leyenda de Elementos</text>\n",
       "</g>\n",
       "<!-- Start -->\n",
       "<g id=\"node1\" class=\"node\">\n",
       "<title>Start</title>\n",
       "<ellipse fill=\"none\" stroke=\"#2e7d32\" cx=\"135.06\" cy=\"-700.52\" rx=\"135.11\" ry=\"26.74\"/>\n",
       "<text text-anchor=\"middle\" x=\"135.06\" y=\"-704.32\" font-family=\"Times,serif\" font-size=\"14.00\">INICIO</text>\n",
       "<text text-anchor=\"middle\" x=\"135.06\" y=\"-689.32\" font-family=\"Times,serif\" font-size=\"14.00\">(Recibe parámetros v, h)</text>\n",
       "</g>\n",
       "<!-- 1 -->\n",
       "<g id=\"node2\" class=\"node\">\n",
       "<title>1</title>\n",
       "<ellipse fill=\"#2196f3\" stroke=\"#333333\" stroke-width=\"1.5\" cx=\"135.06\" cy=\"-599.9\" rx=\"116.85\" ry=\"22.76\"/>\n",
       "<text text-anchor=\"middle\" x=\"135.06\" y=\"-603.1\" font-family=\"Arial\" font-size=\"11.00\">1. Línea ↑</text>\n",
       "<text text-anchor=\"middle\" x=\"135.06\" y=\"-591.1\" font-family=\"Arial\" font-size=\"11.00\">(Contiene: dibujo_elemento(v))</text>\n",
       "</g>\n",
       "<!-- Start&#45;&gt;1 -->\n",
       "<g id=\"edge1\" class=\"edge\">\n",
       "<title>Start&#45;&gt;1</title>\n",
       "<path fill=\"none\" stroke=\"black\" d=\"M135.06,-673.61C135.06,-661.09 135.06,-645.95 135.06,-632.74\"/>\n",
       "<polygon fill=\"black\" stroke=\"black\" points=\"138.56,-632.64 135.06,-622.64 131.56,-632.64 138.56,-632.64\"/>\n",
       "</g>\n",
       "<!-- 2 -->\n",
       "<g id=\"node3\" class=\"node\">\n",
       "<title>2</title>\n",
       "<ellipse fill=\"#ff9800\" stroke=\"#333333\" stroke-width=\"1.5\" cx=\"135.06\" cy=\"-518.64\" rx=\"117.26\" ry=\"22.76\"/>\n",
       "<text text-anchor=\"middle\" x=\"135.06\" y=\"-521.84\" font-family=\"Arial\" font-size=\"11.00\">2. Línea →</text>\n",
       "<text text-anchor=\"middle\" x=\"135.06\" y=\"-509.84\" font-family=\"Arial\" font-size=\"11.00\">(Contiene: dibujo_elemento(h))</text>\n",
       "</g>\n",
       "<!-- 1&#45;&gt;2 -->\n",
       "<g id=\"edge2\" class=\"edge\">\n",
       "<title>1&#45;&gt;2</title>\n",
       "<path fill=\"none\" stroke=\"black\" d=\"M135.06,-577.24C135.06,-569.29 135.06,-560.11 135.06,-551.46\"/>\n",
       "<polygon fill=\"black\" stroke=\"black\" points=\"138.56,-551.27 135.06,-541.27 131.56,-551.27 138.56,-551.27\"/>\n",
       "</g>\n",
       "<!-- 3 -->\n",
       "<g id=\"node4\" class=\"node\">\n",
       "<title>3</title>\n",
       "<ellipse fill=\"#2196f3\" stroke=\"#333333\" stroke-width=\"1.5\" cx=\"135.06\" cy=\"-437.39\" rx=\"116.85\" ry=\"22.76\"/>\n",
       "<text text-anchor=\"middle\" x=\"135.06\" y=\"-440.59\" font-family=\"Arial\" font-size=\"11.00\">3. Línea ↓</text>\n",
       "<text text-anchor=\"middle\" x=\"135.06\" y=\"-428.59\" font-family=\"Arial\" font-size=\"11.00\">(Contiene: dibujo_elemento(v))</text>\n",
       "</g>\n",
       "<!-- 2&#45;&gt;3 -->\n",
       "<g id=\"edge3\" class=\"edge\">\n",
       "<title>2&#45;&gt;3</title>\n",
       "<path fill=\"none\" stroke=\"black\" d=\"M135.06,-495.98C135.06,-488.03 135.06,-478.86 135.06,-470.2\"/>\n",
       "<polygon fill=\"black\" stroke=\"black\" points=\"138.56,-470.02 135.06,-460.02 131.56,-470.02 138.56,-470.02\"/>\n",
       "</g>\n",
       "<!-- 4 -->\n",
       "<g id=\"node5\" class=\"node\">\n",
       "<title>4</title>\n",
       "<ellipse fill=\"#ff9800\" stroke=\"#333333\" stroke-width=\"1.5\" cx=\"135.06\" cy=\"-356.13\" rx=\"117.26\" ry=\"22.76\"/>\n",
       "<text text-anchor=\"middle\" x=\"135.06\" y=\"-359.33\" font-family=\"Arial\" font-size=\"11.00\">4. Línea →</text>\n",
       "<text text-anchor=\"middle\" x=\"135.06\" y=\"-347.33\" font-family=\"Arial\" font-size=\"11.00\">(Contiene: dibujo_elemento(h))</text>\n",
       "</g>\n",
       "<!-- 3&#45;&gt;4 -->\n",
       "<g id=\"edge4\" class=\"edge\">\n",
       "<title>3&#45;&gt;4</title>\n",
       "<path fill=\"none\" stroke=\"black\" d=\"M135.06,-414.73C135.06,-406.78 135.06,-397.6 135.06,-388.95\"/>\n",
       "<polygon fill=\"black\" stroke=\"black\" points=\"138.56,-388.76 135.06,-378.76 131.56,-388.76 138.56,-388.76\"/>\n",
       "</g>\n",
       "<!-- 5 -->\n",
       "<g id=\"node6\" class=\"node\">\n",
       "<title>5</title>\n",
       "<ellipse fill=\"#2196f3\" stroke=\"#333333\" stroke-width=\"1.5\" cx=\"135.06\" cy=\"-274.88\" rx=\"116.85\" ry=\"22.76\"/>\n",
       "<text text-anchor=\"middle\" x=\"135.06\" y=\"-278.08\" font-family=\"Arial\" font-size=\"11.00\">5. Línea ↓</text>\n",
       "<text text-anchor=\"middle\" x=\"135.06\" y=\"-266.08\" font-family=\"Arial\" font-size=\"11.00\">(Contiene: dibujo_elemento(v))</text>\n",
       "</g>\n",
       "<!-- 4&#45;&gt;5 -->\n",
       "<g id=\"edge5\" class=\"edge\">\n",
       "<title>4&#45;&gt;5</title>\n",
       "<path fill=\"none\" stroke=\"black\" d=\"M135.06,-333.48C135.06,-325.52 135.06,-316.35 135.06,-307.69\"/>\n",
       "<polygon fill=\"black\" stroke=\"black\" points=\"138.56,-307.51 135.06,-297.51 131.56,-307.51 138.56,-307.51\"/>\n",
       "</g>\n",
       "<!-- 6 -->\n",
       "<g id=\"node7\" class=\"node\">\n",
       "<title>6</title>\n",
       "<ellipse fill=\"#ff9800\" stroke=\"#333333\" stroke-width=\"1.5\" cx=\"135.06\" cy=\"-193.62\" rx=\"117.26\" ry=\"22.76\"/>\n",
       "<text text-anchor=\"middle\" x=\"135.06\" y=\"-196.82\" font-family=\"Arial\" font-size=\"11.00\">6. Línea ←</text>\n",
       "<text text-anchor=\"middle\" x=\"135.06\" y=\"-184.82\" font-family=\"Arial\" font-size=\"11.00\">(Contiene: dibujo_elemento(h))</text>\n",
       "</g>\n",
       "<!-- 5&#45;&gt;6 -->\n",
       "<g id=\"edge6\" class=\"edge\">\n",
       "<title>5&#45;&gt;6</title>\n",
       "<path fill=\"none\" stroke=\"black\" d=\"M135.06,-252.22C135.06,-244.27 135.06,-235.1 135.06,-226.44\"/>\n",
       "<polygon fill=\"black\" stroke=\"black\" points=\"138.56,-226.25 135.06,-216.25 131.56,-226.25 138.56,-226.25\"/>\n",
       "</g>\n",
       "<!-- 7 -->\n",
       "<g id=\"node8\" class=\"node\">\n",
       "<title>7</title>\n",
       "<ellipse fill=\"#ff9800\" stroke=\"#333333\" stroke-width=\"1.5\" cx=\"135.06\" cy=\"-112.37\" rx=\"117.26\" ry=\"22.76\"/>\n",
       "<text text-anchor=\"middle\" x=\"135.06\" y=\"-115.57\" font-family=\"Arial\" font-size=\"11.00\">7. Línea ←</text>\n",
       "<text text-anchor=\"middle\" x=\"135.06\" y=\"-103.57\" font-family=\"Arial\" font-size=\"11.00\">(Contiene: dibujo_elemento(h))</text>\n",
       "</g>\n",
       "<!-- 6&#45;&gt;7 -->\n",
       "<g id=\"edge7\" class=\"edge\">\n",
       "<title>6&#45;&gt;7</title>\n",
       "<path fill=\"none\" stroke=\"black\" d=\"M135.06,-170.97C135.06,-163.02 135.06,-153.84 135.06,-145.18\"/>\n",
       "<polygon fill=\"black\" stroke=\"black\" points=\"138.56,-145 135.06,-135 131.56,-145 138.56,-145\"/>\n",
       "</g>\n",
       "<!-- End -->\n",
       "<g id=\"node9\" class=\"node\">\n",
       "<title>End</title>\n",
       "<ellipse fill=\"none\" stroke=\"#b71c1c\" cx=\"135.06\" cy=\"-26.87\" rx=\"113.69\" ry=\"26.74\"/>\n",
       "<text text-anchor=\"middle\" x=\"135.06\" y=\"-30.67\" font-family=\"Times,serif\" font-size=\"14.00\">FIN</text>\n",
       "<text text-anchor=\"middle\" x=\"135.06\" y=\"-15.67\" font-family=\"Times,serif\" font-size=\"14.00\">Circuito completado</text>\n",
       "</g>\n",
       "<!-- 7&#45;&gt;End -->\n",
       "<g id=\"edge8\" class=\"edge\">\n",
       "<title>7&#45;&gt;End</title>\n",
       "<path fill=\"none\" stroke=\"black\" d=\"M135.06,-89.43C135.06,-81.67 135.06,-72.71 135.06,-64.08\"/>\n",
       "<polygon fill=\"black\" stroke=\"black\" points=\"138.56,-63.81 135.06,-53.81 131.56,-63.81 138.56,-63.81\"/>\n",
       "</g>\n",
       "<!-- v_note -->\n",
       "<g id=\"node10\" class=\"node\">\n",
       "<title>v_note</title>\n",
       "<polygon fill=\"none\" stroke=\"black\" points=\"897.56,-734.52 708.56,-734.52 708.56,-666.52 903.56,-666.52 903.56,-728.52 897.56,-734.52\"/>\n",
       "<polyline fill=\"none\" stroke=\"black\" points=\"897.56,-734.52 897.56,-728.52 \"/>\n",
       "<polyline fill=\"none\" stroke=\"black\" points=\"903.56,-728.52 897.56,-728.52 \"/>\n",
       "<text text-anchor=\"middle\" x=\"806.06\" y=\"-719.32\" font-family=\"Times,serif\" font-size=\"14.00\">Elementos Verticales (v):</text>\n",
       "<text text-anchor=\"middle\" x=\"806.06\" y=\"-704.32\" font-family=\"Times,serif\" font-size=\"14.00\">&#45; Resistor</text>\n",
       "<text text-anchor=\"middle\" x=\"806.06\" y=\"-689.32\" font-family=\"Times,serif\" font-size=\"14.00\">&#45; Fuente V</text>\n",
       "<text text-anchor=\"middle\" x=\"806.06\" y=\"-674.32\" font-family=\"Times,serif\" font-size=\"14.00\">&#45; Línea</text>\n",
       "</g>\n",
       "<!-- h_note -->\n",
       "<g id=\"node11\" class=\"node\">\n",
       "<title>h_note</title>\n",
       "<polygon fill=\"none\" stroke=\"black\" points=\"684.06,-734.52 474.06,-734.52 474.06,-666.52 690.06,-666.52 690.06,-728.52 684.06,-734.52\"/>\n",
       "<polyline fill=\"none\" stroke=\"black\" points=\"684.06,-734.52 684.06,-728.52 \"/>\n",
       "<polyline fill=\"none\" stroke=\"black\" points=\"690.06,-728.52 684.06,-728.52 \"/>\n",
       "<text text-anchor=\"middle\" x=\"582.06\" y=\"-719.32\" font-family=\"Times,serif\" font-size=\"14.00\">Elementos Horizontales (h):</text>\n",
       "<text text-anchor=\"middle\" x=\"582.06\" y=\"-704.32\" font-family=\"Times,serif\" font-size=\"14.00\">&#45; Resistor</text>\n",
       "<text text-anchor=\"middle\" x=\"582.06\" y=\"-689.32\" font-family=\"Times,serif\" font-size=\"14.00\">&#45; Fuente I</text>\n",
       "<text text-anchor=\"middle\" x=\"582.06\" y=\"-674.32\" font-family=\"Times,serif\" font-size=\"14.00\">&#45; Línea</text>\n",
       "</g>\n",
       "<!-- rand_note -->\n",
       "<g id=\"node12\" class=\"node\">\n",
       "<title>rand_note</title>\n",
       "<polygon fill=\"none\" stroke=\"black\" points=\"449.56,-727.02 288.56,-727.02 288.56,-674.02 455.56,-674.02 455.56,-721.02 449.56,-727.02\"/>\n",
       "<polyline fill=\"none\" stroke=\"black\" points=\"449.56,-727.02 449.56,-721.02 \"/>\n",
       "<polyline fill=\"none\" stroke=\"black\" points=\"455.56,-721.02 449.56,-721.02 \"/>\n",
       "<text text-anchor=\"middle\" x=\"372.06\" y=\"-711.82\" font-family=\"Times,serif\" font-size=\"14.00\">Elementos aleatorios</text>\n",
       "<text text-anchor=\"middle\" x=\"372.06\" y=\"-696.82\" font-family=\"Times,serif\" font-size=\"14.00\">generados por</text>\n",
       "<text text-anchor=\"middle\" x=\"372.06\" y=\"-681.82\" font-family=\"Times,serif\" font-size=\"14.00\">dibujo_elemento()</text>\n",
       "</g>\n",
       "<!-- func_note -->\n",
       "<g id=\"node13\" class=\"node\">\n",
       "<title>func_note</title>\n",
       "<polygon fill=\"none\" stroke=\"#0288d1\" points=\"1212.56,-742.52 921.56,-742.52 921.56,-738.52 917.56,-738.52 917.56,-734.52 921.56,-734.52 921.56,-666.52 917.56,-666.52 917.56,-662.52 921.56,-662.52 921.56,-658.52 1212.56,-658.52 1212.56,-742.52\"/>\n",
       "<polyline fill=\"none\" stroke=\"#0288d1\" points=\"921.56,-738.52 925.56,-738.52 925.56,-734.52 921.56,-734.52 \"/>\n",
       "<polyline fill=\"none\" stroke=\"#0288d1\" points=\"921.56,-666.52 925.56,-666.52 925.56,-662.52 921.56,-662.52 \"/>\n",
       "<text text-anchor=\"middle\" x=\"1067.06\" y=\"-727.32\" font-family=\"Times,serif\" font-size=\"14.00\">Función: dibujar_circuito_2mallas(v, h)</text>\n",
       "<text text-anchor=\"middle\" x=\"1067.06\" y=\"-696.32\" font-family=\"Times,serif\" font-size=\"14.00\">Parámetros:</text>\n",
       "<text text-anchor=\"middle\" x=\"1067.06\" y=\"-681.32\" font-family=\"Times,serif\" font-size=\"14.00\">v = elemento vertical</text>\n",
       "<text text-anchor=\"middle\" x=\"1067.06\" y=\"-666.32\" font-family=\"Times,serif\" font-size=\"14.00\">h = elemento horizontal</text>\n",
       "</g>\n",
       "</g>\n",
       "</svg>\n"
      ],
      "text/plain": [
       "<graphviz.graphs.Digraph at 0x7e211d6207a0>"
      ]
     },
     "execution_count": 5,
     "metadata": {},
     "output_type": "execute_result"
    }
   ],
   "source": [
    "from graphviz import Digraph\n",
    "\n",
    "dot = Digraph('TwoMeshCircuit', filename='circuit_diagram.gv')\n",
    "dot.attr(rankdir='TB', size='12,10', bgcolor='#f5f5f5', fontname='Arial')\n",
    "\n",
    "# Custom styles\n",
    "node_style = {\n",
    "    'style': 'filled,rounded',\n",
    "    'fontname': 'Arial',\n",
    "    'fontsize': '11',\n",
    "    'penwidth': '1.5'\n",
    "}\n",
    "\n",
    "# Main nodes\n",
    "dot.node('Start', 'INICIO\\n(Recibe parámetros v, h)', \n",
    "         shape='ellipse', fillcolor='#4CAF50', color='#2E7D32')\n",
    "\n",
    "steps = [\n",
    "    ('1', '1. Línea ↑\\n(Contiene: dibujo_elemento(v))', '#2196F3'),\n",
    "    ('2', '2. Línea →\\n(Contiene: dibujo_elemento(h))', '#FF9800'),\n",
    "    ('3', '3. Línea ↓\\n(Contiene: dibujo_elemento(v))', '#2196F3'),\n",
    "    ('4', '4. Línea →\\n(Contiene: dibujo_elemento(h))', '#FF9800'),\n",
    "    ('5', '5. Línea ↓\\n(Contiene: dibujo_elemento(v))', '#2196F3'),\n",
    "    ('6', '6. Línea ←\\n(Contiene: dibujo_elemento(h))', '#FF9800'),\n",
    "    ('7', '7. Línea ←\\n(Contiene: dibujo_elemento(h))', '#FF9800')\n",
    "]\n",
    "\n",
    "for id, label, color in steps:\n",
    "    dot.node(id, label, fillcolor=color, color='#333333', **node_style)\n",
    "\n",
    "dot.node('End', 'FIN\\nCircuito completado', \n",
    "         shape='ellipse', fillcolor='#F44336', color='#B71C1C')\n",
    "\n",
    "# Connections\n",
    "dot.edges([\n",
    "    ('Start', '1'),\n",
    "    ('1', '2'),\n",
    "    ('2', '3'),\n",
    "    ('3', '4'),\n",
    "    ('4', '5'),\n",
    "    ('5', '6'),\n",
    "    ('6', '7'),\n",
    "    ('7', 'End')\n",
    "])\n",
    "\n",
    "# Legend\n",
    "with dot.subgraph(name='cluster_legend') as legend:\n",
    "    legend.attr(label='Leyenda de Elementos', style='rounded,filled',\n",
    "               fillcolor='#EEEEEE', color='#9E9E9E')\n",
    "    legend.node('v_note', 'Elementos Verticales (v):\\n- Resistor\\n- Fuente V\\n- Línea', shape='note')\n",
    "    legend.node('h_note', 'Elementos Horizontales (h):\\n- Resistor\\n- Fuente I\\n- Línea', shape='note')\n",
    "    legend.node('rand_note', 'Elementos aleatorios\\ngenerados por\\ndibujo_elemento()', shape='note')\n",
    "\n",
    "# Function call note\n",
    "dot.node('func_note', 'Función: dibujar_circuito_2mallas(v, h)\\n\\nParámetros:\\nv = elemento vertical\\nh = elemento horizontal',\n",
    "         shape='component', fillcolor='#E1F5FE', color='#0288D1')\n",
    "\n",
    "dot"
   ]
  },
  {
   "cell_type": "markdown",
   "id": "ed65c634-72d4-49fc-92bd-8b4c59d631a2",
   "metadata": {},
   "source": [
    "#### Función simulación"
   ]
  },
  {
   "cell_type": "code",
   "execution_count": 2,
   "id": "45517239-fc3c-4324-80ce-b7d646c7a672",
   "metadata": {
    "jupyter": {
     "source_hidden": true
    }
   },
   "outputs": [
    {
     "data": {
      "image/svg+xml": [
       "<?xml version=\"1.0\" encoding=\"UTF-8\" standalone=\"no\"?>\n",
       "<!DOCTYPE svg PUBLIC \"-//W3C//DTD SVG 1.1//EN\"\n",
       " \"http://www.w3.org/Graphics/SVG/1.1/DTD/svg11.dtd\">\n",
       "<!-- Generated by graphviz version 2.43.0 (0)\n",
       " -->\n",
       "<!-- Title: CircuitValidation Pages: 1 -->\n",
       "<svg width=\"1080pt\" height=\"797pt\"\n",
       " viewBox=\"0.00 0.00 1080.00 797.47\" xmlns=\"http://www.w3.org/2000/svg\" xmlns:xlink=\"http://www.w3.org/1999/xlink\">\n",
       "<g id=\"graph0\" class=\"graph\" transform=\"scale(0.76 0.76) rotate(0) translate(4 1047.91)\">\n",
       "<title>CircuitValidation</title>\n",
       "<polygon fill=\"#f5f5f5\" stroke=\"transparent\" points=\"-4,4 -4,-1047.91 1420.58,-1047.91 1420.58,4 -4,4\"/>\n",
       "<g id=\"clust1\" class=\"cluster\">\n",
       "<title>cluster_left</title>\n",
       "<polygon fill=\"#e6f3ff\" stroke=\"black\" points=\"977.58,-102 977.58,-450 1305.58,-450 1305.58,-102 977.58,-102\"/>\n",
       "<text text-anchor=\"middle\" x=\"1141.58\" y=\"-434.8\" font-family=\"Arial\" font-size=\"14.00\">Malla Izquierda</text>\n",
       "</g>\n",
       "<g id=\"clust2\" class=\"cluster\">\n",
       "<title>cluster_right</title>\n",
       "<polygon fill=\"#e6f3ff\" stroke=\"black\" points=\"335.58,-102 335.58,-450 643.58,-450 643.58,-102 335.58,-102\"/>\n",
       "<text text-anchor=\"middle\" x=\"489.58\" y=\"-434.8\" font-family=\"Arial\" font-size=\"14.00\">Malla Derecha</text>\n",
       "</g>\n",
       "<g id=\"clust3\" class=\"cluster\">\n",
       "<title>cluster_border</title>\n",
       "<polygon fill=\"#e6f3ff\" stroke=\"black\" points=\"651.58,-102 651.58,-430 969.58,-430 969.58,-102 651.58,-102\"/>\n",
       "<text text-anchor=\"middle\" x=\"810.58\" y=\"-414.8\" font-family=\"Arial\" font-size=\"14.00\">Bordes Unidos</text>\n",
       "</g>\n",
       "<g id=\"clust4\" class=\"cluster\">\n",
       "<title>cluster_voltaje</title>\n",
       "<path fill=\"#fff3bf\" stroke=\"black\" d=\"M382.58,-8C382.58,-8 556.58,-8 556.58,-8 562.58,-8 568.58,-14 568.58,-20 568.58,-20 568.58,-71 568.58,-71 568.58,-77 562.58,-83 556.58,-83 556.58,-83 382.58,-83 382.58,-83 376.58,-83 370.58,-77 370.58,-71 370.58,-71 370.58,-20 370.58,-20 370.58,-14 376.58,-8 382.58,-8\"/>\n",
       "<text text-anchor=\"middle\" x=\"469.58\" y=\"-67.8\" font-family=\"Arial\" font-size=\"14.00\">Criterio 1: Fuentes de Voltaje</text>\n",
       "</g>\n",
       "<g id=\"clust5\" class=\"cluster\">\n",
       "<title>cluster_corriente</title>\n",
       "<path fill=\"#ffebee\" stroke=\"black\" d=\"M355.58,-676.82C355.58,-676.82 770.58,-676.82 770.58,-676.82 776.58,-676.82 782.58,-682.82 782.58,-688.82 782.58,-688.82 782.58,-1023.91 782.58,-1023.91 782.58,-1029.91 776.58,-1035.91 770.58,-1035.91 770.58,-1035.91 355.58,-1035.91 355.58,-1035.91 349.58,-1035.91 343.58,-1029.91 343.58,-1023.91 343.58,-1023.91 343.58,-688.82 343.58,-688.82 343.58,-682.82 349.58,-676.82 355.58,-676.82\"/>\n",
       "<text text-anchor=\"middle\" x=\"563.08\" y=\"-1020.71\" font-family=\"Arial\" font-size=\"14.00\">Criterio 2: Fuentes de Corriente</text>\n",
       "</g>\n",
       "<g id=\"clust6\" class=\"cluster\">\n",
       "<title>cluster_legend</title>\n",
       "<path fill=\"#eeeeee\" stroke=\"black\" d=\"M802.58,-940.91C802.58,-940.91 1396.58,-940.91 1396.58,-940.91 1402.58,-940.91 1408.58,-946.91 1408.58,-952.91 1408.58,-952.91 1408.58,-1003.91 1408.58,-1003.91 1408.58,-1009.91 1402.58,-1015.91 1396.58,-1015.91 1396.58,-1015.91 802.58,-1015.91 802.58,-1015.91 796.58,-1015.91 790.58,-1009.91 790.58,-1003.91 790.58,-1003.91 790.58,-952.91 790.58,-952.91 790.58,-946.91 796.58,-940.91 802.58,-940.91\"/>\n",
       "<text text-anchor=\"middle\" x=\"1099.58\" y=\"-1000.71\" font-family=\"Arial\" font-size=\"14.00\">Leyenda</text>\n",
       "</g>\n",
       "<!-- Start -->\n",
       "<g id=\"node1\" class=\"node\">\n",
       "<title>Start</title>\n",
       "<ellipse fill=\"none\" stroke=\"#2e7d32\" cx=\"167.58\" cy=\"-702.82\" rx=\"167.67\" ry=\"48.17\"/>\n",
       "<text text-anchor=\"middle\" x=\"167.58\" y=\"-721.62\" font-family=\"Times,serif\" font-size=\"14.00\">INICIO</text>\n",
       "<text text-anchor=\"middle\" x=\"167.58\" y=\"-706.62\" font-family=\"Times,serif\" font-size=\"14.00\">Inicializar:</text>\n",
       "<text text-anchor=\"middle\" x=\"167.58\" y=\"-691.62\" font-family=\"Times,serif\" font-size=\"14.00\">iter=0, voltaje_invalido=False,</text>\n",
       "<text text-anchor=\"middle\" x=\"167.58\" y=\"-676.62\" font-family=\"Times,serif\" font-size=\"14.00\">corriente_invalida=False</text>\n",
       "</g>\n",
       "<!-- Loop -->\n",
       "<g id=\"node2\" class=\"node\">\n",
       "<title>Loop</title>\n",
       "<polygon fill=\"lightgrey\" stroke=\"black\" stroke-width=\"1.5\" points=\"352.58,-617.74 278.58,-617.74 278.58,-581.74 352.58,-581.74 352.58,-617.74\"/>\n",
       "<text text-anchor=\"middle\" x=\"315.58\" y=\"-602.74\" font-family=\"Arial\" font-size=\"10.00\">Bucle While</text>\n",
       "<text text-anchor=\"middle\" x=\"315.58\" y=\"-591.74\" font-family=\"Arial\" font-size=\"10.00\">iter &lt; 300000</text>\n",
       "</g>\n",
       "<!-- Start&#45;&gt;Loop -->\n",
       "<g id=\"edge13\" class=\"edge\">\n",
       "<title>Start&#45;&gt;Loop</title>\n",
       "<path fill=\"none\" stroke=\"black\" d=\"M299.2,-672.99C309.75,-663.97 316.22,-652.17 315.58,-636.74\"/>\n",
       "<path fill=\"none\" stroke=\"black\" d=\"M315.58,-635.74C315.48,-633.19 315.41,-630.53 315.36,-627.88\"/>\n",
       "<polygon fill=\"black\" stroke=\"black\" points=\"318.86,-627.81 315.3,-617.84 311.86,-627.86 318.86,-627.81\"/>\n",
       "</g>\n",
       "<!-- Gen -->\n",
       "<g id=\"node3\" class=\"node\">\n",
       "<title>Gen</title>\n",
       "<polygon fill=\"#d0ebff\" stroke=\"#1c7ed6\" stroke-width=\"1.5\" points=\"846.58,-521.87 758.58,-521.87 758.58,-485.87 846.58,-485.87 846.58,-521.87\"/>\n",
       "<text text-anchor=\"middle\" x=\"802.58\" y=\"-506.87\" font-family=\"Arial\" font-size=\"10.00\">Generar Circuito</text>\n",
       "<text text-anchor=\"middle\" x=\"802.58\" y=\"-495.87\" font-family=\"Arial\" font-size=\"10.00\">2 Mallas</text>\n",
       "</g>\n",
       "<!-- Loop&#45;&gt;Gen -->\n",
       "<g id=\"edge14\" class=\"edge\">\n",
       "<title>Loop&#45;&gt;Gen</title>\n",
       "<path fill=\"none\" stroke=\"black\" d=\"M352.59,-591.61C437.89,-575.17 648.66,-534.54 748.49,-515.3\"/>\n",
       "<polygon fill=\"black\" stroke=\"black\" points=\"749.22,-518.72 758.37,-513.39 747.89,-511.85 749.22,-518.72\"/>\n",
       "<text text-anchor=\"middle\" x=\"598.58\" y=\"-552.54\" font-family=\"Times,serif\" font-size=\"14.00\">iter++</text>\n",
       "</g>\n",
       "<!-- End -->\n",
       "<g id=\"node20\" class=\"node\">\n",
       "<title>End</title>\n",
       "<ellipse fill=\"none\" stroke=\"#b71c1c\" cx=\"178.58\" cy=\"-503.87\" rx=\"108.79\" ry=\"26.74\"/>\n",
       "<text text-anchor=\"middle\" x=\"178.58\" y=\"-507.67\" font-family=\"Times,serif\" font-size=\"14.00\">FIN</text>\n",
       "<text text-anchor=\"middle\" x=\"178.58\" y=\"-492.67\" font-family=\"Times,serif\" font-size=\"14.00\">Mostrar resultados</text>\n",
       "</g>\n",
       "<!-- Loop&#45;&gt;End -->\n",
       "<g id=\"edge24\" class=\"edge\">\n",
       "<title>Loop&#45;&gt;End</title>\n",
       "<path fill=\"none\" stroke=\"black\" d=\"M278.38,-598.67C249.66,-596.52 211.13,-588.68 188.58,-563.74 182.95,-557.51 179.88,-549.32 178.32,-541.04\"/>\n",
       "<polygon fill=\"black\" stroke=\"black\" points=\"181.78,-540.52 177.09,-531.02 174.83,-541.38 181.78,-540.52\"/>\n",
       "<text text-anchor=\"middle\" x=\"245.08\" y=\"-552.54\" font-family=\"Times,serif\" font-size=\"14.00\">iter &gt;= 300000</text>\n",
       "</g>\n",
       "<!-- V_L1 -->\n",
       "<g id=\"node4\" class=\"node\">\n",
       "<title>V_L1</title>\n",
       "<polygon fill=\"#ffec99\" stroke=\"#ffc300\" points=\"1141.58,-419 985.58,-381 1141.58,-343 1297.58,-381 1141.58,-419\"/>\n",
       "<text text-anchor=\"middle\" x=\"1141.58\" y=\"-384.8\" font-family=\"Times,serif\" font-size=\"14.00\">¿Fuente Voltaje</text>\n",
       "<text text-anchor=\"middle\" x=\"1141.58\" y=\"-369.8\" font-family=\"Times,serif\" font-size=\"14.00\">en malla izquierda?</text>\n",
       "</g>\n",
       "<!-- Gen&#45;&gt;V_L1 -->\n",
       "<g id=\"edge15\" class=\"edge\">\n",
       "<title>Gen&#45;&gt;V_L1</title>\n",
       "<path fill=\"none\" stroke=\"black\" d=\"M810.58,-458C811.57,-448.99 964.73,-451.95 973.58,-450 1011.34,-441.68 1051.56,-425.68 1083.17,-411.29\"/>\n",
       "<polygon fill=\"black\" stroke=\"black\" points=\"1084.66,-414.46 1092.27,-407.09 1081.73,-408.11 1084.66,-414.46\"/>\n",
       "</g>\n",
       "<!-- V_R1 -->\n",
       "<g id=\"node8\" class=\"node\">\n",
       "<title>V_R1</title>\n",
       "<polygon fill=\"#ffec99\" stroke=\"#ffc300\" points=\"489.58,-419 343.58,-381 489.58,-343 635.58,-381 489.58,-419\"/>\n",
       "<text text-anchor=\"middle\" x=\"489.58\" y=\"-384.8\" font-family=\"Times,serif\" font-size=\"14.00\">¿Fuente Voltaje</text>\n",
       "<text text-anchor=\"middle\" x=\"489.58\" y=\"-369.8\" font-family=\"Times,serif\" font-size=\"14.00\">en malla derecha?</text>\n",
       "</g>\n",
       "<!-- Gen&#45;&gt;V_R1 -->\n",
       "<g id=\"edge16\" class=\"edge\">\n",
       "<title>Gen&#45;&gt;V_R1</title>\n",
       "<path fill=\"none\" stroke=\"black\" d=\"M806.27,-485.87C807.88,-477.77 809.61,-467.93 810.58,-459\"/>\n",
       "<path fill=\"none\" stroke=\"black\" d=\"M810.58,-458C811.57,-448.99 656.42,-452.05 647.58,-450 612.15,-441.79 574.66,-425.99 545.1,-411.69\"/>\n",
       "<polygon fill=\"black\" stroke=\"black\" points=\"546.31,-408.39 535.79,-407.11 543.22,-414.67 546.31,-408.39\"/>\n",
       "</g>\n",
       "<!-- V_B1 -->\n",
       "<g id=\"node12\" class=\"node\">\n",
       "<title>V_B1</title>\n",
       "<polygon fill=\"#ffec99\" stroke=\"#ffc300\" points=\"810.58,-399 659.6,-381 810.58,-363 961.57,-381 810.58,-399\"/>\n",
       "<text text-anchor=\"middle\" x=\"810.58\" y=\"-377.3\" font-family=\"Times,serif\" font-size=\"14.00\">¿Fuentes en bordes?</text>\n",
       "</g>\n",
       "<!-- Gen&#45;&gt;V_B1 -->\n",
       "<g id=\"edge17\" class=\"edge\">\n",
       "<title>Gen&#45;&gt;V_B1</title>\n",
       "<path fill=\"none\" stroke=\"black\" d=\"M810.58,-458C812.34,-441.9 812.41,-423.78 812.01,-409.26\"/>\n",
       "<polygon fill=\"black\" stroke=\"black\" points=\"815.5,-408.83 811.63,-398.96 808.5,-409.08 815.5,-408.83\"/>\n",
       "</g>\n",
       "<!-- C1 -->\n",
       "<g id=\"node17\" class=\"node\">\n",
       "<title>C1</title>\n",
       "<polygon fill=\"#ffec99\" stroke=\"#ffc300\" points=\"609.58,-1004.91 444.58,-966.91 609.58,-928.91 774.58,-966.91 609.58,-1004.91\"/>\n",
       "<text text-anchor=\"middle\" x=\"609.58\" y=\"-970.71\" font-family=\"Times,serif\" font-size=\"14.00\">¿&gt;1 fuente corriente</text>\n",
       "<text text-anchor=\"middle\" x=\"609.58\" y=\"-955.71\" font-family=\"Times,serif\" font-size=\"14.00\">en malla izq. o der.?</text>\n",
       "</g>\n",
       "<!-- Gen&#45;&gt;C1 -->\n",
       "<g id=\"edge18\" class=\"edge\">\n",
       "<title>Gen&#45;&gt;C1</title>\n",
       "<path fill=\"none\" stroke=\"black\" d=\"M802.58,-522.17C802.58,-541.01 802.58,-572.01 802.58,-598.74 802.58,-840.91 802.58,-840.91 802.58,-840.91 802.58,-894.16 750.18,-925.86 699.98,-944\"/>\n",
       "<polygon fill=\"black\" stroke=\"black\" points=\"698.62,-940.77 690.32,-947.34 700.91,-947.38 698.62,-940.77\"/>\n",
       "</g>\n",
       "<!-- V_L1_1 -->\n",
       "<g id=\"node5\" class=\"node\">\n",
       "<title>V_L1_1</title>\n",
       "<polygon fill=\"#e3f2fd\" stroke=\"#bbdefb\" points=\"1188.08,-292 1021.08,-292 1021.08,-256 1188.08,-256 1188.08,-292\"/>\n",
       "<text text-anchor=\"middle\" x=\"1104.58\" y=\"-270.3\" font-family=\"Times,serif\" font-size=\"14.00\">1 fuente + &gt;2 cortos</text>\n",
       "</g>\n",
       "<!-- V_L1&#45;&gt;V_L1_1 -->\n",
       "<g id=\"edge1\" class=\"edge\">\n",
       "<title>V_L1&#45;&gt;V_L1_1</title>\n",
       "<path fill=\"none\" stroke=\"black\" d=\"M1129.57,-345.91C1124.53,-331.59 1118.75,-315.19 1114.02,-301.76\"/>\n",
       "<polygon fill=\"black\" stroke=\"black\" points=\"1117.26,-300.43 1110.63,-292.16 1110.66,-302.76 1117.26,-300.43\"/>\n",
       "<text text-anchor=\"middle\" x=\"1129.08\" y=\"-313.8\" font-family=\"Times,serif\" font-size=\"14.00\">Sí</text>\n",
       "</g>\n",
       "<!-- V_L1_2 -->\n",
       "<g id=\"node6\" class=\"node\">\n",
       "<title>V_L1_2</title>\n",
       "<polygon fill=\"#e3f2fd\" stroke=\"#bbdefb\" points=\"1166.58,-219 1004.58,-219 1004.58,-183 1166.58,-183 1166.58,-219\"/>\n",
       "<text text-anchor=\"middle\" x=\"1085.58\" y=\"-197.3\" font-family=\"Times,serif\" font-size=\"14.00\">2 fuentes + 2 cortos</text>\n",
       "</g>\n",
       "<!-- V_L1_1&#45;&gt;V_L1_2 -->\n",
       "<g id=\"edge2\" class=\"edge\">\n",
       "<title>V_L1_1&#45;&gt;V_L1_2</title>\n",
       "<path fill=\"none\" stroke=\"black\" d=\"M1099.98,-255.81C1097.81,-247.7 1095.17,-237.84 1092.75,-228.78\"/>\n",
       "<polygon fill=\"black\" stroke=\"black\" points=\"1096.11,-227.78 1090.14,-219.03 1089.35,-229.59 1096.11,-227.78\"/>\n",
       "</g>\n",
       "<!-- V_L1_3 -->\n",
       "<g id=\"node7\" class=\"node\">\n",
       "<title>V_L1_3</title>\n",
       "<polygon fill=\"#e3f2fd\" stroke=\"#bbdefb\" points=\"1141.08,-146 986.08,-146 986.08,-110 1141.08,-110 1141.08,-146\"/>\n",
       "<text text-anchor=\"middle\" x=\"1063.58\" y=\"-124.3\" font-family=\"Times,serif\" font-size=\"14.00\">3 fuentes + 1 corto</text>\n",
       "</g>\n",
       "<!-- V_L1_2&#45;&gt;V_L1_3 -->\n",
       "<g id=\"edge3\" class=\"edge\">\n",
       "<title>V_L1_2&#45;&gt;V_L1_3</title>\n",
       "<path fill=\"none\" stroke=\"black\" d=\"M1080.26,-182.81C1077.75,-174.7 1074.69,-164.84 1071.88,-155.78\"/>\n",
       "<polygon fill=\"black\" stroke=\"black\" points=\"1075.16,-154.54 1068.86,-146.03 1068.48,-156.62 1075.16,-154.54\"/>\n",
       "</g>\n",
       "<!-- SetV -->\n",
       "<g id=\"node16\" class=\"node\">\n",
       "<title>SetV</title>\n",
       "<polygon fill=\"#ffcdd2\" stroke=\"#ef9a9a\" points=\"560.58,-52 378.58,-52 378.58,-16 560.58,-16 560.58,-52\"/>\n",
       "<text text-anchor=\"middle\" x=\"469.58\" y=\"-30.3\" font-family=\"Times,serif\" font-size=\"14.00\">voltaje_invalido = True</text>\n",
       "</g>\n",
       "<!-- V_L1_3&#45;&gt;SetV -->\n",
       "<g id=\"edge19\" class=\"edge\">\n",
       "<title>V_L1_3&#45;&gt;SetV</title>\n",
       "<path fill=\"none\" stroke=\"black\" d=\"M1009.26,-109.94C997.59,-106.83 985.26,-103.96 973.58,-102 955.69,-99 822.17,-105.96 810.58,-92\"/>\n",
       "</g>\n",
       "<!-- V_R1_1 -->\n",
       "<g id=\"node9\" class=\"node\">\n",
       "<title>V_R1_1</title>\n",
       "<polygon fill=\"#e3f2fd\" stroke=\"#bbdefb\" points=\"605.08,-292 438.08,-292 438.08,-256 605.08,-256 605.08,-292\"/>\n",
       "<text text-anchor=\"middle\" x=\"521.58\" y=\"-270.3\" font-family=\"Times,serif\" font-size=\"14.00\">1 fuente + &gt;2 cortos</text>\n",
       "</g>\n",
       "<!-- V_R1&#45;&gt;V_R1_1 -->\n",
       "<g id=\"edge4\" class=\"edge\">\n",
       "<title>V_R1&#45;&gt;V_R1_1</title>\n",
       "<path fill=\"none\" stroke=\"black\" d=\"M500.06,-345.62C504.38,-331.46 509.3,-315.3 513.35,-302.01\"/>\n",
       "<polygon fill=\"black\" stroke=\"black\" points=\"516.82,-302.65 516.38,-292.07 510.12,-300.61 516.82,-302.65\"/>\n",
       "<text text-anchor=\"middle\" x=\"517.08\" y=\"-313.8\" font-family=\"Times,serif\" font-size=\"14.00\">Sí</text>\n",
       "</g>\n",
       "<!-- V_R1_2 -->\n",
       "<g id=\"node10\" class=\"node\">\n",
       "<title>V_R1_2</title>\n",
       "<polygon fill=\"#e3f2fd\" stroke=\"#bbdefb\" points=\"621.58,-219 459.58,-219 459.58,-183 621.58,-183 621.58,-219\"/>\n",
       "<text text-anchor=\"middle\" x=\"540.58\" y=\"-197.3\" font-family=\"Times,serif\" font-size=\"14.00\">2 fuentes + 2 cortos</text>\n",
       "</g>\n",
       "<!-- V_R1_1&#45;&gt;V_R1_2 -->\n",
       "<g id=\"edge5\" class=\"edge\">\n",
       "<title>V_R1_1&#45;&gt;V_R1_2</title>\n",
       "<path fill=\"none\" stroke=\"black\" d=\"M526.18,-255.81C528.35,-247.7 530.99,-237.84 533.42,-228.78\"/>\n",
       "<polygon fill=\"black\" stroke=\"black\" points=\"536.82,-229.59 536.03,-219.03 530.06,-227.78 536.82,-229.59\"/>\n",
       "</g>\n",
       "<!-- V_R1_3 -->\n",
       "<g id=\"node11\" class=\"node\">\n",
       "<title>V_R1_3</title>\n",
       "<polygon fill=\"#e3f2fd\" stroke=\"#bbdefb\" points=\"633.08,-146 478.08,-146 478.08,-110 633.08,-110 633.08,-146\"/>\n",
       "<text text-anchor=\"middle\" x=\"555.58\" y=\"-124.3\" font-family=\"Times,serif\" font-size=\"14.00\">3 fuentes + 1 corto</text>\n",
       "</g>\n",
       "<!-- V_R1_2&#45;&gt;V_R1_3 -->\n",
       "<g id=\"edge6\" class=\"edge\">\n",
       "<title>V_R1_2&#45;&gt;V_R1_3</title>\n",
       "<path fill=\"none\" stroke=\"black\" d=\"M544.22,-182.81C545.91,-174.79 547.97,-165.05 549.87,-156.07\"/>\n",
       "<polygon fill=\"black\" stroke=\"black\" points=\"553.34,-156.54 551.99,-146.03 546.5,-155.09 553.34,-156.54\"/>\n",
       "</g>\n",
       "<!-- V_R1_3&#45;&gt;SetV -->\n",
       "<g id=\"edge20\" class=\"edge\">\n",
       "<title>V_R1_3&#45;&gt;SetV</title>\n",
       "<path fill=\"none\" stroke=\"black\" d=\"M611.13,-109.95C623.06,-106.84 635.66,-103.96 647.58,-102 665.49,-99.05 822.17,-105.96 810.58,-92\"/>\n",
       "<path fill=\"none\" stroke=\"black\" d=\"M810.58,-91C780.65,-54.94 660.26,-42.04 570.96,-37.46\"/>\n",
       "<polygon fill=\"black\" stroke=\"black\" points=\"570.94,-33.95 560.78,-36.96 570.6,-40.94 570.94,-33.95\"/>\n",
       "</g>\n",
       "<!-- V_B1_1 -->\n",
       "<g id=\"node13\" class=\"node\">\n",
       "<title>V_B1_1</title>\n",
       "<polygon fill=\"#e3f2fd\" stroke=\"#bbdefb\" points=\"894.08,-292 727.08,-292 727.08,-256 894.08,-256 894.08,-292\"/>\n",
       "<text text-anchor=\"middle\" x=\"810.58\" y=\"-270.3\" font-family=\"Times,serif\" font-size=\"14.00\">1 fuente + &gt;4 cortos</text>\n",
       "</g>\n",
       "<!-- V_B1&#45;&gt;V_B1_1 -->\n",
       "<g id=\"edge7\" class=\"edge\">\n",
       "<title>V_B1&#45;&gt;V_B1_1</title>\n",
       "<path fill=\"none\" stroke=\"black\" d=\"M810.58,-362.66C810.58,-346.22 810.58,-321.28 810.58,-302.19\"/>\n",
       "<polygon fill=\"black\" stroke=\"black\" points=\"814.08,-302.02 810.58,-292.02 807.08,-302.02 814.08,-302.02\"/>\n",
       "<text text-anchor=\"middle\" x=\"818.08\" y=\"-313.8\" font-family=\"Times,serif\" font-size=\"14.00\">Sí</text>\n",
       "</g>\n",
       "<!-- V_B1_2 -->\n",
       "<g id=\"node14\" class=\"node\">\n",
       "<title>V_B1_2</title>\n",
       "<polygon fill=\"#e3f2fd\" stroke=\"#bbdefb\" points=\"894.08,-219 727.08,-219 727.08,-183 894.08,-183 894.08,-219\"/>\n",
       "<text text-anchor=\"middle\" x=\"810.58\" y=\"-197.3\" font-family=\"Times,serif\" font-size=\"14.00\">2 fuentes + &gt;1 corto</text>\n",
       "</g>\n",
       "<!-- V_B1_1&#45;&gt;V_B1_2 -->\n",
       "<g id=\"edge8\" class=\"edge\">\n",
       "<title>V_B1_1&#45;&gt;V_B1_2</title>\n",
       "<path fill=\"none\" stroke=\"black\" d=\"M810.58,-255.81C810.58,-247.79 810.58,-238.05 810.58,-229.07\"/>\n",
       "<polygon fill=\"black\" stroke=\"black\" points=\"814.08,-229.03 810.58,-219.03 807.08,-229.03 814.08,-229.03\"/>\n",
       "</g>\n",
       "<!-- V_B1_3 -->\n",
       "<g id=\"node15\" class=\"node\">\n",
       "<title>V_B1_3</title>\n",
       "<polygon fill=\"#e3f2fd\" stroke=\"#bbdefb\" points=\"888.08,-146 733.08,-146 733.08,-110 888.08,-110 888.08,-146\"/>\n",
       "<text text-anchor=\"middle\" x=\"810.58\" y=\"-124.3\" font-family=\"Times,serif\" font-size=\"14.00\">3 fuentes + 1 corto</text>\n",
       "</g>\n",
       "<!-- V_B1_2&#45;&gt;V_B1_3 -->\n",
       "<g id=\"edge9\" class=\"edge\">\n",
       "<title>V_B1_2&#45;&gt;V_B1_3</title>\n",
       "<path fill=\"none\" stroke=\"black\" d=\"M810.58,-182.81C810.58,-174.79 810.58,-165.05 810.58,-156.07\"/>\n",
       "<polygon fill=\"black\" stroke=\"black\" points=\"814.08,-156.03 810.58,-146.03 807.08,-156.03 814.08,-156.03\"/>\n",
       "</g>\n",
       "<!-- V_B1_3&#45;&gt;SetV -->\n",
       "<g id=\"edge21\" class=\"edge\">\n",
       "<title>V_B1_3&#45;&gt;SetV</title>\n",
       "<path fill=\"none\" stroke=\"black\" d=\"M814.85,-109.78C815.38,-103.55 814.62,-96.86 810.58,-92\"/>\n",
       "</g>\n",
       "<!-- SetV&#45;&gt;Loop -->\n",
       "<g id=\"edge22\" class=\"edge\">\n",
       "<title>SetV&#45;&gt;Loop</title>\n",
       "<path fill=\"none\" stroke=\"black\" stroke-dasharray=\"5,2\" d=\"M389.88,-52.03C352.3,-65.22 315.58,-88.07 315.58,-127 315.58,-504.87 315.58,-504.87 315.58,-504.87 315.58,-527.21 315.58,-552.55 315.58,-571.26\"/>\n",
       "<polygon fill=\"black\" stroke=\"black\" points=\"312.08,-571.44 315.58,-581.44 319.08,-571.44 312.08,-571.44\"/>\n",
       "</g>\n",
       "<!-- C2 -->\n",
       "<g id=\"node18\" class=\"node\">\n",
       "<title>C2</title>\n",
       "<polygon fill=\"#ffec99\" stroke=\"#ffc300\" points=\"537.58,-877.91 351.58,-839.91 537.58,-801.91 723.58,-839.91 537.58,-877.91\"/>\n",
       "<text text-anchor=\"middle\" x=\"537.58\" y=\"-843.71\" font-family=\"Times,serif\" font-size=\"14.00\">¿1 fuente en cada malla</text>\n",
       "<text text-anchor=\"middle\" x=\"537.58\" y=\"-828.71\" font-family=\"Times,serif\" font-size=\"14.00\">+ fuente central?</text>\n",
       "</g>\n",
       "<!-- C1&#45;&gt;C2 -->\n",
       "<g id=\"edge11\" class=\"edge\">\n",
       "<title>C1&#45;&gt;C2</title>\n",
       "<path fill=\"none\" stroke=\"black\" d=\"M590.67,-933.06C581.88,-917.81 571.32,-899.48 561.95,-883.2\"/>\n",
       "<polygon fill=\"black\" stroke=\"black\" points=\"564.9,-881.32 556.88,-874.4 558.83,-884.81 564.9,-881.32\"/>\n",
       "<text text-anchor=\"middle\" x=\"588.08\" y=\"-899.71\" font-family=\"Times,serif\" font-size=\"14.00\">No</text>\n",
       "</g>\n",
       "<!-- SetC -->\n",
       "<g id=\"node19\" class=\"node\">\n",
       "<title>SetC</title>\n",
       "<polygon fill=\"#ffcdd2\" stroke=\"#ef9a9a\" points=\"574.08,-720.82 375.08,-720.82 375.08,-684.82 574.08,-684.82 574.08,-720.82\"/>\n",
       "<text text-anchor=\"middle\" x=\"474.58\" y=\"-699.12\" font-family=\"Times,serif\" font-size=\"14.00\">corriente_invalida = True</text>\n",
       "</g>\n",
       "<!-- C1&#45;&gt;SetC -->\n",
       "<g id=\"edge10\" class=\"edge\">\n",
       "<title>C1&#45;&gt;SetC</title>\n",
       "<path fill=\"none\" stroke=\"black\" d=\"M664.64,-941.51C690.25,-927.02 718.18,-905.93 732.58,-877.91 748.03,-847.87 751.76,-829.71 732.58,-801.91 699.16,-753.44 638.4,-728.91 584.24,-716.49\"/>\n",
       "<polygon fill=\"black\" stroke=\"black\" points=\"584.72,-713.02 574.21,-714.31 583.24,-719.86 584.72,-713.02\"/>\n",
       "<text text-anchor=\"middle\" x=\"753.08\" y=\"-836.21\" font-family=\"Times,serif\" font-size=\"14.00\">Sí</text>\n",
       "</g>\n",
       "<!-- C2&#45;&gt;SetC -->\n",
       "<g id=\"edge12\" class=\"edge\">\n",
       "<title>C2&#45;&gt;SetC</title>\n",
       "<path fill=\"none\" stroke=\"black\" d=\"M521.69,-804.82C510.88,-781.64 496.79,-751.43 486.84,-730.1\"/>\n",
       "<polygon fill=\"black\" stroke=\"black\" points=\"489.99,-728.58 482.59,-720.99 483.65,-731.53 489.99,-728.58\"/>\n",
       "<text text-anchor=\"middle\" x=\"519.08\" y=\"-772.71\" font-family=\"Times,serif\" font-size=\"14.00\">Sí</text>\n",
       "</g>\n",
       "<!-- SetC&#45;&gt;Loop -->\n",
       "<g id=\"edge23\" class=\"edge\">\n",
       "<title>SetC&#45;&gt;Loop</title>\n",
       "<path fill=\"none\" stroke=\"black\" stroke-dasharray=\"5,2\" d=\"M426.98,-684.7C380.23,-667.54 315.83,-642.81 315.58,-636.74\"/>\n",
       "</g>\n",
       "<!-- L1 -->\n",
       "<g id=\"node21\" class=\"node\">\n",
       "<title>L1</title>\n",
       "<text text-anchor=\"middle\" x=\"1299.58\" y=\"-963.21\" font-family=\"Times,serif\" font-size=\"14.00\">Condiciones de Validación</text>\n",
       "</g>\n",
       "<!-- L2 -->\n",
       "<g id=\"node22\" class=\"node\">\n",
       "<title>L2</title>\n",
       "<text text-anchor=\"middle\" x=\"1080.58\" y=\"-963.21\" font-family=\"Times,serif\" font-size=\"14.00\">Contadores de Elementos</text>\n",
       "</g>\n",
       "<!-- L3 -->\n",
       "<g id=\"node23\" class=\"node\">\n",
       "<title>L3</title>\n",
       "<text text-anchor=\"middle\" x=\"880.58\" y=\"-963.21\" font-family=\"Times,serif\" font-size=\"14.00\">Resultados Invalidos</text>\n",
       "</g>\n",
       "</g>\n",
       "</svg>\n"
      ],
      "text/plain": [
       "<graphviz.graphs.Digraph at 0x7e211d228f50>"
      ]
     },
     "execution_count": 2,
     "metadata": {},
     "output_type": "execute_result"
    }
   ],
   "source": [
    "from graphviz import Digraph\n",
    "\n",
    "dot = Digraph('CircuitValidation', filename='circuit_validation.gv')\n",
    "dot.attr(rankdir='TB', size='15,20', bgcolor='#f5f5f5', fontname='Arial', concentrate='true')\n",
    "\n",
    "# ===== STYLES =====\n",
    "main_style = {'style': 'filled', 'fontname': 'Arial', 'fontsize': '10', 'shape': 'box', 'penwidth': '1.5'}\n",
    "cond_style = {'shape': 'diamond', 'style': 'filled', 'fillcolor': '#ffec99', 'color': '#ffc300'}\n",
    "count_style = {'shape': 'box', 'style': 'filled', 'fillcolor': '#e3f2fd', 'color': '#bbdefb'}\n",
    "invalid_style = {'shape': 'box', 'style': 'filled', 'fillcolor': '#ffcdd2', 'color': '#ef9a9a'}\n",
    "\n",
    "# ===== MAIN STRUCTURE =====\n",
    "dot.node('Start', 'INICIO\\nInicializar:\\niter=0, voltaje_invalido=False,\\ncorriente_invalida=False', \n",
    "         shape='ellipse', fillcolor='#4CAF50', color='#2E7D32')\n",
    "\n",
    "dot.node('Loop', 'Bucle While\\niter < 300000', **main_style)\n",
    "dot.node('Gen', 'Generar Circuito\\n2 Mallas', fillcolor='#d0ebff', color='#1c7ed6', **main_style)\n",
    "\n",
    "# ===== CRITERIO 1: VOLTAJE =====\n",
    "with dot.subgraph(name='cluster_voltaje') as v_cluster:\n",
    "    v_cluster.attr(label='Criterio 1: Fuentes de Voltaje', style='rounded,filled', fillcolor='#fff3bf')\n",
    "    \n",
    "    # Malla Izquierda\n",
    "    with dot.subgraph(name='cluster_left') as left:\n",
    "        left.attr(label='Malla Izquierda', style='filled', fillcolor='#e6f3ff')\n",
    "        left.node('V_L1', '¿Fuente Voltaje\\nen malla izquierda?', **cond_style)\n",
    "        left.node('V_L1_1', '1 fuente + >2 cortos', **count_style)\n",
    "        left.node('V_L1_2', '2 fuentes + 2 cortos', **count_style)\n",
    "        left.node('V_L1_3', '3 fuentes + 1 corto', **count_style)\n",
    "        left.edge('V_L1', 'V_L1_1', label='Sí')\n",
    "        left.edge('V_L1_1', 'V_L1_2')\n",
    "        left.edge('V_L1_2', 'V_L1_3')\n",
    "    \n",
    "    # Malla Derecha\n",
    "    with dot.subgraph(name='cluster_right') as right:\n",
    "        right.attr(label='Malla Derecha', style='filled', fillcolor='#e6f3ff')\n",
    "        right.node('V_R1', '¿Fuente Voltaje\\nen malla derecha?', **cond_style)\n",
    "        right.node('V_R1_1', '1 fuente + >2 cortos', **count_style)\n",
    "        right.node('V_R1_2', '2 fuentes + 2 cortos', **count_style)\n",
    "        right.node('V_R1_3', '3 fuentes + 1 corto', **count_style)\n",
    "        right.edge('V_R1', 'V_R1_1', label='Sí')\n",
    "        right.edge('V_R1_1', 'V_R1_2')\n",
    "        right.edge('V_R1_2', 'V_R1_3')\n",
    "    \n",
    "    # Bordes\n",
    "    with dot.subgraph(name='cluster_border') as border:\n",
    "        border.attr(label='Bordes Unidos', style='filled', fillcolor='#e6f3ff')\n",
    "        border.node('V_B1', '¿Fuentes en bordes?', **cond_style)\n",
    "        border.node('V_B1_1', '1 fuente + >4 cortos', **count_style)\n",
    "        border.node('V_B1_2', '2 fuentes + >1 corto', **count_style)\n",
    "        border.node('V_B1_3', '3 fuentes + 1 corto', **count_style)\n",
    "        border.edge('V_B1', 'V_B1_1', label='Sí')\n",
    "        border.edge('V_B1_1', 'V_B1_2')\n",
    "        border.edge('V_B1_2', 'V_B1_3')\n",
    "    \n",
    "    v_cluster.node('SetV', 'voltaje_invalido = True', **invalid_style)\n",
    "\n",
    "# ===== CRITERIO 2: CORRIENTE =====\n",
    "with dot.subgraph(name='cluster_corriente') as c_cluster:\n",
    "    c_cluster.attr(label='Criterio 2: Fuentes de Corriente', style='rounded,filled', fillcolor='#ffebee')\n",
    "    \n",
    "    c_cluster.node('C1', '¿>1 fuente corriente\\nen malla izq. o der.?', **cond_style)\n",
    "    c_cluster.node('C2', '¿1 fuente en cada malla\\n+ fuente central?', **cond_style)\n",
    "    c_cluster.node('SetC', 'corriente_invalida = True', **invalid_style)\n",
    "    \n",
    "    c_cluster.edge('C1', 'SetC', label='Sí')\n",
    "    c_cluster.edge('C1', 'C2', label='No')\n",
    "    c_cluster.edge('C2', 'SetC', label='Sí')\n",
    "\n",
    "# ===== CONNECTIONS =====\n",
    "dot.edge('Start', 'Loop')\n",
    "dot.edge('Loop', 'Gen', label='iter++')\n",
    "dot.edge('Gen', 'V_L1')\n",
    "dot.edge('Gen', 'V_R1')\n",
    "dot.edge('Gen', 'V_B1')\n",
    "dot.edge('Gen', 'C1')\n",
    "\n",
    "# Connect validation results\n",
    "dot.edge('V_L1_3', 'SetV')\n",
    "dot.edge('V_R1_3', 'SetV')\n",
    "dot.edge('V_B1_3', 'SetV')\n",
    "dot.edge('SetV', 'Loop', style='dashed')\n",
    "dot.edge('SetC', 'Loop', style='dashed')\n",
    "\n",
    "dot.node('End', 'FIN\\nMostrar resultados', shape='ellipse', fillcolor='#F44336', color='#B71C1C')\n",
    "dot.edge('Loop', 'End', label='iter >= 300000')\n",
    "\n",
    "# ===== LEGEND =====\n",
    "with dot.subgraph(name='cluster_legend') as legend:\n",
    "    legend.attr(label='Leyenda', style='rounded,filled', fillcolor='#eeeeee')\n",
    "    legend.node('L1', 'Condiciones de Validación', shape='plaintext')\n",
    "    legend.node('L2', 'Contadores de Elementos', shape='plaintext')\n",
    "    legend.node('L3', 'Resultados Invalidos', shape='plaintext')\n",
    "\n",
    "dot"
   ]
  }
 ],
 "metadata": {
  "kernelspec": {
   "display_name": "Python 3 (ipykernel)",
   "language": "python",
   "name": "python3"
  },
  "language_info": {
   "codemirror_mode": {
    "name": "ipython",
    "version": 3
   },
   "file_extension": ".py",
   "mimetype": "text/x-python",
   "name": "python",
   "nbconvert_exporter": "python",
   "pygments_lexer": "ipython3",
   "version": "3.12.4"
  }
 },
 "nbformat": 4,
 "nbformat_minor": 5
}
