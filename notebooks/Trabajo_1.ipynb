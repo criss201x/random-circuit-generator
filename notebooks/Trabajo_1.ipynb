{
  "cells": [
    {
      "cell_type": "markdown",
      "metadata": {
        "id": "Z9BSSnIY-pDE"
      },
      "source": [
        "# Imports"
      ]
    },
    {
      "cell_type": "code",
      "execution_count": 1,
      "metadata": {
        "id": "Q1DnIvP8Xfr1"
      },
      "outputs": [],
      "source": [
        "import numpy as np\n",
        "import math\n",
        "import schemdraw\n",
        "import schemdraw.elements as elm\n",
        "import random"
      ]
    },
    {
      "cell_type": "markdown",
      "metadata": {
        "id": "gcxXqZjx_8y_"
      },
      "source": [
        "# Genera Circuito"
      ]
    },
    {
      "cell_type": "code",
      "execution_count": 2,
      "metadata": {
        "id": "Iym92il5AlGj"
      },
      "outputs": [],
      "source": [
        "def dibujo_elemento(va):\n",
        "  \"\"\"\n",
        "  Genera un número aleatorio entre 1 y 5 y devuelve un mensaje correspondiente.\n",
        "  \"\"\"\n",
        "  numero_aleatorio = va\n",
        "  if numero_aleatorio == 1:\n",
        "    pass\n",
        "  elif numero_aleatorio == 2:\n",
        "    mensaje = elm.Line()\n",
        "  elif numero_aleatorio == 3:\n",
        "    mensaje = elm.Resistor()\n",
        "  elif numero_aleatorio == 4:\n",
        "    mensaje = elm.SourceV()\n",
        "  else:  # numero_aleatorio == 5\n",
        "    mensaje = elm.SourceI()\n",
        "\n",
        "  return mensaje\n",
        "\n",
        "# Ejemplo de uso:\n",
        "#numero_aleatorio = random.randint(2, 5)\n",
        "#mensaje_obtenido = obtener_mensaje_aleatorio(numero_aleatorio)\n",
        "#print(mensaje_obtenido)"
      ]
    },
    {
      "cell_type": "code",
      "execution_count": 3,
      "metadata": {
        "id": "EkIXpO1V-_ew"
      },
      "outputs": [],
      "source": [
        "#para 1 malla\n",
        "def generacircuito1malla(h,v):\n",
        "    with schemdraw.Drawing() as d:\n",
        "        d.config(unit=5)\n",
        "        #izquierda vertical\n",
        "        #x = dibujo_elemento(random.randint(2, 5))\n",
        "        I1 = dibujo_elemento(v[0]).up()\n",
        "        #I1 = elm.SourceV().label('20V')\n",
        "\n",
        "        #superior horizontal\n",
        "        HS = dibujo_elemento(h[0, 0]).right()\n",
        "        #HS = elm.Resistor().right().label('400Ω')\n",
        "\n",
        "        #derecha vertical\n",
        "        D1 = dibujo_elemento(v[1]).down()\n",
        "        #D1 = elm.SourceI().down().label('1A', loc='bot')\n",
        "\n",
        "        #inferior horizontal\n",
        "        #HI = elm.Line().left()\n",
        "        HI = dibujo_elemento(h[1,0]).left().label('1A', loc='bot')\n",
        "        #elm.Dot()\n",
        "        #d.push()\n",
        "        #R3 = elm.SourceI().down().label('100Ω', loc='bot', rotate=True)\n",
        "        #R2 = elm.Resistor().down().label('100Ω', loc='bot', rotate=True)\n",
        "        #elm.Dot()\n",
        "        #d.pop()\n",
        "        #I0 = elm.SourceV().right().label('1A', loc='bot')\n",
        "        #L1 = elm.Line()\n",
        "        #I1 = elm.SourceI().down().label('1A', loc='bot')\n",
        "        #I1 = elm.Line().down()\n",
        "        #L2 = elm.Line().tox(V1.start)\n",
        "        #L2 = elm.Resistor().left().label('400Ω')\n",
        "        #L3 = elm.Line().left()\n",
        "        #elm.LoopCurrent([R1,R2,L2,V1], pad=1.25).label('$I_1$')\n",
        "        #elm.LoopCurrent([R1,I1,L2,R2], pad=1.25).label('$I_2$')    # Use R1 as top element for both so they get the same height\n",
        "\n"
      ]
    },
    {
      "cell_type": "code",
      "execution_count": 4,
      "metadata": {
        "id": "C0mM7lFzAPPj"
      },
      "outputs": [],
      "source": [
        "#para 2 mallas\n",
        "def generacircuito2mallas(h,v):\n",
        "    with schemdraw.Drawing() as d:\n",
        "        d.config(unit=5)\n",
        "        V1 = dibujo_elemento(v[0]).up().label('20V')\n",
        "        R1 = dibujo_elemento(h[0, 0]).right().label('400Ω')\n",
        "        #elm.Dot()\n",
        "        d.push()\n",
        "        R3 = dibujo_elemento(v[1]).down().label('100Ω', loc='bot', rotate=True)\n",
        "        #R2 = elm.Resistor().down().label('100Ω', loc='bot', rotate=True)\n",
        "        #elm.Dot()\n",
        "        d.pop()\n",
        "        I0 = dibujo_elemento(h[0,1]).right().label('Label 1', loc='bot')\n",
        "        #L1 = elm.Line()\n",
        "        #I1 = elm.SourceI().down().label('1A', loc='bot')\n",
        "        I1 = dibujo_elemento(v[2]).down()\n",
        "        #L2 = elm.Line().tox(V1.start)\n",
        "        L2 = dibujo_elemento(h[1,1]).left().label('400Ω')\n",
        "        L3 = dibujo_elemento(h[1,0]).left()\n",
        "        #elm.LoopCurrent([R1,R2,L2,V1], pad=1.25).label('$I_1$')\n",
        "        #elm.LoopCurrent([R1,I1,L2,R2], pad=1.25).label('$I_2$')    # Use R1 as top element for both so they get the same height"
      ]
    },
    {
      "cell_type": "markdown",
      "metadata": {
        "id": "8osD0de_-jcW"
      },
      "source": [
        "# Funcion va"
      ]
    },
    {
      "cell_type": "code",
      "execution_count": 5,
      "metadata": {
        "colab": {
          "base_uri": "https://localhost:8080/",
          "height": 724
        },
        "id": "5hAknIfBXN3a",
        "outputId": "8452200a-511d-4911-f1f7-408250de9695"
      },
      "outputs": [
        {
          "name": "stdout",
          "output_type": "stream",
          "text": [
            "H:  [2 2]\n",
            "V:  [[5]\n",
            " [4]]\n"
          ]
        },
        {
          "data": {
            "image/svg+xml": [
              "<svg xmlns=\"http://www.w3.org/2000/svg\" xml:lang=\"en\" height=\"206.8pt\" width=\"225.19999999999993pt\" viewBox=\"-22.59999999999999 -184.60000000000002 225.19999999999993 206.8\"><circle cx=\"5.5109105961630896e-15\" cy=\"-90.0\" r=\"18.0\" style=\"stroke:black;fill:none;stroke-width:2.0;stroke-dasharray:-;\" /><circle cx=\"179.99999999999997\" cy=\"-90.0\" r=\"18.0\" style=\"stroke:black;fill:none;stroke-width:2.0;stroke-dasharray:-;\" /><path d=\"M 0.0,-0.0 L 4.408728476930472e-15,-72.0 L 4.408728476930472e-15,-72.0 M 6.613092715395707e-15,-108.0 L 6.613092715395707e-15,-108.0 L 1.1021821192326179e-14,-180.0\" style=\"stroke:black;fill:none;stroke-width:2.0;stroke-dasharray:-;stroke-linecap:round;stroke-linejoin:round;\" /><path d=\"M 4.9598195365467806e-15,-81.0 L 5.5109105961630896e-15,-90.0\" style=\"stroke:black;fill:none;stroke-width:2.0;stroke-dasharray:-;stroke-linecap:round;stroke-linejoin:round;\" /><path d=\"M 5.939536975864663e-15 -97.0 L 2.700000000000005 -90.0 L -2.6999999999999944 -90.0 Z\" style=\"stroke:black;fill:black;stroke-linecap:butt;stroke-linejoin:miter;\" /><path d=\"M 1.1021821192326179e-14,-180.0 L 90.00000000000001,-180.0 L 180.0,-180.0\" style=\"stroke:black;fill:none;stroke-width:2.0;stroke-dasharray:-;stroke-linecap:round;stroke-linejoin:round;\" /><path d=\"M 180.0,-180.0 L 180.0,-108.0 L 180.0,-108.0 M 179.99999999999997,-72.0 L 179.99999999999997,-72.0 L 179.99999999999997,-0.0\" style=\"stroke:black;fill:none;stroke-width:2.0;stroke-dasharray:-;stroke-linecap:round;stroke-linejoin:round;\" /><path d=\"M 176.39999999999998,-99.0 L 183.6,-99.0\" style=\"stroke:black;fill:none;stroke-width:2.0;stroke-dasharray:-;stroke-linecap:round;stroke-linejoin:round;\" /><path d=\"M 179.99999999999997,-84.60000000000001 L 179.99999999999997,-77.39999999999999\" style=\"stroke:black;fill:none;stroke-width:2.0;stroke-dasharray:-;stroke-linecap:round;stroke-linejoin:round;\" /><path d=\"M 176.39999999999998,-81.0 L 183.6,-81.0\" style=\"stroke:black;fill:none;stroke-width:2.0;stroke-dasharray:-;stroke-linecap:round;stroke-linejoin:round;\" /><path d=\"M 179.99999999999997,-0.0 L 89.99999999999997,-1.1021821192326179e-14 L -3.197442310920451e-14,-2.2043642384652358e-14\" style=\"stroke:black;fill:none;stroke-width:2.0;stroke-dasharray:-;stroke-linecap:round;stroke-linejoin:round;\" /><text x=\"89.99999999999997\" y=\"-10.400000000000011\" dominant-baseline=\"hanging\" fill=\"black\" font-size=\"14.0\" font-family=\"sans\" text-anchor=\"middle\"><tspan x=\"89.99999999999997\" dy=\"14.0\">1A</tspan></text></svg>"
            ],
            "text/plain": [
              "<svg xmlns=\"http://www.w3.org/2000/svg\" xml:lang=\"en\" height=\"206.8pt\" width=\"225.19999999999993pt\" viewBox=\"-22.59999999999999 -184.60000000000002 225.19999999999993 206.8\"><circle cx=\"5.5109105961630896e-15\" cy=\"-90.0\" r=\"18.0\" style=\"stroke:black;fill:none;stroke-width:2.0;stroke-dasharray:-;\" /><circle cx=\"179.99999999999997\" cy=\"-90.0\" r=\"18.0\" style=\"stroke:black;fill:none;stroke-width:2.0;stroke-dasharray:-;\" /><path d=\"M 0.0,-0.0 L 4.408728476930472e-15,-72.0 L 4.408728476930472e-15,-72.0 M 6.613092715395707e-15,-108.0 L 6.613092715395707e-15,-108.0 L 1.1021821192326179e-14,-180.0\" style=\"stroke:black;fill:none;stroke-width:2.0;stroke-dasharray:-;stroke-linecap:round;stroke-linejoin:round;\" /><path d=\"M 4.9598195365467806e-15,-81.0 L 5.5109105961630896e-15,-90.0\" style=\"stroke:black;fill:none;stroke-width:2.0;stroke-dasharray:-;stroke-linecap:round;stroke-linejoin:round;\" /><path d=\"M 5.939536975864663e-15 -97.0 L 2.700000000000005 -90.0 L -2.6999999999999944 -90.0 Z\" style=\"stroke:black;fill:black;stroke-linecap:butt;stroke-linejoin:miter;\" /><path d=\"M 1.1021821192326179e-14,-180.0 L 90.00000000000001,-180.0 L 180.0,-180.0\" style=\"stroke:black;fill:none;stroke-width:2.0;stroke-dasharray:-;stroke-linecap:round;stroke-linejoin:round;\" /><path d=\"M 180.0,-180.0 L 180.0,-108.0 L 180.0,-108.0 M 179.99999999999997,-72.0 L 179.99999999999997,-72.0 L 179.99999999999997,-0.0\" style=\"stroke:black;fill:none;stroke-width:2.0;stroke-dasharray:-;stroke-linecap:round;stroke-linejoin:round;\" /><path d=\"M 176.39999999999998,-99.0 L 183.6,-99.0\" style=\"stroke:black;fill:none;stroke-width:2.0;stroke-dasharray:-;stroke-linecap:round;stroke-linejoin:round;\" /><path d=\"M 179.99999999999997,-84.60000000000001 L 179.99999999999997,-77.39999999999999\" style=\"stroke:black;fill:none;stroke-width:2.0;stroke-dasharray:-;stroke-linecap:round;stroke-linejoin:round;\" /><path d=\"M 176.39999999999998,-81.0 L 183.6,-81.0\" style=\"stroke:black;fill:none;stroke-width:2.0;stroke-dasharray:-;stroke-linecap:round;stroke-linejoin:round;\" /><path d=\"M 179.99999999999997,-0.0 L 89.99999999999997,-1.1021821192326179e-14 L -3.197442310920451e-14,-2.2043642384652358e-14\" style=\"stroke:black;fill:none;stroke-width:2.0;stroke-dasharray:-;stroke-linecap:round;stroke-linejoin:round;\" /><text x=\"89.99999999999997\" y=\"-10.400000000000011\" dominant-baseline=\"hanging\" fill=\"black\" font-size=\"14.0\" font-family=\"sans\" text-anchor=\"middle\"><tspan x=\"89.99999999999997\" dy=\"14.0\">1A</tspan></text></svg>"
            ]
          },
          "metadata": {},
          "output_type": "display_data"
        },
        {
          "name": "stdout",
          "output_type": "stream",
          "text": [
            "H:  [3 3 4 4]\n",
            "V:  [[3]\n",
            " [5]\n",
            " [5]]\n"
          ]
        },
        {
          "data": {
            "image/svg+xml": [
              "<svg xmlns=\"http://www.w3.org/2000/svg\" xml:lang=\"en\" height=\"233.8pt\" width=\"425.168pt\" viewBox=\"-42.56799999999999 -211.20000000000002 425.168 233.8\"><circle cx=\"179.99999999999997\" cy=\"-90.0\" r=\"18.0\" style=\"stroke:black;fill:none;stroke-width:2.0;stroke-dasharray:-;\" /><circle cx=\"360.0\" cy=\"-90.0\" r=\"18.0\" style=\"stroke:black;fill:none;stroke-width:2.0;stroke-dasharray:-;\" /><circle cx=\"269.99999999999994\" cy=\"-1.1021821192326179e-14\" r=\"18.0\" style=\"stroke:black;fill:none;stroke-width:2.0;stroke-dasharray:-;\" /><circle cx=\"89.99999999999994\" cy=\"-3.306546357697854e-14\" r=\"18.0\" style=\"stroke:black;fill:none;stroke-width:2.0;stroke-dasharray:-;\" /><path d=\"M 0.0,-0.0 L 4.408728476930472e-15,-72.0 L -8.999999999999995,-75.0 L 9.000000000000004,-81.0 L -8.999999999999995,-87.0 L 9.000000000000005,-92.99999999999999 L -8.999999999999995,-99.0 L 9.000000000000005,-105.0 L 6.613092715395707e-15,-108.0 L 1.1021821192326179e-14,-180.0\" style=\"stroke:black;fill:none;stroke-width:2.0;stroke-dasharray:-;stroke-linecap:round;stroke-linejoin:round;\" /><path d=\"M 1.1021821192326179e-14,-180.0 L 72.00000000000001,-180.0 L 75.00000000000003,-189.0 L 81.00000000000001,-171.0 L 87.00000000000001,-189.0 L 93.0,-171.0 L 99.00000000000001,-189.0 L 105.00000000000001,-171.0 L 108.00000000000001,-180.0 L 180.0,-180.0\" style=\"stroke:black;fill:none;stroke-width:2.0;stroke-dasharray:-;stroke-linecap:round;stroke-linejoin:round;\" /><path d=\"M 180.0,-180.0 L 180.0,-108.0 L 180.0,-108.0 M 179.99999999999997,-72.0 L 179.99999999999997,-72.0 L 179.99999999999997,-0.0\" style=\"stroke:black;fill:none;stroke-width:2.0;stroke-dasharray:-;stroke-linecap:round;stroke-linejoin:round;\" /><path d=\"M 180.0,-99.0 L 179.99999999999997,-90.0\" style=\"stroke:black;fill:none;stroke-width:2.0;stroke-dasharray:-;stroke-linecap:round;stroke-linejoin:round;\" /><path d=\"M 179.99999999999997 -83.0 L 177.29999999999998 -90.0 L 182.7 -90.0 Z\" style=\"stroke:black;fill:black;stroke-linecap:butt;stroke-linejoin:miter;\" /><path d=\"M 180.0,-180.0 L 252.0,-180.0 L 255.00000000000003,-189.0 L 261.0,-171.0 L 267.0,-189.0 L 273.0,-171.0 L 279.0,-189.0 L 285.0,-171.0 L 288.0,-180.0 L 360.0,-180.0\" style=\"stroke:black;fill:none;stroke-width:2.0;stroke-dasharray:-;stroke-linecap:round;stroke-linejoin:round;\" /><path d=\"M 360.0,-180.0 L 360.0,-108.0 L 360.0,-108.0 M 360.0,-72.0 L 360.0,-72.0 L 359.99999999999994,-0.0\" style=\"stroke:black;fill:none;stroke-width:2.0;stroke-dasharray:-;stroke-linecap:round;stroke-linejoin:round;\" /><path d=\"M 360.0,-99.0 L 360.0,-90.0\" style=\"stroke:black;fill:none;stroke-width:2.0;stroke-dasharray:-;stroke-linecap:round;stroke-linejoin:round;\" /><path d=\"M 360.0 -83.0 L 357.3 -90.0 L 362.7 -90.0 Z\" style=\"stroke:black;fill:black;stroke-linecap:butt;stroke-linejoin:miter;\" /><path d=\"M 359.99999999999994,-0.0 L 287.99999999999994,-8.817456953860943e-15 L 287.99999999999994,-8.817456953860943e-15 M 251.99999999999994,-1.3226185430791413e-14 L 251.99999999999994,-1.3226185430791413e-14 L 179.99999999999994,-2.2043642384652358e-14\" style=\"stroke:black;fill:none;stroke-width:2.0;stroke-dasharray:-;stroke-linecap:round;stroke-linejoin:round;\" /><path d=\"M 278.99999999999994,-3.6000000000000103 L 278.99999999999994,3.5999999999999903\" style=\"stroke:black;fill:none;stroke-width:2.0;stroke-dasharray:-;stroke-linecap:round;stroke-linejoin:round;\" /><path d=\"M 264.5999999999999,-1.168313046386575e-14 L 257.4,-1.2564876159251844e-14\" style=\"stroke:black;fill:none;stroke-width:2.0;stroke-dasharray:-;stroke-linecap:round;stroke-linejoin:round;\" /><path d=\"M 260.99999999999994,-3.600000000000012 L 260.99999999999994,3.599999999999988\" style=\"stroke:black;fill:none;stroke-width:2.0;stroke-dasharray:-;stroke-linecap:round;stroke-linejoin:round;\" /><path d=\"M 179.99999999999994,-2.2043642384652358e-14 L 107.99999999999994,-3.08610993385133e-14 L 107.99999999999994,-3.08610993385133e-14 M 71.99999999999994,-3.5269827815443773e-14 L 71.99999999999994,-3.5269827815443773e-14 L -6.394884621840902e-14,-4.4087284769304716e-14\" style=\"stroke:black;fill:none;stroke-width:2.0;stroke-dasharray:-;stroke-linecap:round;stroke-linejoin:round;\" /><path d=\"M 98.99999999999994,-3.600000000000032 L 98.99999999999994,3.599999999999968\" style=\"stroke:black;fill:none;stroke-width:2.0;stroke-dasharray:-;stroke-linecap:round;stroke-linejoin:round;\" /><path d=\"M 84.59999999999994,-3.3726772848518107e-14 L 77.39999999999993,-3.46085185439042e-14\" style=\"stroke:black;fill:none;stroke-width:2.0;stroke-dasharray:-;stroke-linecap:round;stroke-linejoin:round;\" /><path d=\"M 80.99999999999994,-3.6000000000000343 L 80.99999999999994,3.5999999999999663\" style=\"stroke:black;fill:none;stroke-width:2.0;stroke-dasharray:-;stroke-linecap:round;stroke-linejoin:round;\" /><text x=\"-12.599999999999993\" y=\"-104.0\" dominant-baseline=\"central\" fill=\"black\" font-size=\"14.0\" font-family=\"sans\" text-anchor=\"end\"><tspan x=\"-12.599999999999993\" dy=\"14.0\">20V</tspan></text><text x=\"90.00000000000001\" y=\"-206.6\" dominant-baseline=\"ideographic\" fill=\"black\" font-size=\"14.0\" font-family=\"sans\" text-anchor=\"middle\"><tspan x=\"90.00000000000001\" dy=\"14.0\">400Ω</tspan></text><text x=\"201.6\" y=\"-104.0\" dominant-baseline=\"ideographic\" fill=\"black\" font-size=\"14.0\" font-family=\"sans\" text-anchor=\"middle\" transform=\"rotate(-270 201.6 -90.0)\"><tspan x=\"201.6\" dy=\"14.0\">100Ω</tspan></text><text x=\"270.0\" y=\"-181.4\" dominant-baseline=\"hanging\" fill=\"black\" font-size=\"14.0\" font-family=\"sans\" text-anchor=\"middle\"><tspan x=\"270.0\" dy=\"14.0\">Label 1</tspan></text><text x=\"269.99999999999994\" y=\"-35.60000000000001\" dominant-baseline=\"ideographic\" fill=\"black\" font-size=\"14.0\" font-family=\"sans\" text-anchor=\"middle\"><tspan x=\"269.99999999999994\" dy=\"14.0\">400Ω</tspan></text></svg>"
            ],
            "text/plain": [
              "<svg xmlns=\"http://www.w3.org/2000/svg\" xml:lang=\"en\" height=\"233.8pt\" width=\"425.168pt\" viewBox=\"-42.56799999999999 -211.20000000000002 425.168 233.8\"><circle cx=\"179.99999999999997\" cy=\"-90.0\" r=\"18.0\" style=\"stroke:black;fill:none;stroke-width:2.0;stroke-dasharray:-;\" /><circle cx=\"360.0\" cy=\"-90.0\" r=\"18.0\" style=\"stroke:black;fill:none;stroke-width:2.0;stroke-dasharray:-;\" /><circle cx=\"269.99999999999994\" cy=\"-1.1021821192326179e-14\" r=\"18.0\" style=\"stroke:black;fill:none;stroke-width:2.0;stroke-dasharray:-;\" /><circle cx=\"89.99999999999994\" cy=\"-3.306546357697854e-14\" r=\"18.0\" style=\"stroke:black;fill:none;stroke-width:2.0;stroke-dasharray:-;\" /><path d=\"M 0.0,-0.0 L 4.408728476930472e-15,-72.0 L -8.999999999999995,-75.0 L 9.000000000000004,-81.0 L -8.999999999999995,-87.0 L 9.000000000000005,-92.99999999999999 L -8.999999999999995,-99.0 L 9.000000000000005,-105.0 L 6.613092715395707e-15,-108.0 L 1.1021821192326179e-14,-180.0\" style=\"stroke:black;fill:none;stroke-width:2.0;stroke-dasharray:-;stroke-linecap:round;stroke-linejoin:round;\" /><path d=\"M 1.1021821192326179e-14,-180.0 L 72.00000000000001,-180.0 L 75.00000000000003,-189.0 L 81.00000000000001,-171.0 L 87.00000000000001,-189.0 L 93.0,-171.0 L 99.00000000000001,-189.0 L 105.00000000000001,-171.0 L 108.00000000000001,-180.0 L 180.0,-180.0\" style=\"stroke:black;fill:none;stroke-width:2.0;stroke-dasharray:-;stroke-linecap:round;stroke-linejoin:round;\" /><path d=\"M 180.0,-180.0 L 180.0,-108.0 L 180.0,-108.0 M 179.99999999999997,-72.0 L 179.99999999999997,-72.0 L 179.99999999999997,-0.0\" style=\"stroke:black;fill:none;stroke-width:2.0;stroke-dasharray:-;stroke-linecap:round;stroke-linejoin:round;\" /><path d=\"M 180.0,-99.0 L 179.99999999999997,-90.0\" style=\"stroke:black;fill:none;stroke-width:2.0;stroke-dasharray:-;stroke-linecap:round;stroke-linejoin:round;\" /><path d=\"M 179.99999999999997 -83.0 L 177.29999999999998 -90.0 L 182.7 -90.0 Z\" style=\"stroke:black;fill:black;stroke-linecap:butt;stroke-linejoin:miter;\" /><path d=\"M 180.0,-180.0 L 252.0,-180.0 L 255.00000000000003,-189.0 L 261.0,-171.0 L 267.0,-189.0 L 273.0,-171.0 L 279.0,-189.0 L 285.0,-171.0 L 288.0,-180.0 L 360.0,-180.0\" style=\"stroke:black;fill:none;stroke-width:2.0;stroke-dasharray:-;stroke-linecap:round;stroke-linejoin:round;\" /><path d=\"M 360.0,-180.0 L 360.0,-108.0 L 360.0,-108.0 M 360.0,-72.0 L 360.0,-72.0 L 359.99999999999994,-0.0\" style=\"stroke:black;fill:none;stroke-width:2.0;stroke-dasharray:-;stroke-linecap:round;stroke-linejoin:round;\" /><path d=\"M 360.0,-99.0 L 360.0,-90.0\" style=\"stroke:black;fill:none;stroke-width:2.0;stroke-dasharray:-;stroke-linecap:round;stroke-linejoin:round;\" /><path d=\"M 360.0 -83.0 L 357.3 -90.0 L 362.7 -90.0 Z\" style=\"stroke:black;fill:black;stroke-linecap:butt;stroke-linejoin:miter;\" /><path d=\"M 359.99999999999994,-0.0 L 287.99999999999994,-8.817456953860943e-15 L 287.99999999999994,-8.817456953860943e-15 M 251.99999999999994,-1.3226185430791413e-14 L 251.99999999999994,-1.3226185430791413e-14 L 179.99999999999994,-2.2043642384652358e-14\" style=\"stroke:black;fill:none;stroke-width:2.0;stroke-dasharray:-;stroke-linecap:round;stroke-linejoin:round;\" /><path d=\"M 278.99999999999994,-3.6000000000000103 L 278.99999999999994,3.5999999999999903\" style=\"stroke:black;fill:none;stroke-width:2.0;stroke-dasharray:-;stroke-linecap:round;stroke-linejoin:round;\" /><path d=\"M 264.5999999999999,-1.168313046386575e-14 L 257.4,-1.2564876159251844e-14\" style=\"stroke:black;fill:none;stroke-width:2.0;stroke-dasharray:-;stroke-linecap:round;stroke-linejoin:round;\" /><path d=\"M 260.99999999999994,-3.600000000000012 L 260.99999999999994,3.599999999999988\" style=\"stroke:black;fill:none;stroke-width:2.0;stroke-dasharray:-;stroke-linecap:round;stroke-linejoin:round;\" /><path d=\"M 179.99999999999994,-2.2043642384652358e-14 L 107.99999999999994,-3.08610993385133e-14 L 107.99999999999994,-3.08610993385133e-14 M 71.99999999999994,-3.5269827815443773e-14 L 71.99999999999994,-3.5269827815443773e-14 L -6.394884621840902e-14,-4.4087284769304716e-14\" style=\"stroke:black;fill:none;stroke-width:2.0;stroke-dasharray:-;stroke-linecap:round;stroke-linejoin:round;\" /><path d=\"M 98.99999999999994,-3.600000000000032 L 98.99999999999994,3.599999999999968\" style=\"stroke:black;fill:none;stroke-width:2.0;stroke-dasharray:-;stroke-linecap:round;stroke-linejoin:round;\" /><path d=\"M 84.59999999999994,-3.3726772848518107e-14 L 77.39999999999993,-3.46085185439042e-14\" style=\"stroke:black;fill:none;stroke-width:2.0;stroke-dasharray:-;stroke-linecap:round;stroke-linejoin:round;\" /><path d=\"M 80.99999999999994,-3.6000000000000343 L 80.99999999999994,3.5999999999999663\" style=\"stroke:black;fill:none;stroke-width:2.0;stroke-dasharray:-;stroke-linecap:round;stroke-linejoin:round;\" /><text x=\"-12.599999999999993\" y=\"-104.0\" dominant-baseline=\"central\" fill=\"black\" font-size=\"14.0\" font-family=\"sans\" text-anchor=\"end\"><tspan x=\"-12.599999999999993\" dy=\"14.0\">20V</tspan></text><text x=\"90.00000000000001\" y=\"-206.6\" dominant-baseline=\"ideographic\" fill=\"black\" font-size=\"14.0\" font-family=\"sans\" text-anchor=\"middle\"><tspan x=\"90.00000000000001\" dy=\"14.0\">400Ω</tspan></text><text x=\"201.6\" y=\"-104.0\" dominant-baseline=\"ideographic\" fill=\"black\" font-size=\"14.0\" font-family=\"sans\" text-anchor=\"middle\" transform=\"rotate(-270 201.6 -90.0)\"><tspan x=\"201.6\" dy=\"14.0\">100Ω</tspan></text><text x=\"270.0\" y=\"-181.4\" dominant-baseline=\"hanging\" fill=\"black\" font-size=\"14.0\" font-family=\"sans\" text-anchor=\"middle\"><tspan x=\"270.0\" dy=\"14.0\">Label 1</tspan></text><text x=\"269.99999999999994\" y=\"-35.60000000000001\" dominant-baseline=\"ideographic\" fill=\"black\" font-size=\"14.0\" font-family=\"sans\" text-anchor=\"middle\"><tspan x=\"269.99999999999994\" dy=\"14.0\">400Ω</tspan></text></svg>"
            ]
          },
          "metadata": {},
          "output_type": "display_data"
        }
      ],
      "source": [
        "\n",
        "# Función equivalente a va(x, p, m, n) de MATLAB\n",
        "def va(x, p, m, n):\n",
        "    \"\"\"\n",
        "    Genera una matriz de m x n con elementos de x, siguiendo la distribución p.\n",
        "    \"\"\"\n",
        "    return np.random.choice(x, size=(m, n), p=p)\n",
        "\n",
        "# Ejemplo de prueba 1 malla\n",
        "x = [2, 3, 4, 5]\n",
        "p = [0.25, 0.25, 0.25, 0.25]\n",
        "H = va(x, p, 2, 1)\n",
        "V = va(x, p, 2, 1)\n",
        "\n",
        "print(\"H: \",H.flatten())\n",
        "print(\"V: \",V)\n",
        "\n",
        "\n",
        "generacircuito1malla(H,V)\n",
        "\n",
        "# Ejemplo de prueba 2 mallas\n",
        "x = [2, 3, 4, 5]\n",
        "p = [0.25, 0.25, 0.25, 0.25]\n",
        "H = va(x, p, 2, 2)\n",
        "V = va(x, p, 3, 1)\n",
        "\n",
        "print(\"H: \",H.flatten())\n",
        "print(\"V: \",V)\n",
        "\n",
        "generacircuito2mallas(H,V)\n",
        "\n"
      ]
    },
    {
      "cell_type": "markdown",
      "metadata": {
        "id": "dEVQImgm-r_n"
      },
      "source": [
        "# Actividad 1"
      ]
    },
    {
      "cell_type": "markdown",
      "metadata": {
        "id": "l5nvb-4D-r7D"
      },
      "source": []
    },
    {
      "cell_type": "code",
      "execution_count": 58,
      "metadata": {
        "colab": {
          "base_uri": "https://localhost:8080/"
        },
        "id": "a1XKVdphYEjs",
        "outputId": "d5cdf38c-6efa-40a2-f335-b6357f350605"
      },
      "outputs": [
        {
          "data": {
            "text/plain": [
              "(0.26198, 0.05747, 0.31945, 0.26171875, 0.05859375, 0.3203125)"
            ]
          },
          "execution_count": 58,
          "metadata": {},
          "output_type": "execute_result"
        }
      ],
      "source": [
        "# Simulación para la Actividad 1 (circuito de una malla)\n",
        "# Evaluamos dos criterios de invalidez según las leyes de Kirchhoff\n",
        "\n",
        "experimentos = 100_000\n",
        "nocumple_corriente = 0\n",
        "nocumple_24 = 0\n",
        "\n",
        "for _ in range(experimentos):\n",
        "    H = va(x, p, 1, 2)\n",
        "    V = va(x, p, 1, 2)\n",
        "    elementos = np.concatenate([H.flatten(), V.flatten()])\n",
        "\n",
        "    # Criterio 1: más de una fuente de corriente (5)\n",
        "    if np.sum(elementos == 5) > 1:\n",
        "        nocumple_corriente += 1\n",
        "\n",
        "    # Criterio 2: solo voltajes (4) y cortos (2), pero no todos cortos\n",
        "    if np.all(np.isin(elementos, [2, 4])) and np.any(elementos == 4) and not np.all(elementos == 2):\n",
        "        nocumple_24 += 1\n",
        "\n",
        "# Resultados experimentales\n",
        "fr_corriente = nocumple_corriente / experimentos\n",
        "fr_24 = nocumple_24 / experimentos\n",
        "fr_total = (nocumple_corriente + nocumple_24) / experimentos\n",
        "\n",
        "# Resultados teóricos\n",
        "total_combinaciones = 4**4  # 4 elementos, 4 opciones cada uno\n",
        "# Combinaciones con 2 o más fuentes de corriente\n",
        "inv_corriente = (\n",
        "    (math.comb(4, 2) * 3**2) +  # 2 fuentes de corriente\n",
        "    (math.comb(4, 3) * 3) +     # 3 fuentes de corriente\n",
        "    1                              # 4 fuentes de corriente\n",
        ")\n",
        "teorico_corriente = inv_corriente / total_combinaciones\n",
        "\n",
        "# Combinaciones con solo 2 y 4 (16 en total), excluyendo todos 2\n",
        "teorico_24 = (2**4 - 1) / total_combinaciones\n",
        "teorico_total = teorico_corriente + teorico_24\n",
        "\n",
        "fr_corriente, fr_24, fr_total, teorico_corriente, teorico_24, teorico_total\n"
      ]
    },
    {
      "cell_type": "markdown",
      "metadata": {},
      "source": [
        "# Actividad 2"
      ]
    },
    {
      "cell_type": "code",
      "execution_count": 35,
      "metadata": {},
      "outputs": [
        {
          "name": "stdout",
          "output_type": "stream",
          "text": [
            "Frecuencia invalidez voltaje:  0.1091\n",
            "Frecuencia invalidez corriente:  0.3329\n",
            "Frecuencia inválida:  0.4421\n",
            "Frecuencia válida:  0.5579000000000001\n",
            "Invalidez por fuentes de corriente en una malla:  2560\n",
            "Invalidez por fuentes de corriente en el medio:  729\n",
            "Invalidez total (corriente):  5449\n",
            "Invalidez total (voltaje):  1984\n"
          ]
        }
      ],
      "source": [
        "# Simulación para la Actividad 2 (circuito de dos malla)\n",
        "# Evaluamos tres criterios de invalidez según las leyes de Kirchhoff\n",
        "\n",
        "# H, V, elementos_generados = generar_malla_valida()\n",
        "# print(H, V, elementos_generados)\n",
        "\n",
        "# Simulación\n",
        "experimentos = 10_000\n",
        "inv_fuentes_voltaje = 0\n",
        "inv_fuentes_corriente = 0\n",
        "inv_total = 0\n",
        "inv_todas_resistencias = 1\n",
        "\n",
        "for _ in range(experimentos):\n",
        "\n",
        "    H = va(x, p, 1, 4).flatten()\n",
        "    V = va(x, p, 1, 3).flatten()\n",
        "    elementos = np.concatenate([H, V])\n",
        "\n",
        "    # print(\"H: \", H.flatten())\n",
        "    # print(\"V: \", V.flatten())\n",
        "    # print(\"Elementos: \", elementos)\n",
        "\n",
        "    ## P[V U I]=P[V]+P[I] - P[V n I]\n",
        "\n",
        "    ## V1 = [0,2,4]\n",
        "    ## V2 = [1,3,6]\n",
        "    \n",
        "    ## V3 = [4,5,6]\n",
        "    \n",
        "    malla_izq = np.array([elementos[i] for i in [0, 2, 4, 5]])\n",
        "    malla_der = np.array([elementos[i] for i in [1, 3, 5, 6]])\n",
        "    elem_medio = elementos[5]\n",
        "    borde_malla = np.array([elementos[i] for i in [0,1,2,3,4,6]])\n",
        "\n",
        "    # print(\"Malla Izq: \", malla_izq)\n",
        "    # print(\"Malla Der: \", malla_der)\n",
        "    # print(\"Borde Malla: \", borde_malla)\n",
        "    # print(\"Elemento Medio: \", elem_medio)\n",
        "\n",
        "    # Restricción 1: dos fuentes de voltaje en la misma malla\n",
        "    corto = 2\n",
        "    fuente_voltaje = 4\n",
        "    fuente_corriente = 5\n",
        "    invalido_voltaje = False\n",
        "    invalido_corriente = False\n",
        "    # --------- Malla izquierda [0,2,4] --------- #\n",
        "    match np.sum(malla_izq == fuente_voltaje):\n",
        "        case 1:\n",
        "            if np.sum(malla_izq == corto) > 2:\n",
        "                invalido_voltaje = True\n",
        "        case 2:\n",
        "            if np.sum(malla_izq == corto) > 1:\n",
        "                invalido_voltaje = True\n",
        "        case 3:\n",
        "            if np.sum(malla_izq == corto) > 0:\n",
        "                invalido_voltaje = True\n",
        "        case 4:\n",
        "            invalido_voltaje = True\n",
        "    # --------- Malla derecha [1,3,6] --------- #\n",
        "    match np.sum(malla_der == fuente_voltaje):\n",
        "        case 1:\n",
        "            if np.sum(malla_der == corto) > 2:\n",
        "                invalido_voltaje = True\n",
        "        case 2:\n",
        "            if np.sum(malla_der == corto) > 1:\n",
        "                invalido_voltaje = True\n",
        "        case 3:\n",
        "            if np.sum(malla_der == corto) > 0:\n",
        "                invalido_voltaje = True\n",
        "        case 4:\n",
        "            invalido_voltaje = True\n",
        "    # --------- Malla exterior --------- #\n",
        "    match np.sum(borde_malla == fuente_voltaje):\n",
        "        case 1:\n",
        "            if np.sum(borde_malla == corto) > 4:\n",
        "                invalido_voltaje = True\n",
        "        case 2:\n",
        "            if np.sum(borde_malla == corto) > 3:\n",
        "                invalido_voltaje = True\n",
        "        case 3:\n",
        "            if np.sum(borde_malla == corto) > 2:\n",
        "                invalido_voltaje = True\n",
        "        case 4:\n",
        "            if np.sum(borde_malla == corto) > 1:\n",
        "                invalido_voltaje = True\n",
        "        case 5:\n",
        "            if np.sum(borde_malla == corto) > 0:\n",
        "                invalido_voltaje = True\n",
        "        case 6:\n",
        "            invalido_voltaje = True\n",
        "\n",
        "    if invalido_voltaje:\n",
        "        inv_fuentes_voltaje += 1\n",
        "\n",
        "\n",
        "    # Restricción 2: dos fuentes de corriente en la misma malla\n",
        "\n",
        "    # Mallas sin el elemento compartido\n",
        "    malla_izq2 = np.array([elementos[i] for i in [0, 2, 4]])\n",
        "    malla_der2 = np.array([elementos[i] for i in [1, 3, 6]])\n",
        "    \n",
        "    if (np.sum(malla_izq2 == fuente_corriente) > 1 or np.sum(malla_der2 == fuente_corriente) > 1):\n",
        "        inv_fuentes_corriente += 1\n",
        "    elif np.sum(malla_izq2 == fuente_corriente) == 1 and np.sum(malla_der2 == fuente_corriente) == 1 and elem_medio == fuente_corriente:\n",
        "        inv_fuentes_corriente += 1\n",
        "\n",
        "\n",
        "    # print(\"--------------------------------------------------\")\n",
        "\n",
        "print(\"Frecuencia invalidez voltaje: \", inv_fuentes_voltaje / experimentos)\n",
        "print(\"Frecuencia invalidez corriente: \", inv_fuentes_corriente / experimentos)\n",
        "\n",
        "inv_total = inv_fuentes_voltaje + inv_fuentes_corriente + inv_todas_resistencias\n",
        "fr_inv = inv_total / experimentos\n",
        "fr_valido = 1 - fr_inv\n",
        "print(\"Frecuencia inválida: \", fr_inv)\n",
        "print(\"Frecuencia válida: \", fr_valido)\n",
        "\n",
        "# ---------------------------------- Cálculo teórico -------------------\n",
        "\n",
        "# # P[V] - Voltajes \n",
        "# # 1933 / 16384 = 0.118\n",
        "# # P[I] - Corrientes\n",
        "# # 5449 / 16384 = 0.333\n",
        "\n",
        "# total_combinaciones = 4**7 ## 16384 combinaciones posibles (7 elementos, 4 opciones cada uno)\n",
        "\n",
        "# ---------------------- Corrientes I -------------------\n",
        "\n",
        "inval_corriente_izq = (\n",
        "    ((math.comb(3, 2) * 3) +     # 2 fuentes de corriente en una malla\n",
        "    1) *                         # 3 fuentes de corriente en una malla\n",
        "    4**4                         # 4 opciones y 4 elementos en la otra malla\n",
        ") # = 2560\n",
        "\n",
        "inval_corriente_der = (\n",
        "    ((math.comb(3, 2) * 3) +     # 2 fuentes de corriente en una malla\n",
        "    1) *                         # 3 fuentes de corriente en una malla\n",
        "    4**4                         # 4 opciones y 4 elementos en la otra malla\n",
        ") # = 2560\n",
        "\n",
        "# Superposición de fuentes de corriente en ambas mallas\n",
        "# 10 formas inválidas por cada malla independiente = 10 * 10 = 100\n",
        "# Invalidez = 2560 + 2560 - 100 = 5020\n",
        "\n",
        "inval_corriente_medio = (\n",
        "    (math.comb(3, 1) * 3**2) * # = 27 Exactamente 1 fuente de corriente en una malla\n",
        "    (math.comb(3, 1) * 3**2) * # = 27 Exactamente 1 fuente de corriente en la otra malla\n",
        "    1                          # 1 fuente de corriente en el medio\n",
        ") # = 729\n",
        "\n",
        "\n",
        "inv_corriente_medio = inval_corriente_der ** 2 * 1  # = 729\n",
        "\n",
        "\n",
        "print(\"Invalidez por fuentes de corriente en una malla: \", inval_corriente_izq)\n",
        "print(\"Invalidez por fuentes de corriente en el medio: \", inval_corriente_medio)\n",
        "print(\"Invalidez total (corriente): \", (inval_corriente_izq + inval_corriente_der) - 400 + inval_corriente_medio) # = 5449\n",
        "\n",
        "# ---------------------- Voltajes V -------------------\n",
        "\n",
        "# Una malla (dos o más fuentes de voltaje)\n",
        "inval_voltaje_izq = (\n",
        "    ((math.comb(3, 2) * 1) +     # 2 fuentes de voltaje en una malla\n",
        "    1) *                         # 3 fuentes de voltaje en una malla\n",
        "    4**4                         # 4 opciones y 4 elementos en la otra malla\n",
        ") # = 1024\n",
        "\n",
        "inval_voltaje_der = (\n",
        "    ((math.comb(3, 2) * 1) +     # 2 fuentes de voltaje en una malla\n",
        "    1) *                         # 3 fuentes de voltaje en una malla\n",
        "    4**4                         # 4 opciones y 4 elementos en la otra malla\n",
        ") # = 1024\n",
        "\n",
        "# (4 * 4) * 4 = 64\n",
        "# Invalidez = 1024 + 1024 - 64 = 1984\n",
        "\n",
        "print(\"Invalidez total (voltaje): \", inval_voltaje_izq + inval_voltaje_der - 64) # = 1984\n"
      ]
    },
    {
      "cell_type": "markdown",
      "metadata": {},
      "source": [
        "# Actividad 3"
      ]
    },
    {
      "cell_type": "markdown",
      "metadata": {},
      "source": [
        "## Probabilidad condicional 1 malla"
      ]
    },
    {
      "cell_type": "code",
      "execution_count": 60,
      "metadata": {},
      "outputs": [],
      "source": [
        "def prob_condicional(elementos, x):\n",
        "    p = np.ones(len(x), dtype=float)\n",
        "\n",
        "    # Regla 1: máximo una fuente de corriente\n",
        "    if np.sum(np.array(elementos) == 5) >= 1:\n",
        "        p[np.array(x) == 5] = 0\n",
        "\n",
        "    # Regla 2: evitar que el circuito se forme solo con fuentes de voltaje y cortos\n",
        "    # pero permitir si todos son cortos\n",
        "    if len(elementos) == 3:\n",
        "        # solo hay cortos (2) y voltajes (4)\n",
        "        if all(e in [2, 4] for e in elementos):\n",
        "            # si no hay cortos, no permitir más voltajes o cortos\n",
        "            if 2 not in elementos:\n",
        "                # todos son voltajes (no permitido)\n",
        "                p[np.isin(x, [2, 4])] = 0\n",
        "            # si hay fuentes de voltaje y no hay resistencias\n",
        "            elif 4 in elementos and 3 not in elementos:\n",
        "                # hay mezcla de 2 y 4, pero sin resistencias: no permitir más 2 ni 4\n",
        "                p[np.isin(x, [2, 4])] = 0\n",
        "\n",
        "    p = p / np.sum(p)\n",
        "    return p"
      ]
    },
    {
      "cell_type": "markdown",
      "metadata": {},
      "source": [
        "## Generador circuito de una malla"
      ]
    },
    {
      "cell_type": "code",
      "execution_count": null,
      "metadata": {},
      "outputs": [
        {
          "name": "stdout",
          "output_type": "stream",
          "text": [
            "Invalidez por fuentes de voltaje:  301\n",
            "Invalidez por fuentes de corriente:  333\n",
            "Invalidez total corriente:  0.333\n",
            "Invalidez total voltaje:  0.301\n",
            "Invalidez total:  635\n",
            "Frecuencia inválida:  0.635\n",
            "Frecuencia válida:  0.365\n",
            "Invalidez por fuentes de corriente en una malla:  2560\n",
            "Invalidez por fuentes de corriente en la otra malla:  2560\n",
            "Invalidez por fuentes de corriente en el medio:  729\n",
            "Invalidez total:  5749\n",
            "Invalidez por fuentes de voltaje en una malla:  2560\n",
            "Invalidez por fuentes de voltaje en la otra malla:  2560\n"
          ]
        }
      ],
      "source": [
        "\n",
        "\n"
      ]
    }
  ],
  "metadata": {
    "colab": {
      "collapsed_sections": [
        "Z9BSSnIY-pDE",
        "8osD0de_-jcW"
      ],
      "provenance": []
    },
    "kernelspec": {
      "display_name": "Python 3",
      "language": "python",
      "name": "python3"
    },
    "language_info": {
      "codemirror_mode": {
        "name": "ipython",
        "version": 3
      },
      "file_extension": ".py",
      "mimetype": "text/x-python",
      "name": "python",
      "nbconvert_exporter": "python",
      "pygments_lexer": "ipython3",
      "version": "3.13.2"
    }
  },
  "nbformat": 4,
  "nbformat_minor": 0
}
