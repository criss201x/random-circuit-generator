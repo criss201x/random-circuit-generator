{
 "cells": [
  {
   "cell_type": "markdown",
   "metadata": {
    "id": "Z9BSSnIY-pDE"
   },
   "source": [
    "# Imports"
   ]
  },
  {
   "cell_type": "code",
   "execution_count": 1,
   "metadata": {
    "id": "Q1DnIvP8Xfr1"
   },
   "outputs": [],
   "source": [
    "import numpy as np\n",
    "import math\n",
    "import schemdraw\n",
    "import schemdraw.elements as elm\n",
    "import random"
   ]
  },
  {
   "cell_type": "markdown",
   "metadata": {
    "id": "gcxXqZjx_8y_"
   },
   "source": [
    "# Genera Circuito"
   ]
  },
  {
   "cell_type": "code",
   "execution_count": 2,
   "metadata": {
    "id": "Iym92il5AlGj"
   },
   "outputs": [],
   "source": [
    "def dibujo_elemento(va):\n",
    "  \"\"\"\n",
    "  Genera un número aleatorio entre 1 y 5 y devuelve un mensaje correspondiente.\n",
    "  \"\"\"\n",
    "  numero_aleatorio = va\n",
    "  if numero_aleatorio == 1:\n",
    "    pass\n",
    "  elif numero_aleatorio == 2:\n",
    "    mensaje = elm.Line()\n",
    "  elif numero_aleatorio == 3:\n",
    "    mensaje = elm.Resistor()\n",
    "  elif numero_aleatorio == 4:\n",
    "    mensaje = elm.SourceV()\n",
    "  else:  # numero_aleatorio == 5\n",
    "    mensaje = elm.SourceI()\n",
    "\n",
    "  return mensaje\n",
    "\n",
    "# Ejemplo de uso:\n",
    "#numero_aleatorio = random.randint(2, 5)\n",
    "#mensaje_obtenido = obtener_mensaje_aleatorio(numero_aleatorio)\n",
    "#print(mensaje_obtenido)"
   ]
  },
  {
   "cell_type": "code",
   "execution_count": 3,
   "metadata": {
    "id": "EkIXpO1V-_ew"
   },
   "outputs": [],
   "source": [
    "#para 1 malla\n",
    "def generacircuito1malla(h,v):\n",
    "    with schemdraw.Drawing() as d:\n",
    "        d.config(unit=5)\n",
    "        #izquierda vertical\n",
    "        #x = dibujo_elemento(random.randint(2, 5))\n",
    "        I1 = dibujo_elemento(v[0]).up().label(str(v[0]).replace('[', '').replace(']', ''), loc='bot')\n",
    "        #I1 = elm.SourceV().label('20V')\n",
    "\n",
    "        #superior horizontal\n",
    "        HS = dibujo_elemento(h[0, 0]).right().label(str(h[0,0]).replace('[', '').replace(']', ''), loc='bot')\n",
    "        #HS = elm.Resistor().right().label('400Ω')\n",
    "\n",
    "        #derecha vertical\n",
    "        D1 = dibujo_elemento(v[1]).down().label(str(v[1]).replace('[', '').replace(']', ''), loc='bot')\n",
    "        #D1 = elm.SourceI().down().label('1A', loc='bot')\n",
    "\n",
    "        #inferior horizontal\n",
    "        #HI = elm.Line().left()\n",
    "        HI = dibujo_elemento(h[1,0]).left().label(str(h[1,0]).replace('[', '').replace(']', ''), loc='bot')\n",
    "        #elm.Dot()\n",
    "        #d.push()\n",
    "        #R3 = elm.SourceI().down().label('100Ω', loc='bot', rotate=True)\n",
    "        #R2 = elm.Resistor().down().label('100Ω', loc='bot', rotate=True)\n",
    "        #elm.Dot()\n",
    "        #d.pop()\n",
    "        #I0 = elm.SourceV().right().label('1A', loc='bot')\n",
    "        #L1 = elm.Line()\n",
    "        #I1 = elm.SourceI().down().label('1A', loc='bot')\n",
    "        #I1 = elm.Line().down()\n",
    "        #L2 = elm.Line().tox(V1.start)\n",
    "        #L2 = elm.Resistor().left().label('400Ω')\n",
    "        #L3 = elm.Line().left()\n",
    "        #elm.LoopCurrent([R1,R2,L2,V1], pad=1.25).label('$I_1$')\n",
    "        #elm.LoopCurrent([R1,I1,L2,R2], pad=1.25).label('$I_2$')    # Use R1 as top element for both so they get the same height\n",
    "\n"
   ]
  },
  {
   "cell_type": "code",
   "execution_count": 4,
   "metadata": {
    "id": "C0mM7lFzAPPj"
   },
   "outputs": [],
   "source": [
    "#para 2 mallas\n",
    "def generacircuito2mallas(h,v):\n",
    "    with schemdraw.Drawing() as d:\n",
    "        d.config(unit=5)\n",
    "        V1 = dibujo_elemento(v[0]).up().label('4')\n",
    "        R1 = dibujo_elemento(h[0, 0]).right().label('0')\n",
    "        #elm.Dot()\n",
    "        d.push()\n",
    "        R3 = dibujo_elemento(v[1]).down().label('5')\n",
    "        #R2 = elm.Resistor().down().label('100Ω', loc='bot', rotate=True)\n",
    "        #elm.Dot()\n",
    "        d.pop()\n",
    "        I0 = dibujo_elemento(h[0,1]).right().label('1')\n",
    "        #L1 = elm.Line()\n",
    "        #I1 = elm.SourceI().down().label('1A', loc='bot')\n",
    "        I1 = dibujo_elemento(v[2]).down().label('6')\n",
    "        #L2 = elm.Line().tox(V1.start)\n",
    "        L2 = dibujo_elemento(h[1,1]).left().label('3')\n",
    "        L3 = dibujo_elemento(h[1,0]).left().label('2')\n",
    "        #elm.LoopCurrent([R1,R2,L2,V1], pad=1.25).label('$I_1$')\n",
    "        #elm.LoopCurrent([R1,I1,L2,R2], pad=1.25).label('$I_2$')    # Use R1 as top element for both so they get the same height"
   ]
  },
  {
   "cell_type": "markdown",
   "metadata": {
    "id": "8osD0de_-jcW"
   },
   "source": [
    "# Funcion va"
   ]
  },
  {
   "cell_type": "code",
   "execution_count": 5,
   "metadata": {
    "colab": {
     "base_uri": "https://localhost:8080/",
     "height": 724
    },
    "id": "5hAknIfBXN3a",
    "outputId": "8452200a-511d-4911-f1f7-408250de9695"
   },
   "outputs": [
    {
     "name": "stdout",
     "output_type": "stream",
     "text": [
      "H:  [2 4]\n"
     ]
    },
    {
     "data": {
      "image/svg+xml": [
       "<svg xmlns=\"http://www.w3.org/2000/svg\" xml:lang=\"en\" height=\"224.8pt\" width=\"200.77999999999997pt\" viewBox=\"-4.600000000000032 -184.60000000000002 200.77999999999997 224.8\"><circle cx=\"89.99999999999997\" cy=\"-1.1021821192326179e-14\" r=\"18.0\" style=\"stroke:black;fill:none;stroke-width:2.0;stroke-dasharray:-;\" /><path d=\"M 0.0,-0.0 L 5.5109105961630896e-15,-90.0 L 1.1021821192326179e-14,-180.0\" style=\"stroke:black;fill:none;stroke-width:2.0;stroke-dasharray:-;stroke-linecap:round;stroke-linejoin:round;\" /><path d=\"M 1.1021821192326179e-14,-180.0 L 90.00000000000001,-180.0 L 180.0,-180.0\" style=\"stroke:black;fill:none;stroke-width:2.0;stroke-dasharray:-;stroke-linecap:round;stroke-linejoin:round;\" /><path d=\"M 180.0,-180.0 L 179.99999999999997,-90.0 L 179.99999999999997,-0.0\" style=\"stroke:black;fill:none;stroke-width:2.0;stroke-dasharray:-;stroke-linecap:round;stroke-linejoin:round;\" /><path d=\"M 179.99999999999997,-0.0 L 107.99999999999997,-8.817456953860943e-15 L 107.99999999999997,-8.817456953860943e-15 M 71.99999999999997,-1.3226185430791413e-14 L 71.99999999999997,-1.3226185430791413e-14 L -3.197442310920451e-14,-2.2043642384652358e-14\" style=\"stroke:black;fill:none;stroke-width:2.0;stroke-dasharray:-;stroke-linecap:round;stroke-linejoin:round;\" /><path d=\"M 98.99999999999997,-3.6000000000000103 L 98.99999999999997,3.5999999999999903\" style=\"stroke:black;fill:none;stroke-width:2.0;stroke-dasharray:-;stroke-linecap:round;stroke-linejoin:round;\" /><path d=\"M 84.59999999999997,-1.168313046386575e-14 L 77.39999999999996,-1.2564876159251844e-14\" style=\"stroke:black;fill:none;stroke-width:2.0;stroke-dasharray:-;stroke-linecap:round;stroke-linejoin:round;\" /><path d=\"M 80.99999999999997,-3.600000000000012 L 80.99999999999997,3.599999999999988\" style=\"stroke:black;fill:none;stroke-width:2.0;stroke-dasharray:-;stroke-linecap:round;stroke-linejoin:round;\" /><text x=\"3.600000000000006\" y=\"-104.0\" dominant-baseline=\"central\" fill=\"black\" font-size=\"14.0\" font-family=\"sans\" text-anchor=\"start\"><tspan x=\"3.600000000000006\" dy=\"14.0\">2</tspan></text><text x=\"90.00000000000001\" y=\"-190.4\" dominant-baseline=\"hanging\" fill=\"black\" font-size=\"14.0\" font-family=\"sans\" text-anchor=\"middle\"><tspan x=\"90.00000000000001\" dy=\"14.0\">2</tspan></text><text x=\"183.6\" y=\"-104.0\" dominant-baseline=\"central\" fill=\"black\" font-size=\"14.0\" font-family=\"sans\" text-anchor=\"start\"><tspan x=\"183.6\" dy=\"14.0\">2</tspan></text><text x=\"89.99999999999997\" y=\"7.599999999999987\" dominant-baseline=\"hanging\" fill=\"black\" font-size=\"14.0\" font-family=\"sans\" text-anchor=\"middle\"><tspan x=\"89.99999999999997\" dy=\"14.0\">4</tspan></text></svg>"
      ],
      "text/plain": [
       "<svg xmlns=\"http://www.w3.org/2000/svg\" xml:lang=\"en\" height=\"224.8pt\" width=\"200.77999999999997pt\" viewBox=\"-4.600000000000032 -184.60000000000002 200.77999999999997 224.8\"><circle cx=\"89.99999999999997\" cy=\"-1.1021821192326179e-14\" r=\"18.0\" style=\"stroke:black;fill:none;stroke-width:2.0;stroke-dasharray:-;\" /><path d=\"M 0.0,-0.0 L 5.5109105961630896e-15,-90.0 L 1.1021821192326179e-14,-180.0\" style=\"stroke:black;fill:none;stroke-width:2.0;stroke-dasharray:-;stroke-linecap:round;stroke-linejoin:round;\" /><path d=\"M 1.1021821192326179e-14,-180.0 L 90.00000000000001,-180.0 L 180.0,-180.0\" style=\"stroke:black;fill:none;stroke-width:2.0;stroke-dasharray:-;stroke-linecap:round;stroke-linejoin:round;\" /><path d=\"M 180.0,-180.0 L 179.99999999999997,-90.0 L 179.99999999999997,-0.0\" style=\"stroke:black;fill:none;stroke-width:2.0;stroke-dasharray:-;stroke-linecap:round;stroke-linejoin:round;\" /><path d=\"M 179.99999999999997,-0.0 L 107.99999999999997,-8.817456953860943e-15 L 107.99999999999997,-8.817456953860943e-15 M 71.99999999999997,-1.3226185430791413e-14 L 71.99999999999997,-1.3226185430791413e-14 L -3.197442310920451e-14,-2.2043642384652358e-14\" style=\"stroke:black;fill:none;stroke-width:2.0;stroke-dasharray:-;stroke-linecap:round;stroke-linejoin:round;\" /><path d=\"M 98.99999999999997,-3.6000000000000103 L 98.99999999999997,3.5999999999999903\" style=\"stroke:black;fill:none;stroke-width:2.0;stroke-dasharray:-;stroke-linecap:round;stroke-linejoin:round;\" /><path d=\"M 84.59999999999997,-1.168313046386575e-14 L 77.39999999999996,-1.2564876159251844e-14\" style=\"stroke:black;fill:none;stroke-width:2.0;stroke-dasharray:-;stroke-linecap:round;stroke-linejoin:round;\" /><path d=\"M 80.99999999999997,-3.600000000000012 L 80.99999999999997,3.599999999999988\" style=\"stroke:black;fill:none;stroke-width:2.0;stroke-dasharray:-;stroke-linecap:round;stroke-linejoin:round;\" /><text x=\"3.600000000000006\" y=\"-104.0\" dominant-baseline=\"central\" fill=\"black\" font-size=\"14.0\" font-family=\"sans\" text-anchor=\"start\"><tspan x=\"3.600000000000006\" dy=\"14.0\">2</tspan></text><text x=\"90.00000000000001\" y=\"-190.4\" dominant-baseline=\"hanging\" fill=\"black\" font-size=\"14.0\" font-family=\"sans\" text-anchor=\"middle\"><tspan x=\"90.00000000000001\" dy=\"14.0\">2</tspan></text><text x=\"183.6\" y=\"-104.0\" dominant-baseline=\"central\" fill=\"black\" font-size=\"14.0\" font-family=\"sans\" text-anchor=\"start\"><tspan x=\"183.6\" dy=\"14.0\">2</tspan></text><text x=\"89.99999999999997\" y=\"7.599999999999987\" dominant-baseline=\"hanging\" fill=\"black\" font-size=\"14.0\" font-family=\"sans\" text-anchor=\"middle\"><tspan x=\"89.99999999999997\" dy=\"14.0\">4</tspan></text></svg>"
      ]
     },
     "metadata": {},
     "output_type": "display_data"
    },
    {
     "name": "stdout",
     "output_type": "stream",
     "text": [
      "H:  [5 5 5 4]\n",
      "V:  [[4]\n",
      " [5]\n",
      " [5]]\n"
     ]
    },
    {
     "data": {
      "image/svg+xml": [
       "<svg xmlns=\"http://www.w3.org/2000/svg\" xml:lang=\"en\" height=\"242.8pt\" width=\"416.78pt\" viewBox=\"-34.17999999999999 -220.20000000000002 416.78 242.8\"><circle cx=\"5.5109105961630896e-15\" cy=\"-90.0\" r=\"18.0\" style=\"stroke:black;fill:none;stroke-width:2.0;stroke-dasharray:-;\" /><circle cx=\"90.00000000000001\" cy=\"-180.0\" r=\"18.0\" style=\"stroke:black;fill:none;stroke-width:2.0;stroke-dasharray:-;\" /><circle cx=\"179.99999999999997\" cy=\"-90.0\" r=\"18.0\" style=\"stroke:black;fill:none;stroke-width:2.0;stroke-dasharray:-;\" /><circle cx=\"270.0\" cy=\"-180.0\" r=\"18.0\" style=\"stroke:black;fill:none;stroke-width:2.0;stroke-dasharray:-;\" /><circle cx=\"360.0\" cy=\"-90.0\" r=\"18.0\" style=\"stroke:black;fill:none;stroke-width:2.0;stroke-dasharray:-;\" /><circle cx=\"269.99999999999994\" cy=\"-1.1021821192326179e-14\" r=\"18.0\" style=\"stroke:black;fill:none;stroke-width:2.0;stroke-dasharray:-;\" /><circle cx=\"89.99999999999994\" cy=\"-3.306546357697854e-14\" r=\"18.0\" style=\"stroke:black;fill:none;stroke-width:2.0;stroke-dasharray:-;\" /><path d=\"M 0.0,-0.0 L 4.408728476930472e-15,-72.0 L 4.408728476930472e-15,-72.0 M 6.613092715395707e-15,-108.0 L 6.613092715395707e-15,-108.0 L 1.1021821192326179e-14,-180.0\" style=\"stroke:black;fill:none;stroke-width:2.0;stroke-dasharray:-;stroke-linecap:round;stroke-linejoin:round;\" /><path d=\"M 3.600000000000005,-81.0 L -3.599999999999995,-81.0\" style=\"stroke:black;fill:none;stroke-width:2.0;stroke-dasharray:-;stroke-linecap:round;stroke-linejoin:round;\" /><path d=\"M 5.841565231932875e-15,-95.39999999999999 L 6.282438079625922e-15,-102.60000000000001\" style=\"stroke:black;fill:none;stroke-width:2.0;stroke-dasharray:-;stroke-linecap:round;stroke-linejoin:round;\" /><path d=\"M 3.6000000000000063,-99.0 L -3.5999999999999943,-99.0\" style=\"stroke:black;fill:none;stroke-width:2.0;stroke-dasharray:-;stroke-linecap:round;stroke-linejoin:round;\" /><path d=\"M 1.1021821192326179e-14,-180.0 L 72.00000000000001,-180.0 L 72.00000000000001,-180.0 M 108.00000000000001,-180.0 L 108.00000000000001,-180.0 L 180.0,-180.0\" style=\"stroke:black;fill:none;stroke-width:2.0;stroke-dasharray:-;stroke-linecap:round;stroke-linejoin:round;\" /><path d=\"M 81.00000000000001,-180.0 L 90.00000000000001,-180.0\" style=\"stroke:black;fill:none;stroke-width:2.0;stroke-dasharray:-;stroke-linecap:round;stroke-linejoin:round;\" /><path d=\"M 97.00000000000001 -180.0 L 90.00000000000001 -177.3 L 90.00000000000001 -182.7 Z\" style=\"stroke:black;fill:black;stroke-linecap:butt;stroke-linejoin:miter;\" /><path d=\"M 180.0,-180.0 L 180.0,-108.0 L 180.0,-108.0 M 179.99999999999997,-72.0 L 179.99999999999997,-72.0 L 179.99999999999997,-0.0\" style=\"stroke:black;fill:none;stroke-width:2.0;stroke-dasharray:-;stroke-linecap:round;stroke-linejoin:round;\" /><path d=\"M 180.0,-99.0 L 179.99999999999997,-90.0\" style=\"stroke:black;fill:none;stroke-width:2.0;stroke-dasharray:-;stroke-linecap:round;stroke-linejoin:round;\" /><path d=\"M 179.99999999999997 -83.0 L 177.29999999999998 -90.0 L 182.7 -90.0 Z\" style=\"stroke:black;fill:black;stroke-linecap:butt;stroke-linejoin:miter;\" /><path d=\"M 180.0,-180.0 L 252.0,-180.0 L 252.0,-180.0 M 288.0,-180.0 L 288.0,-180.0 L 360.0,-180.0\" style=\"stroke:black;fill:none;stroke-width:2.0;stroke-dasharray:-;stroke-linecap:round;stroke-linejoin:round;\" /><path d=\"M 261.0,-180.0 L 270.0,-180.0\" style=\"stroke:black;fill:none;stroke-width:2.0;stroke-dasharray:-;stroke-linecap:round;stroke-linejoin:round;\" /><path d=\"M 277.0 -180.0 L 270.0 -177.3 L 270.0 -182.7 Z\" style=\"stroke:black;fill:black;stroke-linecap:butt;stroke-linejoin:miter;\" /><path d=\"M 360.0,-180.0 L 360.0,-108.0 L 360.0,-108.0 M 360.0,-72.0 L 360.0,-72.0 L 359.99999999999994,-0.0\" style=\"stroke:black;fill:none;stroke-width:2.0;stroke-dasharray:-;stroke-linecap:round;stroke-linejoin:round;\" /><path d=\"M 360.0,-99.0 L 360.0,-90.0\" style=\"stroke:black;fill:none;stroke-width:2.0;stroke-dasharray:-;stroke-linecap:round;stroke-linejoin:round;\" /><path d=\"M 360.0 -83.0 L 357.3 -90.0 L 362.7 -90.0 Z\" style=\"stroke:black;fill:black;stroke-linecap:butt;stroke-linejoin:miter;\" /><path d=\"M 359.99999999999994,-0.0 L 287.99999999999994,-8.817456953860943e-15 L 287.99999999999994,-8.817456953860943e-15 M 251.99999999999994,-1.3226185430791413e-14 L 251.99999999999994,-1.3226185430791413e-14 L 179.99999999999994,-2.2043642384652358e-14\" style=\"stroke:black;fill:none;stroke-width:2.0;stroke-dasharray:-;stroke-linecap:round;stroke-linejoin:round;\" /><path d=\"M 278.99999999999994,-3.6000000000000103 L 278.99999999999994,3.5999999999999903\" style=\"stroke:black;fill:none;stroke-width:2.0;stroke-dasharray:-;stroke-linecap:round;stroke-linejoin:round;\" /><path d=\"M 264.5999999999999,-1.168313046386575e-14 L 257.4,-1.2564876159251844e-14\" style=\"stroke:black;fill:none;stroke-width:2.0;stroke-dasharray:-;stroke-linecap:round;stroke-linejoin:round;\" /><path d=\"M 260.99999999999994,-3.600000000000012 L 260.99999999999994,3.599999999999988\" style=\"stroke:black;fill:none;stroke-width:2.0;stroke-dasharray:-;stroke-linecap:round;stroke-linejoin:round;\" /><path d=\"M 179.99999999999994,-2.2043642384652358e-14 L 107.99999999999994,-3.08610993385133e-14 L 107.99999999999994,-3.08610993385133e-14 M 71.99999999999994,-3.5269827815443773e-14 L 71.99999999999994,-3.5269827815443773e-14 L -6.394884621840902e-14,-4.4087284769304716e-14\" style=\"stroke:black;fill:none;stroke-width:2.0;stroke-dasharray:-;stroke-linecap:round;stroke-linejoin:round;\" /><path d=\"M 98.99999999999994,-3.196328145774592e-14 L 89.99999999999994,-3.306546357697854e-14\" style=\"stroke:black;fill:none;stroke-width:2.0;stroke-dasharray:-;stroke-linecap:round;stroke-linejoin:round;\" /><path d=\"M 82.99999999999994 -3.3922716336381687e-14 L 89.99999999999994 -2.700000000000033 L 89.99999999999994 2.6999999999999664 Z\" style=\"stroke:black;fill:black;stroke-linecap:butt;stroke-linejoin:miter;\" /><text x=\"-21.599999999999994\" y=\"-104.0\" dominant-baseline=\"central\" fill=\"black\" font-size=\"14.0\" font-family=\"sans\" text-anchor=\"end\"><tspan x=\"-21.599999999999994\" dy=\"14.0\">4</tspan></text><text x=\"90.00000000000001\" y=\"-215.6\" dominant-baseline=\"ideographic\" fill=\"black\" font-size=\"14.0\" font-family=\"sans\" text-anchor=\"middle\"><tspan x=\"90.00000000000001\" dy=\"14.0\">0</tspan></text><text x=\"158.39999999999998\" y=\"-104.0\" dominant-baseline=\"central\" fill=\"black\" font-size=\"14.0\" font-family=\"sans\" text-anchor=\"end\"><tspan x=\"158.39999999999998\" dy=\"14.0\">5</tspan></text><text x=\"270.0\" y=\"-215.6\" dominant-baseline=\"ideographic\" fill=\"black\" font-size=\"14.0\" font-family=\"sans\" text-anchor=\"middle\"><tspan x=\"270.0\" dy=\"14.0\">1</tspan></text><text x=\"338.40000000000003\" y=\"-104.0\" dominant-baseline=\"central\" fill=\"black\" font-size=\"14.0\" font-family=\"sans\" text-anchor=\"end\"><tspan x=\"338.40000000000003\" dy=\"14.0\">6</tspan></text><text x=\"269.99999999999994\" y=\"-35.60000000000001\" dominant-baseline=\"ideographic\" fill=\"black\" font-size=\"14.0\" font-family=\"sans\" text-anchor=\"middle\"><tspan x=\"269.99999999999994\" dy=\"14.0\">3</tspan></text><text x=\"89.99999999999994\" y=\"-35.60000000000004\" dominant-baseline=\"ideographic\" fill=\"black\" font-size=\"14.0\" font-family=\"sans\" text-anchor=\"middle\"><tspan x=\"89.99999999999994\" dy=\"14.0\">2</tspan></text></svg>"
      ],
      "text/plain": [
       "<svg xmlns=\"http://www.w3.org/2000/svg\" xml:lang=\"en\" height=\"242.8pt\" width=\"416.78pt\" viewBox=\"-34.17999999999999 -220.20000000000002 416.78 242.8\"><circle cx=\"5.5109105961630896e-15\" cy=\"-90.0\" r=\"18.0\" style=\"stroke:black;fill:none;stroke-width:2.0;stroke-dasharray:-;\" /><circle cx=\"90.00000000000001\" cy=\"-180.0\" r=\"18.0\" style=\"stroke:black;fill:none;stroke-width:2.0;stroke-dasharray:-;\" /><circle cx=\"179.99999999999997\" cy=\"-90.0\" r=\"18.0\" style=\"stroke:black;fill:none;stroke-width:2.0;stroke-dasharray:-;\" /><circle cx=\"270.0\" cy=\"-180.0\" r=\"18.0\" style=\"stroke:black;fill:none;stroke-width:2.0;stroke-dasharray:-;\" /><circle cx=\"360.0\" cy=\"-90.0\" r=\"18.0\" style=\"stroke:black;fill:none;stroke-width:2.0;stroke-dasharray:-;\" /><circle cx=\"269.99999999999994\" cy=\"-1.1021821192326179e-14\" r=\"18.0\" style=\"stroke:black;fill:none;stroke-width:2.0;stroke-dasharray:-;\" /><circle cx=\"89.99999999999994\" cy=\"-3.306546357697854e-14\" r=\"18.0\" style=\"stroke:black;fill:none;stroke-width:2.0;stroke-dasharray:-;\" /><path d=\"M 0.0,-0.0 L 4.408728476930472e-15,-72.0 L 4.408728476930472e-15,-72.0 M 6.613092715395707e-15,-108.0 L 6.613092715395707e-15,-108.0 L 1.1021821192326179e-14,-180.0\" style=\"stroke:black;fill:none;stroke-width:2.0;stroke-dasharray:-;stroke-linecap:round;stroke-linejoin:round;\" /><path d=\"M 3.600000000000005,-81.0 L -3.599999999999995,-81.0\" style=\"stroke:black;fill:none;stroke-width:2.0;stroke-dasharray:-;stroke-linecap:round;stroke-linejoin:round;\" /><path d=\"M 5.841565231932875e-15,-95.39999999999999 L 6.282438079625922e-15,-102.60000000000001\" style=\"stroke:black;fill:none;stroke-width:2.0;stroke-dasharray:-;stroke-linecap:round;stroke-linejoin:round;\" /><path d=\"M 3.6000000000000063,-99.0 L -3.5999999999999943,-99.0\" style=\"stroke:black;fill:none;stroke-width:2.0;stroke-dasharray:-;stroke-linecap:round;stroke-linejoin:round;\" /><path d=\"M 1.1021821192326179e-14,-180.0 L 72.00000000000001,-180.0 L 72.00000000000001,-180.0 M 108.00000000000001,-180.0 L 108.00000000000001,-180.0 L 180.0,-180.0\" style=\"stroke:black;fill:none;stroke-width:2.0;stroke-dasharray:-;stroke-linecap:round;stroke-linejoin:round;\" /><path d=\"M 81.00000000000001,-180.0 L 90.00000000000001,-180.0\" style=\"stroke:black;fill:none;stroke-width:2.0;stroke-dasharray:-;stroke-linecap:round;stroke-linejoin:round;\" /><path d=\"M 97.00000000000001 -180.0 L 90.00000000000001 -177.3 L 90.00000000000001 -182.7 Z\" style=\"stroke:black;fill:black;stroke-linecap:butt;stroke-linejoin:miter;\" /><path d=\"M 180.0,-180.0 L 180.0,-108.0 L 180.0,-108.0 M 179.99999999999997,-72.0 L 179.99999999999997,-72.0 L 179.99999999999997,-0.0\" style=\"stroke:black;fill:none;stroke-width:2.0;stroke-dasharray:-;stroke-linecap:round;stroke-linejoin:round;\" /><path d=\"M 180.0,-99.0 L 179.99999999999997,-90.0\" style=\"stroke:black;fill:none;stroke-width:2.0;stroke-dasharray:-;stroke-linecap:round;stroke-linejoin:round;\" /><path d=\"M 179.99999999999997 -83.0 L 177.29999999999998 -90.0 L 182.7 -90.0 Z\" style=\"stroke:black;fill:black;stroke-linecap:butt;stroke-linejoin:miter;\" /><path d=\"M 180.0,-180.0 L 252.0,-180.0 L 252.0,-180.0 M 288.0,-180.0 L 288.0,-180.0 L 360.0,-180.0\" style=\"stroke:black;fill:none;stroke-width:2.0;stroke-dasharray:-;stroke-linecap:round;stroke-linejoin:round;\" /><path d=\"M 261.0,-180.0 L 270.0,-180.0\" style=\"stroke:black;fill:none;stroke-width:2.0;stroke-dasharray:-;stroke-linecap:round;stroke-linejoin:round;\" /><path d=\"M 277.0 -180.0 L 270.0 -177.3 L 270.0 -182.7 Z\" style=\"stroke:black;fill:black;stroke-linecap:butt;stroke-linejoin:miter;\" /><path d=\"M 360.0,-180.0 L 360.0,-108.0 L 360.0,-108.0 M 360.0,-72.0 L 360.0,-72.0 L 359.99999999999994,-0.0\" style=\"stroke:black;fill:none;stroke-width:2.0;stroke-dasharray:-;stroke-linecap:round;stroke-linejoin:round;\" /><path d=\"M 360.0,-99.0 L 360.0,-90.0\" style=\"stroke:black;fill:none;stroke-width:2.0;stroke-dasharray:-;stroke-linecap:round;stroke-linejoin:round;\" /><path d=\"M 360.0 -83.0 L 357.3 -90.0 L 362.7 -90.0 Z\" style=\"stroke:black;fill:black;stroke-linecap:butt;stroke-linejoin:miter;\" /><path d=\"M 359.99999999999994,-0.0 L 287.99999999999994,-8.817456953860943e-15 L 287.99999999999994,-8.817456953860943e-15 M 251.99999999999994,-1.3226185430791413e-14 L 251.99999999999994,-1.3226185430791413e-14 L 179.99999999999994,-2.2043642384652358e-14\" style=\"stroke:black;fill:none;stroke-width:2.0;stroke-dasharray:-;stroke-linecap:round;stroke-linejoin:round;\" /><path d=\"M 278.99999999999994,-3.6000000000000103 L 278.99999999999994,3.5999999999999903\" style=\"stroke:black;fill:none;stroke-width:2.0;stroke-dasharray:-;stroke-linecap:round;stroke-linejoin:round;\" /><path d=\"M 264.5999999999999,-1.168313046386575e-14 L 257.4,-1.2564876159251844e-14\" style=\"stroke:black;fill:none;stroke-width:2.0;stroke-dasharray:-;stroke-linecap:round;stroke-linejoin:round;\" /><path d=\"M 260.99999999999994,-3.600000000000012 L 260.99999999999994,3.599999999999988\" style=\"stroke:black;fill:none;stroke-width:2.0;stroke-dasharray:-;stroke-linecap:round;stroke-linejoin:round;\" /><path d=\"M 179.99999999999994,-2.2043642384652358e-14 L 107.99999999999994,-3.08610993385133e-14 L 107.99999999999994,-3.08610993385133e-14 M 71.99999999999994,-3.5269827815443773e-14 L 71.99999999999994,-3.5269827815443773e-14 L -6.394884621840902e-14,-4.4087284769304716e-14\" style=\"stroke:black;fill:none;stroke-width:2.0;stroke-dasharray:-;stroke-linecap:round;stroke-linejoin:round;\" /><path d=\"M 98.99999999999994,-3.196328145774592e-14 L 89.99999999999994,-3.306546357697854e-14\" style=\"stroke:black;fill:none;stroke-width:2.0;stroke-dasharray:-;stroke-linecap:round;stroke-linejoin:round;\" /><path d=\"M 82.99999999999994 -3.3922716336381687e-14 L 89.99999999999994 -2.700000000000033 L 89.99999999999994 2.6999999999999664 Z\" style=\"stroke:black;fill:black;stroke-linecap:butt;stroke-linejoin:miter;\" /><text x=\"-21.599999999999994\" y=\"-104.0\" dominant-baseline=\"central\" fill=\"black\" font-size=\"14.0\" font-family=\"sans\" text-anchor=\"end\"><tspan x=\"-21.599999999999994\" dy=\"14.0\">4</tspan></text><text x=\"90.00000000000001\" y=\"-215.6\" dominant-baseline=\"ideographic\" fill=\"black\" font-size=\"14.0\" font-family=\"sans\" text-anchor=\"middle\"><tspan x=\"90.00000000000001\" dy=\"14.0\">0</tspan></text><text x=\"158.39999999999998\" y=\"-104.0\" dominant-baseline=\"central\" fill=\"black\" font-size=\"14.0\" font-family=\"sans\" text-anchor=\"end\"><tspan x=\"158.39999999999998\" dy=\"14.0\">5</tspan></text><text x=\"270.0\" y=\"-215.6\" dominant-baseline=\"ideographic\" fill=\"black\" font-size=\"14.0\" font-family=\"sans\" text-anchor=\"middle\"><tspan x=\"270.0\" dy=\"14.0\">1</tspan></text><text x=\"338.40000000000003\" y=\"-104.0\" dominant-baseline=\"central\" fill=\"black\" font-size=\"14.0\" font-family=\"sans\" text-anchor=\"end\"><tspan x=\"338.40000000000003\" dy=\"14.0\">6</tspan></text><text x=\"269.99999999999994\" y=\"-35.60000000000001\" dominant-baseline=\"ideographic\" fill=\"black\" font-size=\"14.0\" font-family=\"sans\" text-anchor=\"middle\"><tspan x=\"269.99999999999994\" dy=\"14.0\">3</tspan></text><text x=\"89.99999999999994\" y=\"-35.60000000000004\" dominant-baseline=\"ideographic\" fill=\"black\" font-size=\"14.0\" font-family=\"sans\" text-anchor=\"middle\"><tspan x=\"89.99999999999994\" dy=\"14.0\">2</tspan></text></svg>"
      ]
     },
     "metadata": {},
     "output_type": "display_data"
    }
   ],
   "source": [
    "\n",
    "# Función equivalente a va(x, p, m, n) de MATLAB\n",
    "def va(x, p, m, n):\n",
    "    \"\"\"\n",
    "    Genera una matriz de m x n con elementos de x, siguiendo la distribución p.\n",
    "    \"\"\"\n",
    "    return np.random.choice(x, size=(m, n), p=p)\n",
    "\n",
    "# Ejemplo de prueba 1 malla\n",
    "x = [2, 3, 4, 5]\n",
    "p = [0.25, 0.25, 0.25, 0.25]\n",
    "H = va(x, p, 2, 1)\n",
    "V = va(x, p, 2, 1)\n",
    "\n",
    "print(\"H: \",H.flatten())\n",
    "\n",
    "\n",
    "generacircuito1malla(H,V)\n",
    "\n",
    "# Ejemplo de prueba 2 mallas\n",
    "x = [2, 3, 4, 5]\n",
    "H = va(x, p, 2, 2)\n",
    "V = va(x, p, 3, 1)\n",
    "\n",
    "print(\"H: \",H.flatten())\n",
    "print(\"V: \",V)\n",
    "\n",
    "generacircuito2mallas(H,V)\n",
    "\n"
   ]
  },
  {
   "cell_type": "markdown",
   "metadata": {
    "id": "dEVQImgm-r_n"
   },
   "source": [
    "# Actividad 1"
   ]
  },
  {
   "cell_type": "markdown",
   "metadata": {
    "id": "l5nvb-4D-r7D"
   },
   "source": []
  },
  {
   "cell_type": "code",
   "execution_count": 6,
   "metadata": {
    "colab": {
     "base_uri": "https://localhost:8080/"
    },
    "id": "a1XKVdphYEjs",
    "outputId": "d5cdf38c-6efa-40a2-f335-b6357f350605"
   },
   "outputs": [
    {
     "data": {
      "text/plain": [
       "(0.26463, 0.05978, 0.32441, 0.26171875, 0.05859375, 0.3203125)"
      ]
     },
     "execution_count": 6,
     "metadata": {},
     "output_type": "execute_result"
    }
   ],
   "source": [
    "# Simulación para la Actividad 1 (circuito de una malla)\n",
    "# Evaluamos dos criterios de invalidez según las leyes de Kirchhoff\n",
    "\n",
    "experimentos = 100_000\n",
    "nocumple_corriente = 0\n",
    "nocumple_24 = 0\n",
    "\n",
    "for _ in range(experimentos):\n",
    "    H = va(x, p, 1, 2)\n",
    "    V = va(x, p, 1, 2)\n",
    "    elementos = np.concatenate([H.flatten(), V.flatten()])\n",
    "\n",
    "    # Criterio 1: más de una fuente de corriente (5)\n",
    "    if np.sum(elementos == 5) > 1:\n",
    "        nocumple_corriente += 1\n",
    "\n",
    "    # Criterio 2: solo voltajes (4) y cortos (2), pero no todos cortos\n",
    "    if np.all(np.isin(elementos, [2, 4])) and np.any(elementos == 4) and not np.all(elementos == 2):\n",
    "        nocumple_24 += 1\n",
    "\n",
    "# Resultados experimentales\n",
    "fr_corriente = nocumple_corriente / experimentos\n",
    "fr_24 = nocumple_24 / experimentos\n",
    "fr_total = (nocumple_corriente + nocumple_24) / experimentos\n",
    "\n",
    "# Resultados teóricos\n",
    "total_combinaciones = 4**4  # 4 elementos, 4 opciones cada uno\n",
    "# Combinaciones con 2 o más fuentes de corriente\n",
    "inv_corriente = (\n",
    "    (math.comb(4, 2) * 3**2) +  # 2 fuentes de corriente\n",
    "    (math.comb(4, 3) * 3) +     # 3 fuentes de corriente\n",
    "    1                              # 4 fuentes de corriente\n",
    ")\n",
    "teorico_corriente = inv_corriente / total_combinaciones\n",
    "\n",
    "# Combinaciones con solo 2 y 4 (16 en total), excluyendo todos 2\n",
    "teorico_24 = (2**4 - 1) / total_combinaciones\n",
    "teorico_total = teorico_corriente + teorico_24\n",
    "\n",
    "fr_corriente, fr_24, fr_total, teorico_corriente, teorico_24, teorico_total\n"
   ]
  },
  {
   "cell_type": "markdown",
   "metadata": {},
   "source": [
    "# Actividad 2"
   ]
  },
  {
   "cell_type": "code",
   "execution_count": null,
   "metadata": {},
   "outputs": [],
   "source": [
    "# Simulación para la Actividad 2 (circuito de dos malla)\n",
    "# Evaluamos tres criterios de invalidez según las leyes de Kirchhoff\n",
    "\n",
    "# H, V, elementos_generados = generar_malla_valida()\n",
    "# print(H, V, elementos_generados)\n",
    "\n",
    "# Simulación\n",
    "experimentos = 300_000\n",
    "inv_fuentes_voltaje = 0\n",
    "inv_fuentes_corriente = 0\n",
    "inv_total = 0\n",
    "inv_todas_resistencias = 1\n",
    "\n",
    "for _ in range(experimentos):\n",
    "\n",
    "    H = va(x, p, 1, 4).flatten()\n",
    "    V = va(x, p, 1, 3).flatten()\n",
    "    elementos = np.concatenate([H, V])\n",
    "\n",
    "    # print(\"H: \", H.flatten())\n",
    "    # print(\"V: \", V.flatten())\n",
    "    # print(\"Elementos: \", elementos)\n",
    "    \n",
    "    malla_izq = np.array([elementos[i] for i in [0, 2, 4, 5]])\n",
    "    malla_der = np.array([elementos[i] for i in [1, 3, 5, 6]])\n",
    "    elem_medio = elementos[5]\n",
    "    borde_malla = np.array([elementos[i] for i in [0,1,2,3,4,6]])\n",
    "\n",
    "    # print(\"Malla Izq: \", malla_izq)\n",
    "    # print(\"Malla Der: \", malla_der)\n",
    "    # print(\"Borde Malla: \", borde_malla)\n",
    "    # print(\"Elemento Medio: \", elem_medio)\n",
    "\n",
    "    # Restricción 1: dos fuentes de voltaje en la misma malla\n",
    "    corto = 2\n",
    "    fuente_voltaje = 4\n",
    "    fuente_corriente = 5\n",
    "    invalido_voltaje = False\n",
    "    invalido_corriente = False\n",
    "    # --------- Malla izquierda [0,2,4] --------- #\n",
    "    match np.sum(malla_izq == fuente_voltaje):\n",
    "        case 1:\n",
    "            if np.sum(malla_izq == corto) > 2:\n",
    "                invalido_voltaje = True\n",
    "        case 2:\n",
    "            if np.sum(malla_izq == corto) > 1:\n",
    "                invalido_voltaje = True\n",
    "        case 3:\n",
    "            if np.sum(malla_izq == corto) > 0:\n",
    "                invalido_voltaje = True\n",
    "        case 4:\n",
    "            invalido_voltaje = True\n",
    "    # --------- Malla derecha [1,3,6] --------- #\n",
    "    match np.sum(malla_der == fuente_voltaje):\n",
    "        case 1:\n",
    "            if np.sum(malla_der == corto) > 2:\n",
    "                invalido_voltaje = True\n",
    "        case 2:\n",
    "            if np.sum(malla_der == corto) > 1:\n",
    "                invalido_voltaje = True\n",
    "        case 3:\n",
    "            if np.sum(malla_der == corto) > 0:\n",
    "                invalido_voltaje = True\n",
    "        case 4:\n",
    "            invalido_voltaje = True\n",
    "    # --------- Malla exterior --------- #\n",
    "    match np.sum(borde_malla == fuente_voltaje):\n",
    "        case 1:\n",
    "            if np.sum(borde_malla == corto) > 4:\n",
    "                invalido_voltaje = True\n",
    "        case 2:\n",
    "            if np.sum(borde_malla == corto) > 3:\n",
    "                invalido_voltaje = True\n",
    "        case 3:\n",
    "            if np.sum(borde_malla == corto) > 2:\n",
    "                invalido_voltaje = True\n",
    "        case 4:\n",
    "            if np.sum(borde_malla == corto) > 1:\n",
    "                invalido_voltaje = True\n",
    "        case 5:\n",
    "            if np.sum(borde_malla == corto) > 0:\n",
    "                invalido_voltaje = True\n",
    "        case 6:\n",
    "            invalido_voltaje = True\n",
    "\n",
    "    # \n",
    "    if invalido_voltaje:\n",
    "        inv_fuentes_voltaje += 1\n",
    "\n",
    "\n",
    "    # Restricción 2: dos fuentes de corriente en la misma malla\n",
    "\n",
    "    # Mallas sin el elemento compartido [5]\n",
    "    malla_izq2 = np.array([elementos[i] for i in [0, 2, 4]])\n",
    "    malla_der2 = np.array([elementos[i] for i in [1, 3, 6]])\n",
    "    \n",
    "    if (np.sum(malla_izq2 == fuente_corriente) > 1 or np.sum(malla_der2 == fuente_corriente) > 1):\n",
    "        invalido_corriente = True\n",
    "    elif np.sum(malla_izq2 == fuente_corriente) == 1 and np.sum(malla_der2 == fuente_corriente) == 1 and elem_medio == fuente_corriente:\n",
    "        invalido_corriente = True\n",
    "\n",
    "    if invalido_corriente:\n",
    "        inv_fuentes_corriente += 1\n",
    "    \n",
    "    if invalido_voltaje or invalido_corriente:\n",
    "        inv_total += 1\n",
    "\n",
    "print(\"Frecuencia invalidez voltaje: \", inv_fuentes_voltaje / experimentos)\n",
    "print(\"Frecuencia invalidez corriente: \", inv_fuentes_corriente / experimentos)\n",
    "print(\"Frecuencia invalidez total: \", inv_total )\n",
    "print(\"Frecuencia invalidez total 2: \", inv_fuentes_corriente + inv_fuentes_voltaje)\n",
    "inv_total = inv_fuentes_voltaje + inv_fuentes_corriente\n",
    "fr_inv = inv_total / experimentos\n",
    "fr_valido = 1 - fr_inv\n",
    "print(\"Frecuencia inválida: \", fr_inv)\n",
    "print(\"Frecuencia válida: \", fr_valido)\n",
    "\n",
    "# ---------------------------------- Cálculo teórico -------------------\n",
    "\n",
    "# # P[V] - Voltajes \n",
    "# # 1933 / 16384 = 0.118\n",
    "# # P[I] - Corrientes\n",
    "# # 5449 / 16384 = 0.333\n",
    "\n",
    "# total_combinaciones = 4**7 ## 16384 combinaciones posibles (7 elementos, 4 opciones cada uno)\n",
    "\n",
    "# ---------------------- Corrientes I -------------------\n",
    "\n",
    "inval_corriente_izq = (\n",
    "    ((math.comb(3, 2) * 3) +     # 2 fuentes de corriente en una malla\n",
    "    1) *                         # 3 fuentes de corriente en una malla\n",
    "    4**4                         # 4 opciones y 4 elementos en la otra malla\n",
    ") # = 2560\n",
    "\n",
    "inval_corriente_der = (\n",
    "    ((math.comb(3, 2) * 3) +     # 2 fuentes de corriente en una malla\n",
    "    1) *                         # 3 fuentes de corriente en una malla\n",
    "    4**4                         # 4 opciones y 4 elementos en la otra malla\n",
    ") # = 2560\n",
    "\n",
    "inval_corriente_medio = (\n",
    "    (math.comb(3, 1) * 3**2) * # = 27 Exactamente 1 fuente de corriente en una malla\n",
    "    (math.comb(3, 1) * 3**2) * # = 27 Exactamente 1 fuente de corriente en la otra malla\n",
    "    1                          # 1 fuente de corriente en el medio\n",
    ") # = 729\n",
    "\n",
    "# Superposición de fuentes de corriente en ambas mallas\n",
    "# 10 formas inválidas por cada malla independiente y 4 opciones para el medio = 10 * 10 * 4 = 400\n",
    "# Invalidez = 2560 + 2560 + 729 - 400 = 5449\n",
    "\n",
    "\n",
    "inv_corriente_medio = inval_corriente_der ** 2 * 1  # = 729\n",
    "\n",
    "\n",
    "print(\"Invalidez por fuentes de corriente en una malla: \", inval_corriente_izq)\n",
    "print(\"Invalidez por fuentes de corriente en el medio: \", inval_corriente_medio)\n",
    "print(\"Invalidez total (corriente): \", (inval_corriente_izq + inval_corriente_der + inval_corriente_medio) - 400) # = 5449\n",
    "\n",
    "# ---------------------- Voltajes V -------------------\n",
    "\n",
    "# Una malla (dos o más fuentes de voltaje)\n",
    "inval_voltaje_izq = (\n",
    "    (2 ** 4) *              # fuente de voltaje o corto (2 opciones) en cada posicion (4)\n",
    "    4**3                     # 4 opciones y 3 posiciones restantes en la otra malla\n",
    ") # = 16 * 64 = 1024\n",
    "\n",
    "inval_voltaje_der = (\n",
    "    (2 ** 4) *              # fuente de voltaje o corto (2 opciones) en cada posicion (4)\n",
    "    4**3                     # 4 opciones y 3 posiciones restantes en la otra malla\n",
    ") # = 16 * 64 = 1024\n",
    "\n",
    "# 15 / 256 \n",
    "\n",
    "inval_voltaje_ext = (\n",
    "    (2 ** 6) *              # fuentes de voltaje o cortos (2 opciones) en cada posicion (6) \n",
    "    4**1                    # 4 opciones y 1 posicion restante (medio)\n",
    ") # = 256\n",
    "\n",
    "# Superposición de fuentes de voltaje en ambas mallas\n",
    "# 2 elementos (voltaje - corto) en 3 posiciones por malla, 2 elementos válidos para el medio (corriente - resistencia)\n",
    "# Invalidez = 2**3 * 2**3 * 2 = 128\n",
    "\n",
    "# Superposición de fuentes de voltaje en una malla y la exterior\n",
    "# 2 elementos (voltaje - corto) en 6 posiciones de la malla exterior, 2 elementos inválidos para el medio (voltaje - corto)\n",
    "# Invalidez = 2**6 * 2 = 128\n",
    "\n",
    "# Superposición de fuentes de voltaje en ambas mallas y la exterior \n",
    "# 2 elementos (voltaje - corto) en 3 posiciones por malla, 2 elementos inválidos para el medio (voltaje - corto)\n",
    "# Invalidez = 2**3 * 2**3 * 2 = 128\n",
    "\n",
    "# Se restan las combinaciones de solo cortos que cumplen LVK (115)\n",
    "\n",
    "\n",
    "\n",
    "print(\"Combinaciones de fuentes de voltaje en una malla: \", inval_voltaje_izq)\n",
    "print(\"Combinaciones de fuentes de voltaje en la otra malla: \", inval_voltaje_der)\n",
    "print(\"Combinaciones de fuentes de voltaje en el medio: \", inval_voltaje_ext)\n",
    "print(\"Invalidez total (voltaje): \", inval_voltaje_izq + inval_voltaje_der + inval_voltaje_ext - 128 - 128 - 128 + 128 - (115)) # = 1984 1933"
   ]
  },
  {
   "cell_type": "markdown",
   "metadata": {},
   "source": [
    "# Actividad 3"
   ]
  },
  {
   "cell_type": "markdown",
   "metadata": {},
   "source": [
    "## Probabilidad condicional 1 malla"
   ]
  },
  {
   "cell_type": "code",
   "execution_count": 8,
   "metadata": {},
   "outputs": [],
   "source": [
    "def prob_condicional(elementos, x):\n",
    "    p = np.ones(len(x), dtype=float)\n",
    "\n",
    "    # Regla 1: máximo una fuente de corriente\n",
    "    if np.sum(np.array(elementos) == 5) >= 1:\n",
    "        p[np.array(x) == 5] = 0\n",
    "\n",
    "    # Regla 2: evitar que el circuito se forme solo con fuentes de voltaje y cortos\n",
    "    # pero permitir si todos son cortos\n",
    "    if len(elementos) == 3:\n",
    "        # solo hay cortos (2) y voltajes (4)\n",
    "        if all(e in [2, 4] for e in elementos):\n",
    "            # si no hay cortos, no permitir más voltajes o cortos\n",
    "            if 2 not in elementos:\n",
    "                # todos son voltajes (no permitido)\n",
    "                p[np.isin(x, [2, 4])] = 0\n",
    "            # si hay fuentes de voltaje y no hay resistencias\n",
    "            elif 4 in elementos and 3 not in elementos:\n",
    "                # hay mezcla de 2 y 4, pero sin resistencias: no permitir más 2 ni 4\n",
    "                p[np.isin(x, [2, 4])] = 0\n",
    "\n",
    "    p = p / np.sum(p)\n",
    "    return p"
   ]
  },
  {
   "cell_type": "markdown",
   "metadata": {},
   "source": [
    "## Generador circuito de una malla"
   ]
  },
  {
   "cell_type": "code",
   "execution_count": null,
   "metadata": {},
   "outputs": [],
   "source": [
    "\n",
    "\n"
   ]
  }
 ],
 "metadata": {
  "colab": {
   "collapsed_sections": [
    "Z9BSSnIY-pDE",
    "8osD0de_-jcW"
   ],
   "provenance": []
  },
  "kernelspec": {
   "display_name": "Python 3 (ipykernel)",
   "language": "python",
   "name": "python3"
  },
  "language_info": {
   "codemirror_mode": {
    "name": "ipython",
    "version": 3
   },
   "file_extension": ".py",
   "mimetype": "text/x-python",
   "name": "python",
   "nbconvert_exporter": "python",
   "pygments_lexer": "ipython3",
   "version": "3.12.4"
  }
 },
 "nbformat": 4,
 "nbformat_minor": 4
}
