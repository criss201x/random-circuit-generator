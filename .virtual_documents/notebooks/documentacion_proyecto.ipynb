


































































































from graphviz import Digraph

# Configuración del diagrama de función
func_dot = Digraph('ElementFlow', filename='element_func.gv')
func_dot.attr(rankdir='TB',
              size='8,10',
              bgcolor='#fff9f9',
              fontname='Arial',
              label='Función Auxiliar: dibujo_elemento(va)\nGeneración de Elementos Aleatorios\n\n',
              labelloc='t')

# Estilo para casos
case_style = {
    'shape': 'diamond',
    'style': 'filled',
    'fontname': 'Arial',
    'fontsize': '11'
}

# Nodos
func_dot.node('FStart', 'INICIO\n(Recibe va)', shape='component', fillcolor='#d1e7dd', color='#0a5c36')
func_dot.node('Case1', 'va == 1\nNo elemento', fillcolor='#f8d7da', color='#842029', **case_style)
func_dot.node('Case2', 'va == 2\nLínea', fillcolor='#d1e7dd', color='#0a5c36', **case_style)
func_dot.node('Case3', 'va == 3\nResistor', fillcolor='#d1e7dd', color='#0a5c36', **case_style)
func_dot.node('Case4', 'va == 4\nFuente Voltaje', fillcolor='#d1e7dd', color='#0a5c36', **case_style)
func_dot.node('Case5', 'va == 5\nFuente Corriente', fillcolor='#d1e7dd', color='#0a5c36', **case_style)
func_dot.node('FEnd', 'RETORNA\nElemento/None', shape='component', fillcolor='#d1e7dd', color='#0a5c36')

# Conexiones en forma de árbol
func_dot.edge('FStart', 'Case1')
func_dot.edge('Case1', 'Case2', label='else')
func_dot.edge('Case2', 'Case3', label='else')
func_dot.edge('Case3', 'Case4', label='else')
func_dot.edge('Case4', 'Case5', label='else')
func_dot.edge('Case5', 'FEnd')

# Leyenda de elementos
with func_dot.subgraph(name='cluster_legend') as legend:
    legend.attr(label='Tipos de Elementos',
                style='rounded,filled',
                fillcolor='#e7f5ff',
                color='#1864ab')
    legend.node('L1', 'Línea: Componente básico', shape='plaintext')
    legend.node('L2', 'Resistor: Elemento pasivo', shape='plaintext')
    legend.node('L3', 'FuenteV: Genera voltaje', shape='plaintext')
    legend.node('L4', 'FuenteI: Genera corriente', shape='plaintext')

func_dot





from graphviz import Digraph

# Configuración del diagrama principal
main_dot = Digraph('MainFlow', filename='main_circuit.gv')
main_dot.attr(rankdir='LR',
              size='16',
              bgcolor='#f8f9fa',
              fontname='Arial',
              label='Función Principal: dibujar_circuito(v, h)\n\n',
              labelloc='t')

# Estilo para nodos principales
main_style = {
    'style': 'filled,rounded',
    'fontname': 'Arial',
    'fontsize': '12',
    'penwidth': '2',
    'fillcolor': '#e2f0fd',
    'color': '#0d6efd'
}

# Nodos
main_dot.node('Start', 'INICIO', shape='doublecircle', fillcolor='#28a745', color='#1e7e34')
main_dot.node('Step1', '1. Línea Vertical ↑\nLlama: dibujo_elemento(v)', **main_style)
main_dot.node('Step2', '2. Línea Horizontal →\nLlama: dibujo_elemento(h)', **main_style)
main_dot.node('Step3', '3. Línea Vertical ↓\nLlama: dibujo_elemento(v)', **main_style)
main_dot.node('Step4', '4. Línea Horizontal ←\nLlama: dibujo_elemento(v)', **main_style)
main_dot.node('End', 'FIN', shape='doublecircle', fillcolor='#dc3545', color='#bd2130')

# Conexiones
main_dot.edges([
    ('Start', 'Step1'),
    ('Step1', 'Step2'),
    ('Step2', 'Step3'),
    ('Step3', 'Step4'),
    ('Step4', 'End')
])

# Nota de función
main_dot.node('FuncNote', 'Parámetros:\nv = elemento vertical\nh = elemento horizontal', 
              shape='note', fillcolor='#fff3bf', color='#ffc107')

main_dot





from graphviz import Digraph

dot = Digraph('LoopValidation', filename='loop_validation.gv')
dot.attr(rankdir='TB', size='10,8', bgcolor='#f8f9fa', fontname='Helvetica')

# ===== ESTILOS =====
node_style = {
    'style': 'filled',
    'fontname': 'Helvetica',
    'fontsize': '11',
    'shape': 'box',
    'penwidth': '1.5'
}

cond_style = {
    'shape': 'diamond',
    'fillcolor': '#ffec99',
    'color': '#ffc300',
    'fontname': 'Helvetica',
    'fontsize': '10'
}

# ===== NODOS PRINCIPALES =====
dot.node('Start', 'INICIO\nInicializar:\nx=0, y=0, i=0', 
         shape='ellipse', fillcolor='#40c057', color='#2b8a3e')

dot.node('Loop', 'Bucle While\ni < 100000', 
         fillcolor='#e9ecef', color='#495057', **node_style)

dot.node('GenArray', 'Generar array aleatorio\n(de elementos del circuito)', 
         fillcolor='#d0ebff', color='#1c7ed6', **node_style)

# ===== CONDICIÓN X =====
with dot.subgraph(name='cluster_x') as x_cluster:
    x_cluster.attr(label='más de una fuente de corriente', style='rounded,filled',
                  fillcolor='#fff3bf', color='#ffd43b')
    
    x_cluster.node('Check5', 'Contar elementos == fuente_corriente \n>= 2 elementos?', **cond_style)
    x_cluster.node('IncX', 'x += 1', 
                  fillcolor='#b2f2bb', color='#40c057', **node_style)

# ===== CONDICIÓN Y =====
with dot.subgraph(name='cluster_y') as y_cluster:
    y_cluster.attr(label='cuando hay solo fuente_voltaje y cortos', style='rounded,filled',
                  fillcolor='#ffdeeb', color='#f06595')
    
    y_cluster.node('CheckAll24', '¿Todos elementos\nson fuente_voltaje o cortos?', **cond_style)
    y_cluster.node('CheckAny4', '¿hay almenos una fuente de voltaje?', **cond_style)
    y_cluster.node('CheckAll2', '¿todos los elementos NO son cortocircuitos?', **cond_style)
    y_cluster.node('IncY', 'y += 1', 
                  fillcolor='#ffc9c9', color='#f03e3e', **node_style)

dot.node('End', 'FIN\nMostrar x, y', 
         shape='ellipse', fillcolor='#fa5252', color='#c92a2a')

# ===== CONEXIONES PRINCIPALES =====
dot.edge('Start', 'Loop')
dot.edge('Loop', 'GenArray', label='i++')
dot.edge('GenArray', 'Check5')

# Flujo Condición X
dot.edge('Check5', 'IncX', label='Sí')
dot.edge('Check5', 'CheckAll24', label='No')

# Flujo Condición Y
dot.edge('CheckAll24', 'CheckAny4', label='Sí')
dot.edge('CheckAll24', 'Loop', label='No', style='dashed')
dot.edge('CheckAny4', 'CheckAll2', label='Sí')
dot.edge('CheckAny4', 'Loop', label='No', style='dashed')
dot.edge('CheckAll2', 'IncY', label='Sí')
dot.edge('CheckAll2', 'Loop', label='No', style='dashed')

# Conexiones finales
dot.edge('IncX', 'Loop', style='dashed')
dot.edge('IncY', 'Loop', style='dashed')
dot.edge('Loop', 'End', label='i >= 100000')

# ===== NOTAS =====
dot.node('NoteX', 'x: condición criterio 1 para circuito de una malla', 
         shape='note', fillcolor='#e3fafc', color='#1098ad')
dot.node('NoteY', 'y: condición criterio 2 para circuito de una malla', 
         shape='note', fillcolor='#f3d9fa', color='#9c36b5')

dot.edge('NoteX', 'Check5', style='invis')
dot.edge('NoteY', 'CheckAll24', style='invis')

dot



